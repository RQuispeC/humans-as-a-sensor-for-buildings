{
 "cells": [
  {
   "cell_type": "markdown",
   "metadata": {},
   "source": [
    "# Random Forest Analysis of Cozie Data Tier 2\n",
    "- v21 mod\n",
    "- running seperate rf for each room\n",
    "- not grouping by room\n"
   ]
  },
  {
   "cell_type": "code",
   "execution_count": 30,
   "metadata": {},
   "outputs": [],
   "source": [
    "import numpy as np\n",
    "import pandas as pd\n",
    "from datetime import datetime\n",
    "import os\n",
    "\n",
    "# Preperation\n",
    "from sklearn.model_selection import train_test_split\n",
    "\n",
    "# Modeling\n",
    "from sklearn.ensemble import RandomForestClassifier\n",
    "from sklearn.cluster import KMeans\n",
    "\n",
    "# Visualisations\n",
    "from sklearn.tree import export_graphviz # Note that you need to brew install graphviz on your local machine\n",
    "import pydot \n",
    "import seaborn as sns\n",
    "import matplotlib.pyplot as plt\n",
    "import matplotlib.dates as mdates\n",
    "import matplotlib\n",
    "matplotlib.rcParams['font.sans-serif'] = \"Arial\"\n",
    "matplotlib.rcParams['font.family'] = \"sans-serif\"\n",
    "\n",
    "# Evaluation\n",
    "from sklearn import metrics\n",
    "\n",
    "# User Defined Functions\n",
    "import cozie_functions"
   ]
  },
  {
   "cell_type": "code",
   "execution_count": 31,
   "metadata": {},
   "outputs": [],
   "source": [
    "# Add Data Folder to Path\n",
    "data_path = os.path.abspath(os.path.join(os.path.dirname( \"__file__\" ), '..', 'data'))"
   ]
  },
  {
   "cell_type": "markdown",
   "metadata": {},
   "source": [
    "# Reading Data\n",
    "In this case we are first reading the data, and then reorganising them into groups. \n",
    "- First drop all unecessary data\n",
    "- Then drop all Sensing Data\n",
    "- Then drop all mbient Data\n",
    "\n",
    "Afterwards, created normalised datasets of the average value. See `cozie_functions.py`"
   ]
  },
  {
   "cell_type": "code",
   "execution_count": 32,
   "metadata": {},
   "outputs": [
    {
     "name": "stdout",
     "output_type": "stream",
     "text": [
      "['cresh01', 'cresh02', 'cresh03', 'cresh04', 'cresh05', 'cresh06', 'cresh07', 'cresh08', 'cresh09', 'cresh10', 'cresh11', 'cresh12', 'cresh13', 'cresh14', 'cresh15', 'cresh16', 'cresh17', 'cresh18', 'cresh19', 'cresh20', 'cresh21', 'cresh22', 'cresh23', 'cresh24', 'cresh25', 'cresh26', 'cresh27', 'cresh28', 'cresh29', 'cresh30']\n"
     ]
    }
   ],
   "source": [
    "# The following participants took part in the experiment:\n",
    "participant_ids = ['cresh' + str(id).zfill(2) for id in range(1,31)]\n",
    "print(participant_ids)"
   ]
  },
  {
   "cell_type": "code",
   "execution_count": 33,
   "metadata": {},
   "outputs": [],
   "source": [
    "# Read All Data \n",
    "\n",
    "feature_set_df = pd.read_csv(os.path.join(data_path, '2019-10-29_cozie_full.csv'))\n",
    "feature_set_df.drop(['Unnamed: 0', 'index', 'comfort_cozie', 'Space_id', 'Longitude',\n",
    "                     'Latitude', 'co2_sensing', 'voc_sensing', 'Floor', 'lat_cozie', \n",
    "                     'lon_cozie', 'responseSpeed_cozie'], axis=1, inplace=True)\n",
    "\n",
    "## Drop Mbient Data (Tier 1b)\n",
    "feature_set_df.drop([\"temperature_mbient\"], axis=1, inplace=True)\n",
    "\n",
    "## Drop Sensing Data (Tier 3)\n",
    "feature_set_df.drop([\"noise_sensing\",\n",
    "                    \"temperature_sensing\", \"humidity_sensing\", \"light_sensing\"], axis=1, inplace=True)\n",
    "\n",
    "\n",
    "feature_set_df.dropna(subset=['thermal_cozie', 'heartRate_cozie', \"room\"], inplace=True)\n",
    "\n",
    "# Drop User's that were trialing and not in the experiment\n",
    "feature_set_df = feature_set_df[feature_set_df.user_id.isin(participant_ids)]\n",
    "\n",
    "# Added in V3\n",
    "grouped_user_df = cozie_functions.normalise_total_cozie(feature_set_df, 'user_id', 10)\n",
    "grouped_user_df.drop([\"thermal_cozie\", \"heartRate_cozie\", \"clothing\",\n",
    "                      \"time\", \"room\", \"noise_cozie\", \"light_cozie\", ], axis=1, inplace=True)\n",
    "\n",
    "grouped_user_df.drop([\"thermaly_comfy\", 'aurally_comfy', 'visually_comfy'], axis=1, inplace=True)\n",
    "\n",
    "# Added in V5\n",
    "grouped_room_df = cozie_functions.normalise_total_cozie(feature_set_df, 'room', 5)\n",
    "grouped_room_df.drop([\"thermal_cozie\", \"heartRate_cozie\", \"clothing\",\n",
    "                      \"time\", \"user_id\", \"noise_cozie\", \"light_cozie\", ], axis=1, inplace=True)\n",
    "\n",
    "grouped_room_df.drop([\"thermaly_comfy\", 'aurally_comfy', 'visually_comfy'], axis=1, inplace=True)\n",
    "\n"
   ]
  },
  {
   "cell_type": "code",
   "execution_count": 34,
   "metadata": {},
   "outputs": [],
   "source": [
    "#feature_set_df[feature_set_df[\"room\"] == \"OPEN_EXHIBITION_SPACE_2\"]\n",
    "\n",
    "\n"
   ]
  },
  {
   "cell_type": "code",
   "execution_count": null,
   "metadata": {},
   "outputs": [],
   "source": []
  },
  {
   "cell_type": "markdown",
   "metadata": {},
   "source": [
    "# Feature Engineering\n",
    "\n",
    "## Clustering the data using kmeans\n",
    "\n",
    "### Clustering by User_ID"
   ]
  },
  {
   "cell_type": "markdown",
   "metadata": {},
   "source": [
    "### Combining Clusters back to feature set\n",
    "\n",
    "- Just some pandas logic to get the groups as a feature in the feature set"
   ]
  },
  {
   "cell_type": "code",
   "execution_count": 35,
   "metadata": {},
   "outputs": [],
   "source": [
    "# Extracting time for future rug plot\n",
    "starting_date = pd.to_datetime(\"4th November, 2019\")\n",
    "def create_rug_df(room):\n",
    "    \n",
    "    rug_df = pd.DataFrame()\n",
    "\n",
    "    room_df = feature_set_df[feature_set_df[\"room\"] == room]\n",
    "\n",
    "    rug_df[['time', 'thermal_cozie', 'light_cozie', 'noise_cozie']] = room_df[['time', 'thermal_cozie', 'light_cozie', 'noise_cozie']]\n",
    "    rug_df[\"time\"] = rug_df[\"time\"].apply(pd.Timestamp).dt.tz_convert('Asia/Singapore')\n",
    "\n",
    "    #Monday is 0, 4th November is a Monday\n",
    "    rug_df[\"minute_of_week\"] = rug_df['time'].dt.dayofweek*1440 + rug_df[\"time\"].dt.hour * 60 + rug_df[\"time\"].dt.minute\n",
    "\n",
    "    rug_df[\"hour_of_week\"] = pd.to_timedelta(rug_df['minute_of_week'], unit='m')\n",
    "    rug_df[\"starting_date\"] = starting_date\n",
    "\n",
    "    rug_df[\"forcast_time\"] = rug_df[\"starting_date\"] + rug_df[\"hour_of_week\"]\n",
    "    \n",
    "    return(rug_df)\n",
    "\n",
    "irc_rug_df = create_rug_df(\"IRC_LIBRARY_1\")\n",
    "open_rug_df = create_rug_df(\"OPEN_EXHIBITION_SPACE_2\")\n",
    "sde2_rug_df = create_rug_df(\"BUILDING_MATERIALS_LAB\")\n"
   ]
  },
  {
   "cell_type": "code",
   "execution_count": 36,
   "metadata": {},
   "outputs": [
    {
     "data": {
      "text/plain": [
       "[<matplotlib.lines.Line2D at 0x107152690>]"
      ]
     },
     "execution_count": 36,
     "metadata": {},
     "output_type": "execute_result"
    },
    {
     "data": {
      "image/png": "[encoded data removed]",
      "text/plain": [
       "<Figure size 432x288 with 1 Axes>"
      ]
     },
     "metadata": {
      "needs_background": "light"
     },
     "output_type": "display_data"
    }
   ],
   "source": [
    "#sns.rugplot(irc_rug_df[\"forcast_time\"])\n",
    "fig = plt.figure()\n",
    "ax4 = fig.add_subplot(111)\n",
    "\n",
    "\n",
    "\n",
    "#irc_rug_df[\"thermal_cozie\"] == 9\n",
    "\n",
    "ax4.plot(irc_rug_df[\"forcast_time\"], irc_rug_df[\"thermal_cozie\"]-9, color='k',marker = '|', linestyle=\"None\")  # rug plot\n",
    "#ax4.plot(irc_rug_df[\"forcast_time\"], np.zeros(irc_rug_df[\"forcast_time\"].shape), color='r',marker = '+', ms=2, ls = \"None\")  # rug plot\n",
    "\n",
    "#x_eval = np.linspace(-10, 10, num=200)\n",
    "#ax4.plot(x_eval, kde1(x_eval), 'k-', label=\"Scott's Rule\")\n",
    "#ax4.plot(x_eval, kde1(x_eval), 'r-', label=\"Silverman's Rule\")"
   ]
  },
  {
   "cell_type": "code",
   "execution_count": 37,
   "metadata": {},
   "outputs": [
    {
     "data": {
      "text/plain": [
       "156    2019-11-08 15:52:00\n",
       "369    2019-11-04 15:35:00\n",
       "376    2019-11-04 15:53:00\n",
       "379    2019-11-04 16:09:00\n",
       "383    2019-11-04 16:23:00\n",
       "387    2019-11-04 16:39:00\n",
       "392    2019-11-04 16:54:00\n",
       "401    2019-11-04 17:08:00\n",
       "409    2019-11-04 17:25:00\n",
       "513    2019-11-05 11:19:00\n",
       "573    2019-11-05 13:59:00\n",
       "575    2019-11-05 14:08:00\n",
       "586    2019-11-05 14:39:00\n",
       "591    2019-11-05 14:55:00\n",
       "620    2019-11-05 15:56:00\n",
       "629    2019-11-05 16:17:00\n",
       "639    2019-11-05 16:32:00\n",
       "644    2019-11-05 16:47:00\n",
       "647    2019-11-05 17:02:00\n",
       "657    2019-11-05 17:17:00\n",
       "680    2019-11-05 18:45:00\n",
       "684    2019-11-05 19:07:00\n",
       "697    2019-11-05 20:02:00\n",
       "698    2019-11-05 20:02:00\n",
       "703    2019-11-05 20:22:00\n",
       "706    2019-11-05 20:34:00\n",
       "712    2019-11-05 20:49:00\n",
       "816    2019-11-06 11:11:00\n",
       "830    2019-11-06 11:33:00\n",
       "833    2019-11-06 11:42:00\n",
       "               ...        \n",
       "3602   2019-11-08 12:59:00\n",
       "3605   2019-11-08 13:15:00\n",
       "3609   2019-11-08 13:30:00\n",
       "3612   2019-11-08 13:45:00\n",
       "3615   2019-11-08 14:00:00\n",
       "3619   2019-11-08 14:16:00\n",
       "3621   2019-11-08 14:31:00\n",
       "3624   2019-11-08 14:46:00\n",
       "3629   2019-11-08 15:01:00\n",
       "3637   2019-11-08 15:30:00\n",
       "3639   2019-11-08 15:33:00\n",
       "3640   2019-11-08 15:45:00\n",
       "3641   2019-11-08 15:46:00\n",
       "3642   2019-11-08 16:00:00\n",
       "3643   2019-11-08 16:01:00\n",
       "3645   2019-11-08 16:15:00\n",
       "3646   2019-11-08 16:16:00\n",
       "3648   2019-11-08 16:30:00\n",
       "3650   2019-11-08 16:31:00\n",
       "3651   2019-11-08 16:45:00\n",
       "3653   2019-11-08 16:47:00\n",
       "3654   2019-11-08 17:01:00\n",
       "3659   2019-11-08 17:14:00\n",
       "3661   2019-11-08 17:20:00\n",
       "3662   2019-11-08 17:29:00\n",
       "3664   2019-11-08 17:36:00\n",
       "3666   2019-11-08 17:44:00\n",
       "3667   2019-11-08 17:51:00\n",
       "3668   2019-11-08 17:59:00\n",
       "3670   2019-11-08 18:14:00\n",
       "Name: forcast_time, Length: 424, dtype: datetime64[ns]"
      ]
     },
     "execution_count": 37,
     "metadata": {},
     "output_type": "execute_result"
    }
   ],
   "source": [
    "irc_rug_df[\"forcast_time\"]"
   ]
  },
  {
   "cell_type": "code",
   "execution_count": 38,
   "metadata": {},
   "outputs": [
    {
     "data": {
      "text/html": [
       "<div>\n",
       "<style scoped>\n",
       "    .dataframe tbody tr th:only-of-type {\n",
       "        vertical-align: middle;\n",
       "    }\n",
       "\n",
       "    .dataframe tbody tr th {\n",
       "        vertical-align: top;\n",
       "    }\n",
       "\n",
       "    .dataframe thead th {\n",
       "        text-align: right;\n",
       "    }\n",
       "</style>\n",
       "<table border=\"1\" class=\"dataframe\">\n",
       "  <thead>\n",
       "    <tr style=\"text-align: right;\">\n",
       "      <th></th>\n",
       "      <th>clothing</th>\n",
       "      <th>heartRate_cozie</th>\n",
       "      <th>light_cozie</th>\n",
       "      <th>noise_cozie</th>\n",
       "      <th>thermal_cozie</th>\n",
       "      <th>user_id</th>\n",
       "      <th>room</th>\n",
       "      <th>hour_sin</th>\n",
       "      <th>hour_cos</th>\n",
       "      <th>day_of_week_sin</th>\n",
       "      <th>day_of_week_cos</th>\n",
       "    </tr>\n",
       "  </thead>\n",
       "  <tbody>\n",
       "    <tr>\n",
       "      <th>118</th>\n",
       "      <td>11.0</td>\n",
       "      <td>70.0</td>\n",
       "      <td>10.0</td>\n",
       "      <td>10.0</td>\n",
       "      <td>10.0</td>\n",
       "      <td>cresh07</td>\n",
       "      <td>BUILDING_MATERIALS_LAB</td>\n",
       "      <td>-0.342020</td>\n",
       "      <td>-0.939693</td>\n",
       "      <td>-0.433884</td>\n",
       "      <td>-0.900969</td>\n",
       "    </tr>\n",
       "    <tr>\n",
       "      <th>120</th>\n",
       "      <td>10.0</td>\n",
       "      <td>83.0</td>\n",
       "      <td>10.0</td>\n",
       "      <td>10.0</td>\n",
       "      <td>11.0</td>\n",
       "      <td>cresh10</td>\n",
       "      <td>BUILDING_MATERIALS_LAB</td>\n",
       "      <td>-0.346117</td>\n",
       "      <td>-0.938191</td>\n",
       "      <td>-0.433884</td>\n",
       "      <td>-0.900969</td>\n",
       "    </tr>\n",
       "    <tr>\n",
       "      <th>122</th>\n",
       "      <td>11.0</td>\n",
       "      <td>61.0</td>\n",
       "      <td>10.0</td>\n",
       "      <td>10.0</td>\n",
       "      <td>10.0</td>\n",
       "      <td>cresh07</td>\n",
       "      <td>BUILDING_MATERIALS_LAB</td>\n",
       "      <td>-0.382683</td>\n",
       "      <td>-0.923880</td>\n",
       "      <td>-0.433884</td>\n",
       "      <td>-0.900969</td>\n",
       "    </tr>\n",
       "    <tr>\n",
       "      <th>123</th>\n",
       "      <td>10.0</td>\n",
       "      <td>92.0</td>\n",
       "      <td>10.0</td>\n",
       "      <td>10.0</td>\n",
       "      <td>11.0</td>\n",
       "      <td>cresh10</td>\n",
       "      <td>BUILDING_MATERIALS_LAB</td>\n",
       "      <td>-0.382683</td>\n",
       "      <td>-0.923880</td>\n",
       "      <td>-0.433884</td>\n",
       "      <td>-0.900969</td>\n",
       "    </tr>\n",
       "    <tr>\n",
       "      <th>124</th>\n",
       "      <td>11.0</td>\n",
       "      <td>70.0</td>\n",
       "      <td>10.0</td>\n",
       "      <td>10.0</td>\n",
       "      <td>10.0</td>\n",
       "      <td>cresh07</td>\n",
       "      <td>BUILDING_MATERIALS_LAB</td>\n",
       "      <td>-0.465615</td>\n",
       "      <td>-0.884988</td>\n",
       "      <td>-0.433884</td>\n",
       "      <td>-0.900969</td>\n",
       "    </tr>\n",
       "  </tbody>\n",
       "</table>\n",
       "</div>"
      ],
      "text/plain": [
       "     clothing  heartRate_cozie  light_cozie  noise_cozie  thermal_cozie  \\\n",
       "118      11.0             70.0         10.0         10.0           10.0   \n",
       "120      10.0             83.0         10.0         10.0           11.0   \n",
       "122      11.0             61.0         10.0         10.0           10.0   \n",
       "123      10.0             92.0         10.0         10.0           11.0   \n",
       "124      11.0             70.0         10.0         10.0           10.0   \n",
       "\n",
       "     user_id                    room  hour_sin  hour_cos  day_of_week_sin  \\\n",
       "118  cresh07  BUILDING_MATERIALS_LAB -0.342020 -0.939693        -0.433884   \n",
       "120  cresh10  BUILDING_MATERIALS_LAB -0.346117 -0.938191        -0.433884   \n",
       "122  cresh07  BUILDING_MATERIALS_LAB -0.382683 -0.923880        -0.433884   \n",
       "123  cresh10  BUILDING_MATERIALS_LAB -0.382683 -0.923880        -0.433884   \n",
       "124  cresh07  BUILDING_MATERIALS_LAB -0.465615 -0.884988        -0.433884   \n",
       "\n",
       "     day_of_week_cos  \n",
       "118        -0.900969  \n",
       "120        -0.900969  \n",
       "122        -0.900969  \n",
       "123        -0.900969  \n",
       "124        -0.900969  "
      ]
     },
     "execution_count": 38,
     "metadata": {},
     "output_type": "execute_result"
    }
   ],
   "source": [
    "feature_set_df['time'] = feature_set_df['time'].apply(pd.Timestamp).dt.tz_convert('Asia/Singapore')\n",
    "\n",
    "# get minute of the day and day of the week\n",
    "feature_set_df['time_minute'] = feature_set_df['time'].dt.hour * 60 + feature_set_df['time'].dt.minute\n",
    "feature_set_df['day_of_week'] = feature_set_df['time'].dt.dayofweek\n",
    "\n",
    "# Create cyclical features for the time and day of the week\n",
    "feature_set_df['hour_sin'] = np.sin(feature_set_df.time_minute * (2. * np.pi/1440)) #24*60 = 1440\n",
    "feature_set_df['hour_cos'] = np.cos(feature_set_df.time_minute * (2. * np.pi/1440))\n",
    "\n",
    "feature_set_df['day_of_week_sin'] = np.sin(feature_set_df.day_of_week * (2. * np.pi/7))\n",
    "feature_set_df['day_of_week_cos'] = np.cos(feature_set_df.day_of_week * (2. * np.pi/7))\n",
    "\n",
    "feature_set_df.drop(['time', 'time_minute', 'day_of_week'], axis=1, inplace=True)\n",
    "\n",
    "# Let's get an overview of the features we have\n",
    "feature_set_df.head()"
   ]
  },
  {
   "cell_type": "code",
   "execution_count": 39,
   "metadata": {},
   "outputs": [],
   "source": [
    "#Take average results and map it back to the feature_set\n",
    "\n",
    "preferences = ['prefer_cooler', 'prefer_warmer', 'prefer_dimmer', 'prefer_brighter','prefer_quieter', 'prefer_louder']\n",
    "\n",
    "for preference in preferences:\n",
    "    map_dict = grouped_user_df[preference].to_dict()\n",
    "    label = \"user_grouped_\" + preference.split(\"_\")[1]\n",
    "    feature_set_df[label] = feature_set_df['user_id'].map(map_dict)\n",
    "\n",
    "#Deleted the room mapping \n",
    "\n",
    "# Do this by first creating a dictionary, and then running the .map method\n",
    "\n",
    "feature_set_df.dropna(subset=[\"user_grouped_cooler\", \"user_grouped_warmer\"], inplace=True)\n",
    "#"
   ]
  },
  {
   "cell_type": "code",
   "execution_count": null,
   "metadata": {},
   "outputs": [],
   "source": []
  },
  {
   "cell_type": "code",
   "execution_count": 40,
   "metadata": {},
   "outputs": [],
   "source": [
    "open_feature_set_df = feature_set_df[feature_set_df[\"room\"] == \"OPEN_EXHIBITION_SPACE_2\"]"
   ]
  },
  {
   "cell_type": "code",
   "execution_count": 41,
   "metadata": {},
   "outputs": [],
   "source": [
    "irc_feature_set_df = feature_set_df[feature_set_df[\"room\"] == \"IRC_LIBRARY_1\"]"
   ]
  },
  {
   "cell_type": "code",
   "execution_count": 42,
   "metadata": {},
   "outputs": [],
   "source": [
    "sde2_feature_set_df = feature_set_df[feature_set_df[\"room\"] == \"BUILDING_MATERIALS_LAB\"]"
   ]
  },
  {
   "cell_type": "code",
   "execution_count": 43,
   "metadata": {},
   "outputs": [],
   "source": [
    "feature_set_df.drop([\"user_id\", \"room\"], axis=1, inplace=True)"
   ]
  },
  {
   "cell_type": "markdown",
   "metadata": {},
   "source": [
    "### Extracting time as a feature and converting it to polar coordinate\n",
    "\n",
    "- As time (such as hour in a day, or day in a week) is not a linear metric, it is important to convert it to polar coordinates\n",
    "- http://blog.davidkaleko.com/feature-engineering-cyclical-features.html"
   ]
  },
  {
   "cell_type": "code",
   "execution_count": 44,
   "metadata": {},
   "outputs": [
    {
     "name": "stdout",
     "output_type": "stream",
     "text": [
      "(140, 17)\n",
      "(424, 17)\n",
      "(195, 17)\n"
     ]
    }
   ],
   "source": [
    "print(open_feature_set_df.shape)\n",
    "print(irc_feature_set_df.shape)\n",
    "print(sde2_feature_set_df.shape)"
   ]
  },
  {
   "cell_type": "code",
   "execution_count": 45,
   "metadata": {},
   "outputs": [
    {
     "data": {
      "text/plain": [
       "Index(['clothing', 'heartRate_cozie', 'light_cozie', 'noise_cozie',\n",
       "       'thermal_cozie', 'hour_sin', 'hour_cos', 'day_of_week_sin',\n",
       "       'day_of_week_cos', 'user_grouped_cooler', 'user_grouped_warmer',\n",
       "       'user_grouped_dimmer', 'user_grouped_brighter', 'user_grouped_quieter',\n",
       "       'user_grouped_louder'],\n",
       "      dtype='object')"
      ]
     },
     "execution_count": 45,
     "metadata": {},
     "output_type": "execute_result"
    }
   ],
   "source": [
    "# Let's get a statistical overview of the features we have\n",
    "feature_set_df.columns"
   ]
  },
  {
   "cell_type": "markdown",
   "metadata": {},
   "source": [
    "### Hot Encoding Catergorical Features\n",
    "- Here is a great explanation on why this is important https://hackernoon.com/what-is-one-hot-encoding-why-and-when-do-you-have-to-use-it-e3c6186d008f"
   ]
  },
  {
   "cell_type": "code",
   "execution_count": 46,
   "metadata": {},
   "outputs": [],
   "source": [
    "# Convert Rooms and user Id to binary inputs (Hot Encoding)\n",
    "## Modified in V3, and V5\n",
    "\n",
    "#feature_set_df = pd.get_dummies(feature_set_df, columns=['room_cluster', 'user_cluster'])\n",
    "#print(list(feature_set_df.columns))"
   ]
  },
  {
   "cell_type": "code",
   "execution_count": 47,
   "metadata": {},
   "outputs": [
    {
     "name": "stdout",
     "output_type": "stream",
     "text": [
      "(1516, 15)\n",
      "(1455, 15)\n",
      "Index(['clothing', 'heartRate_cozie', 'light_cozie', 'noise_cozie',\n",
      "       'thermal_cozie', 'hour_sin', 'hour_cos', 'day_of_week_sin',\n",
      "       'day_of_week_cos', 'user_grouped_cooler', 'user_grouped_warmer',\n",
      "       'user_grouped_dimmer', 'user_grouped_brighter', 'user_grouped_quieter',\n",
      "       'user_grouped_louder'],\n",
      "      dtype='object')\n"
     ]
    }
   ],
   "source": [
    "# Check if our feature set has any NaN's\n",
    "print(feature_set_df.shape)\n",
    "print(feature_set_df.dropna().shape)\n",
    "print(feature_set_df.columns)"
   ]
  },
  {
   "cell_type": "markdown",
   "metadata": {},
   "source": [
    "### Split Training and Testing Data\n",
    "- currently splitting to a 4:1 train:test split"
   ]
  },
  {
   "cell_type": "code",
   "execution_count": 48,
   "metadata": {},
   "outputs": [
    {
     "name": "stdout",
     "output_type": "stream",
     "text": [
      "Index(['clothing', 'heartRate_cozie', 'hour_sin', 'hour_cos',\n",
      "       'day_of_week_sin', 'day_of_week_cos', 'user_grouped_cooler',\n",
      "       'user_grouped_warmer'],\n",
      "      dtype='object')\n",
      "Index(['clothing', 'heartRate_cozie', 'hour_sin', 'hour_cos',\n",
      "       'day_of_week_sin', 'day_of_week_cos', 'user_grouped_dimmer',\n",
      "       'user_grouped_brighter'],\n",
      "      dtype='object')\n",
      "Index(['clothing', 'heartRate_cozie', 'hour_sin', 'hour_cos',\n",
      "       'day_of_week_sin', 'day_of_week_cos', 'user_grouped_quieter',\n",
      "       'user_grouped_louder'],\n",
      "      dtype='object')\n",
      "Index(['clothing', 'heartRate_cozie', 'hour_sin', 'hour_cos',\n",
      "       'day_of_week_sin', 'day_of_week_cos', 'user_grouped_cooler',\n",
      "       'user_grouped_warmer'],\n",
      "      dtype='object')\n",
      "Index(['clothing', 'heartRate_cozie', 'hour_sin', 'hour_cos',\n",
      "       'day_of_week_sin', 'day_of_week_cos', 'user_grouped_dimmer',\n",
      "       'user_grouped_brighter'],\n",
      "      dtype='object')\n",
      "Index(['clothing', 'heartRate_cozie', 'hour_sin', 'hour_cos',\n",
      "       'day_of_week_sin', 'day_of_week_cos', 'user_grouped_quieter',\n",
      "       'user_grouped_louder'],\n",
      "      dtype='object')\n",
      "Index(['clothing', 'heartRate_cozie', 'hour_sin', 'hour_cos',\n",
      "       'day_of_week_sin', 'day_of_week_cos', 'user_grouped_cooler',\n",
      "       'user_grouped_warmer'],\n",
      "      dtype='object')\n",
      "Index(['clothing', 'heartRate_cozie', 'hour_sin', 'hour_cos',\n",
      "       'day_of_week_sin', 'day_of_week_cos', 'user_grouped_dimmer',\n",
      "       'user_grouped_brighter'],\n",
      "      dtype='object')\n",
      "Index(['clothing', 'heartRate_cozie', 'hour_sin', 'hour_cos',\n",
      "       'day_of_week_sin', 'day_of_week_cos', 'user_grouped_quieter',\n",
      "       'user_grouped_louder'],\n",
      "      dtype='object')\n"
     ]
    }
   ],
   "source": [
    "thermal_feature_list = ['clothing', 'heartRate_cozie', 'hour_sin', 'hour_cos', \n",
    "'day_of_week_sin', 'day_of_week_cos', 'user_grouped_cooler', 'user_grouped_warmer']\n",
    "\n",
    "noise_feature_list = ['clothing', 'heartRate_cozie', 'hour_sin', 'hour_cos', \n",
    "'day_of_week_sin', 'day_of_week_cos', 'user_grouped_quieter', 'user_grouped_louder']\n",
    "\n",
    "light_feature_list = ['clothing', 'heartRate_cozie', 'hour_sin', 'hour_cos', \n",
    "'day_of_week_sin', 'day_of_week_cos', 'user_grouped_dimmer', 'user_grouped_brighter']\n",
    "\n",
    "def prepare_room_data(dataframe):\n",
    "\n",
    "    \n",
    "    thermal_test_train = create_training_data(dataframe, preference=\"thermal\", feature_list = thermal_feature_list)\n",
    "    #thermal_train_features, thermal_test_features, thermal_train_labels, thermal_test_labels = thermal_test_train\n",
    "\n",
    "    light_test_train = create_training_data(dataframe, preference=\"light\", feature_list = light_feature_list)\n",
    "    #light_train_features, light_test_features, light_train_labels, light_test_labels = light_test_train\n",
    "\n",
    "    \n",
    "    noise_test_train = create_training_data(dataframe, preference=\"noise\", feature_list = noise_feature_list)\n",
    "    #noise_train_features, noise_test_features, noise_train_labels, noise_test_labels = noise_test_train\n",
    "\n",
    "\n",
    "    return(thermal_test_train, light_test_train, noise_test_train)\n",
    "    \n",
    "def create_training_data(dataframe, preference, feature_list):\n",
    "    clean_dataframe = dataframe.copy(deep=True)\n",
    "    clean_dataframe.dropna(subset = [preference + '_cozie'], inplace = True)\n",
    "    \n",
    "    labels = np.array(clean_dataframe[preference + '_cozie'])\n",
    "\n",
    "    features_df = clean_dataframe[feature_list]\n",
    "    print(features_df.columns)\n",
    "    feature_set = np.array(features_df)\n",
    "    \n",
    "    train_features, test_features, train_labels, test_labels = train_test_split(feature_set, \n",
    "        labels, \n",
    "        test_size = 0.25, \n",
    "        random_state = 42)\n",
    "\n",
    "    \n",
    "    return(train_features, test_features, train_labels, test_labels)\n",
    "# thermal_train_features, thermal_test_features, thermal_train_labels, thermal_test_labels\n",
    "\n",
    "\n",
    "irc_data = prepare_room_data(irc_feature_set_df)\n",
    "\n",
    "open_data = prepare_room_data(open_feature_set_df)\n",
    "\n",
    "sde2_data = prepare_room_data(sde2_feature_set_df)\n",
    "\n"
   ]
  },
  {
   "cell_type": "code",
   "execution_count": null,
   "metadata": {},
   "outputs": [],
   "source": []
  },
  {
   "cell_type": "code",
   "execution_count": 49,
   "metadata": {},
   "outputs": [
    {
     "name": "stdout",
     "output_type": "stream",
     "text": [
      "IRC Data shape is\n",
      "Thermal Training Features Shape: (318, 8)\n",
      "Thermal Training Labels Shape: (318,)\n",
      "Thermal Testing Features Shape: (106, 8)\n",
      "Thermal Testing Labels Shape: (106,)\n",
      "\n",
      "Noise Training Features Shape: (294, 8)\n",
      "Noise Training Labels Shape: (294,)\n",
      "Noise Testing Features Shape: (98, 8)\n",
      "Noise Testing Labels Shape: (98,)\n",
      "\n",
      "Light Training Features Shape: (318, 8)\n",
      "Light Training Labels Shape: (318,)\n",
      "Light Testing Features Shape: (106, 8)\n",
      "Light Testing Labels Shape: (106,)\n",
      "open exhubition space Data shape is\n",
      "Thermal Training Features Shape: (105, 8)\n",
      "Thermal Training Labels Shape: (105,)\n",
      "Thermal Testing Features Shape: (35, 8)\n",
      "Thermal Testing Labels Shape: (35,)\n",
      "\n",
      "Noise Training Features Shape: (104, 8)\n",
      "Noise Training Labels Shape: (104,)\n",
      "Noise Testing Features Shape: (35, 8)\n",
      "Noise Testing Labels Shape: (35,)\n",
      "\n",
      "Light Training Features Shape: (105, 8)\n",
      "Light Training Labels Shape: (105,)\n",
      "Light Testing Features Shape: (35, 8)\n",
      "Light Testing Labels Shape: (35,)\n",
      "SDE2 bml Data shape is\n",
      "Thermal Training Features Shape: (146, 8)\n",
      "Thermal Training Labels Shape: (146,)\n",
      "Thermal Testing Features Shape: (49, 8)\n",
      "Thermal Testing Labels Shape: (49,)\n",
      "\n",
      "Noise Training Features Shape: (131, 8)\n",
      "Noise Training Labels Shape: (131,)\n",
      "Noise Testing Features Shape: (44, 8)\n",
      "Noise Testing Labels Shape: (44,)\n",
      "\n",
      "Light Training Features Shape: (146, 8)\n",
      "Light Training Labels Shape: (146,)\n",
      "Light Testing Features Shape: (49, 8)\n",
      "Light Testing Labels Shape: (49,)\n"
     ]
    }
   ],
   "source": [
    "def print_data_shape(data):\n",
    "    thermal_train_features, thermal_test_features, thermal_train_labels, thermal_test_labels = data[0]\n",
    "    light_train_features, light_test_features, light_train_labels, light_test_labels = data[1]\n",
    "    noise_train_features, noise_test_features, noise_train_labels, noise_test_labels = data[2]\n",
    "    print('Thermal Training Features Shape:', thermal_train_features.shape)\n",
    "    print('Thermal Training Labels Shape:', thermal_train_labels.shape)\n",
    "    print('Thermal Testing Features Shape:', thermal_test_features.shape)\n",
    "    print('Thermal Testing Labels Shape:', thermal_test_labels.shape)\n",
    "    print('')\n",
    "    print('Noise Training Features Shape:', noise_train_features.shape)\n",
    "    print('Noise Training Labels Shape:', noise_train_labels.shape)\n",
    "    print('Noise Testing Features Shape:', noise_test_features.shape)\n",
    "    print('Noise Testing Labels Shape:', noise_test_labels.shape)\n",
    "    print('')\n",
    "    print('Light Training Features Shape:', light_train_features.shape)\n",
    "    print('Light Training Labels Shape:', light_train_labels.shape)\n",
    "    print('Light Testing Features Shape:', light_test_features.shape)\n",
    "    print('Light Testing Labels Shape:', light_test_labels.shape)\n",
    "print(\"IRC Data shape is\")\n",
    "print_data_shape(irc_data)\n",
    "\n",
    "print(\"open exhubition space Data shape is\")\n",
    "print_data_shape(open_data)\n",
    "\n",
    "print(\"SDE2 bml Data shape is\")\n",
    "print_data_shape(sde2_data)"
   ]
  },
  {
   "cell_type": "code",
   "execution_count": null,
   "metadata": {},
   "outputs": [],
   "source": []
  },
  {
   "cell_type": "markdown",
   "metadata": {},
   "source": [
    "# Modeling Using Random Forests\n",
    "- Nothing too fancy here"
   ]
  },
  {
   "cell_type": "code",
   "execution_count": 50,
   "metadata": {},
   "outputs": [],
   "source": [
    "\n",
    "def build_rf(data):\n",
    "    thermal_train_features, thermal_test_features, thermal_train_labels, thermal_test_labels = data[0]\n",
    "    light_train_features, light_test_features, light_train_labels, light_test_labels = data[1]\n",
    "    noise_train_features, noise_test_features, noise_train_labels, noise_test_labels = data[2]\n",
    "    \n",
    "    # Instantiate model with 1000 decision trees\n",
    "    thermal_rf = RandomForestClassifier(n_estimators = 1000, random_state = 42 )\n",
    "    # Train the model on training data\n",
    "    thermal_rf.fit(thermal_train_features, thermal_train_labels);\n",
    "    # Use the forest's predict method on the test data\n",
    "    thermal_predictions = thermal_rf.predict(thermal_test_features)\n",
    "    \n",
    "    # Instantiate model with 1000 decision trees\n",
    "    light_rf = RandomForestClassifier(n_estimators = 1000, random_state = 42 )\n",
    "    # Train the model on training data\n",
    "    light_rf.fit(light_train_features, light_train_labels);\n",
    "    # Use the forest's predict method on the test data\n",
    "    light_predictions = light_rf.predict(light_test_features)\n",
    "\n",
    "    # Instantiate model with 1000 decision trees\n",
    "    noise_rf = RandomForestClassifier(n_estimators = 1000, random_state = 42 )\n",
    "    # Train the model on training data\n",
    "    noise_rf.fit(noise_train_features, noise_train_labels);\n",
    "    # Use the forest's predict method on the test data\n",
    "    noise_predictions = noise_rf.predict(noise_test_features)\n",
    "\n",
    "\n",
    "    return({\"forests\": {\"thermal\": thermal_rf, \"light\": light_rf, \"noise\": noise_rf},\n",
    "           \"predictions\": {\"thermal\": thermal_predictions, \"light\": light_predictions,\n",
    "                           \"noise\": noise_predictions}})"
   ]
  },
  {
   "cell_type": "code",
   "execution_count": 51,
   "metadata": {},
   "outputs": [],
   "source": [
    "\n",
    "irc_forest = build_rf(irc_data)\n",
    "open_forest = build_rf(open_data)\n",
    "sde2_forest = build_rf(sde2_data)"
   ]
  },
  {
   "cell_type": "code",
   "execution_count": 52,
   "metadata": {},
   "outputs": [
    {
     "data": {
      "text/plain": [
       "{'forests': {'thermal': RandomForestClassifier(bootstrap=True, class_weight=None, criterion='gini',\n",
       "              max_depth=None, max_features='auto', max_leaf_nodes=None,\n",
       "              min_impurity_decrease=0.0, min_impurity_split=None,\n",
       "              min_samples_leaf=1, min_samples_split=2,\n",
       "              min_weight_fraction_leaf=0.0, n_estimators=1000, n_jobs=None,\n",
       "              oob_score=False, random_state=42, verbose=0, warm_start=False),\n",
       "  'light': RandomForestClassifier(bootstrap=True, class_weight=None, criterion='gini',\n",
       "              max_depth=None, max_features='auto', max_leaf_nodes=None,\n",
       "              min_impurity_decrease=0.0, min_impurity_split=None,\n",
       "              min_samples_leaf=1, min_samples_split=2,\n",
       "              min_weight_fraction_leaf=0.0, n_estimators=1000, n_jobs=None,\n",
       "              oob_score=False, random_state=42, verbose=0, warm_start=False),\n",
       "  'noise': RandomForestClassifier(bootstrap=True, class_weight=None, criterion='gini',\n",
       "              max_depth=None, max_features='auto', max_leaf_nodes=None,\n",
       "              min_impurity_decrease=0.0, min_impurity_split=None,\n",
       "              min_samples_leaf=1, min_samples_split=2,\n",
       "              min_weight_fraction_leaf=0.0, n_estimators=1000, n_jobs=None,\n",
       "              oob_score=False, random_state=42, verbose=0, warm_start=False)},\n",
       " 'predictions': {'thermal': array([10., 11., 10., 10., 10., 11., 10., 10., 11., 10., 10., 10.,  9.,\n",
       "         10., 10., 10., 10., 10.,  9., 10., 10., 11.,  9., 10., 10.,  9.,\n",
       "         10., 10., 11., 10., 10., 11.,  9., 10., 10., 11., 10., 10., 10.,\n",
       "         11., 10., 10.,  9., 10., 10., 10., 10., 10., 11., 10., 10., 10.,\n",
       "         10., 10., 11., 10., 10.,  9., 10., 10.,  9., 10., 10., 10., 10.,\n",
       "         11.,  9., 11., 10., 11., 10.,  9., 10., 10., 10., 10., 10., 10.,\n",
       "          9.,  9., 10., 10., 10., 10., 11., 10., 11., 10., 11., 10., 10.,\n",
       "         10., 11., 11., 11., 10., 10., 10., 10., 11.,  9., 10., 10., 10.,\n",
       "         10., 10.]),\n",
       "  'light': array([11., 10., 11., 10., 10., 10., 10., 10., 10., 10., 10., 10., 10.,\n",
       "         10., 10., 10., 10., 10., 10., 10., 10., 10., 10., 10., 11., 10.,\n",
       "         10., 10., 10., 10., 10., 11.,  9., 10., 10., 11., 10., 10., 10.,\n",
       "         10., 10., 10., 10., 10., 10., 10., 10., 10., 10., 10., 10., 10.,\n",
       "         10., 10., 10., 10., 10.,  9., 10., 10., 10., 10., 10., 10., 10.,\n",
       "         10.,  9., 10., 10., 10.,  9., 10., 10., 10., 10., 10., 10., 10.,\n",
       "         10., 10., 10., 10., 10., 10., 10., 10., 10., 10., 10., 10., 10.,\n",
       "         10., 10.,  9.,  9., 10., 10., 10., 10., 10., 10., 10., 10., 10.,\n",
       "         10., 10.]),\n",
       "  'noise': array([10., 10., 10., 10., 10., 10., 11., 10., 10., 10., 10., 10., 10.,\n",
       "         10., 10., 10., 10., 10., 10., 10., 10., 10., 10., 10., 10., 10.,\n",
       "         10., 10., 10., 10., 10., 10., 10., 10., 10., 10., 10., 10., 10.,\n",
       "         10., 10., 10., 10., 10., 10., 10., 10., 10., 10., 10., 11., 10.,\n",
       "         10., 10., 10., 10., 10., 10., 10., 10., 10., 10., 10., 10., 10.,\n",
       "         10., 10., 10., 10., 10., 10., 10., 10., 10., 10., 10., 10., 10.,\n",
       "         10., 10., 10., 10., 10., 10., 10., 10., 10., 10., 10., 10., 10.,\n",
       "         10., 10., 10., 10., 10., 10., 10.])}}"
      ]
     },
     "execution_count": 52,
     "metadata": {},
     "output_type": "execute_result"
    }
   ],
   "source": [
    "irc_forest"
   ]
  },
  {
   "cell_type": "code",
   "execution_count": null,
   "metadata": {},
   "outputs": [],
   "source": []
  },
  {
   "cell_type": "markdown",
   "metadata": {},
   "source": [
    "## Calculate the Error Rate"
   ]
  },
  {
   "cell_type": "code",
   "execution_count": null,
   "metadata": {},
   "outputs": [],
   "source": [
    "\n"
   ]
  },
  {
   "cell_type": "code",
   "execution_count": null,
   "metadata": {},
   "outputs": [],
   "source": []
  },
  {
   "cell_type": "code",
   "execution_count": 53,
   "metadata": {},
   "outputs": [],
   "source": [
    "def list_feature_importance(rf, feature_list):\n",
    "    # Get numerical feature importances\n",
    "    importances = list(rf.feature_importances_)\n",
    "    # List of tuples with variable and importance\n",
    "    feature_importances = [(feature, round(importance, 3)) for feature, importance in zip(feature_list, importances)]\n",
    "    # Sort the feature importances by most important first\n",
    "    feature_importances = sorted(feature_importances, key = lambda x: x[1], reverse = True)\n",
    "    # Print out the feature and importances \n",
    "    [print('Variable: {:20} Importance: {}'.format(*pair)) for pair in feature_importances];\n",
    "    print(\"\")\n",
    "\n",
    "    \n",
    "def prediction_accuracy_report(data, forest):\n",
    "    # Unpack the test train data\n",
    "    thermal_train_features, thermal_test_features, thermal_train_labels, thermal_test_labels = data[0]\n",
    "    light_train_features, light_test_features, light_train_labels, light_test_labels = data[1]\n",
    "    noise_train_features, noise_test_features, noise_train_labels, noise_test_labels = data[2] \n",
    "    \n",
    "    thermal_predictions = forest[\"predictions\"][\"thermal\"]\n",
    "    light_predictions = forest[\"predictions\"][\"light\"]\n",
    "    noise_predictions = forest[\"predictions\"][\"noise\"]\n",
    "    \n",
    "    print(\"Summary of Thermal Prediction\")\n",
    "    print(metrics.accuracy_score(thermal_predictions, thermal_test_labels))\n",
    "    print(metrics.f1_score(thermal_predictions, thermal_test_labels, average=\"micro\")) # Micro averages all the results\n",
    "    print(metrics.f1_score(thermal_predictions, thermal_test_labels, average=\"macro\")) #Macro treats each class equally \n",
    "    print(metrics.confusion_matrix(thermal_predictions,thermal_test_labels))\n",
    "    print(metrics.classification_report(thermal_predictions,thermal_test_labels))\n",
    "\n",
    "    print(\"Summary of Light Prediction\")\n",
    "    print(metrics.accuracy_score(light_predictions, light_test_labels))\n",
    "    print(metrics.f1_score(light_predictions, light_test_labels, average=\"micro\")) # Micro averages all the results\n",
    "    print(metrics.f1_score(light_predictions, light_test_labels, average=\"macro\")) #Macro treats each class equally \n",
    "    print(metrics.confusion_matrix(light_predictions,light_test_labels))\n",
    "    print(metrics.classification_report(light_predictions,light_test_labels))\n",
    "\n",
    "    print(\"Summary of Noise Prediction\")\n",
    "    print(metrics.accuracy_score(noise_predictions, noise_test_labels))\n",
    "    print(metrics.f1_score(noise_predictions, noise_test_labels, average=\"micro\")) # Micro averages all the results\n",
    "    print(metrics.f1_score(noise_predictions, noise_test_labels, average=\"macro\")) #Macro treats each class equally \n",
    "    print(metrics.confusion_matrix(noise_predictions,noise_test_labels))\n",
    "    print(metrics.classification_report(noise_predictions,noise_test_labels))\n",
    "\n",
    "    list_feature_importance(rf = forest[\"forests\"][\"thermal\"], feature_list=thermal_feature_list)\n",
    "    list_feature_importance(rf = forest[\"forests\"][\"light\"], feature_list=light_feature_list)\n",
    "    list_feature_importance(rf = forest[\"forests\"][\"noise\"], feature_list=noise_feature_list)\n"
   ]
  },
  {
   "cell_type": "code",
   "execution_count": 54,
   "metadata": {},
   "outputs": [
    {
     "name": "stdout",
     "output_type": "stream",
     "text": [
      "Summary of Thermal Prediction\n",
      "0.6122448979591837\n",
      "0.6122448979591837\n",
      "0.5953042328042328\n",
      "[[11  1  1]\n",
      " [ 7 14  6]\n",
      " [ 1  3  5]]\n",
      "              precision    recall  f1-score   support\n",
      "\n",
      "         9.0       0.58      0.85      0.69        13\n",
      "        10.0       0.78      0.52      0.62        27\n",
      "        11.0       0.42      0.56      0.48         9\n",
      "\n",
      "   micro avg       0.61      0.61      0.61        49\n",
      "   macro avg       0.59      0.64      0.60        49\n",
      "weighted avg       0.66      0.61      0.61        49\n",
      "\n",
      "Summary of Light Prediction\n",
      "0.8775510204081632\n",
      "0.8775510204081631\n",
      "0.5317460317460317\n",
      "[[ 4  1  0]\n",
      " [ 3 39  2]\n",
      " [ 0  0  0]]\n",
      "              precision    recall  f1-score   support\n",
      "\n",
      "         9.0       0.57      0.80      0.67         5\n",
      "        10.0       0.97      0.89      0.93        44\n",
      "        11.0       0.00      0.00      0.00         0\n",
      "\n",
      "   micro avg       0.88      0.88      0.88        49\n",
      "   macro avg       0.52      0.56      0.53        49\n",
      "weighted avg       0.93      0.88      0.90        49\n",
      "\n",
      "Summary of Noise Prediction\n",
      "0.9772727272727273\n",
      "0.9772727272727273\n",
      "0.8939759036144579\n",
      "[[41  1]\n",
      " [ 0  2]]\n",
      "              precision    recall  f1-score   support\n",
      "\n",
      "        10.0       1.00      0.98      0.99        42\n",
      "        11.0       0.67      1.00      0.80         2\n",
      "\n",
      "   micro avg       0.98      0.98      0.98        44\n",
      "   macro avg       0.83      0.99      0.89        44\n",
      "weighted avg       0.98      0.98      0.98        44\n",
      "\n",
      "Variable: heartRate_cozie      Importance: 0.246\n",
      "Variable: hour_sin             Importance: 0.206\n",
      "Variable: hour_cos             Importance: 0.206\n",
      "Variable: user_grouped_cooler  Importance: 0.103\n",
      "Variable: user_grouped_warmer  Importance: 0.085\n",
      "Variable: day_of_week_sin      Importance: 0.077\n",
      "Variable: day_of_week_cos      Importance: 0.05\n",
      "Variable: clothing             Importance: 0.027\n",
      "\n",
      "Variable: hour_sin             Importance: 0.261\n",
      "Variable: user_grouped_brighter Importance: 0.195\n",
      "Variable: heartRate_cozie      Importance: 0.14\n",
      "Variable: user_grouped_dimmer  Importance: 0.127\n",
      "Variable: hour_cos             Importance: 0.122\n",
      "Variable: day_of_week_cos      Importance: 0.072\n",
      "Variable: day_of_week_sin      Importance: 0.044\n",
      "Variable: clothing             Importance: 0.039\n",
      "\n",
      "Variable: hour_sin             Importance: 0.268\n",
      "Variable: user_grouped_quieter Importance: 0.256\n",
      "Variable: hour_cos             Importance: 0.153\n",
      "Variable: heartRate_cozie      Importance: 0.148\n",
      "Variable: day_of_week_cos      Importance: 0.079\n",
      "Variable: clothing             Importance: 0.051\n",
      "Variable: day_of_week_sin      Importance: 0.045\n",
      "Variable: user_grouped_louder  Importance: 0.0\n",
      "\n"
     ]
    },
    {
     "name": "stderr",
     "output_type": "stream",
     "text": [
      "/usr/local/lib/python3.7/site-packages/sklearn/metrics/classification.py:1145: UndefinedMetricWarning: F-score is ill-defined and being set to 0.0 in labels with no true samples.\n",
      "  'recall', 'true', average, warn_for)\n",
      "/usr/local/lib/python3.7/site-packages/sklearn/metrics/classification.py:1145: UndefinedMetricWarning: Recall and F-score are ill-defined and being set to 0.0 in labels with no true samples.\n",
      "  'recall', 'true', average, warn_for)\n"
     ]
    }
   ],
   "source": [
    "prediction_accuracy_report(sde2_data,sde2_forest)\n"
   ]
  },
  {
   "cell_type": "markdown",
   "metadata": {},
   "source": [
    "# Forcasting\n",
    "\n",
    "## Create dummy time series data to visualise how the model works"
   ]
  },
  {
   "cell_type": "code",
   "execution_count": 55,
   "metadata": {},
   "outputs": [
    {
     "data": {
      "text/plain": [
       "Timestamp('2019-11-04 00:00:00')"
      ]
     },
     "execution_count": 55,
     "metadata": {},
     "output_type": "execute_result"
    }
   ],
   "source": [
    "starting_date"
   ]
  },
  {
   "cell_type": "code",
   "execution_count": 56,
   "metadata": {},
   "outputs": [],
   "source": [
    "forcast_df = pd.DataFrame(starting_date + pd.to_timedelta(np.arange(24*7), 'h'), columns = [\"time\"])"
   ]
  },
  {
   "cell_type": "code",
   "execution_count": 57,
   "metadata": {},
   "outputs": [
    {
     "name": "stdout",
     "output_type": "stream",
     "text": [
      "2\n"
     ]
    }
   ],
   "source": [
    "forcast_df['time'].apply(pd.Timestamp)\n",
    "print(2)"
   ]
  },
  {
   "cell_type": "code",
   "execution_count": null,
   "metadata": {},
   "outputs": [],
   "source": []
  },
  {
   "cell_type": "markdown",
   "metadata": {},
   "source": [
    "['clothing', 'heartRate_cozie', 'light_cozie', 'noise_cozie',\n",
    "       'thermal_cozie', 'hour_sin', 'hour_cos', 'day_of_week_sin',\n",
    "       'day_of_week_cos', 'user_grouped_cooler', 'user_grouped_warmer',\n",
    "       'user_grouped_dimmer', 'user_grouped_brighter', 'user_grouped_quieter',\n",
    "       'user_grouped_louder', 'room_grouped_cooler', 'room_grouped_warmer',\n",
    "       'room_grouped_dimmer', 'room_grouped_brighter', 'room_grouped_quieter',\n",
    "       'room_grouped_louder'],"
   ]
  },
  {
   "cell_type": "code",
   "execution_count": 58,
   "metadata": {},
   "outputs": [],
   "source": [
    "\n",
    "forcast_df['clothing'] = 9\n",
    "forcast_df['heartRate_cozie'] = 70\n"
   ]
  },
  {
   "cell_type": "code",
   "execution_count": 59,
   "metadata": {},
   "outputs": [],
   "source": [
    "# get minute of the day and day of the week\n",
    "forcast_df['time_minute'] = forcast_df['time'].dt.hour * 60 + forcast_df['time'].dt.minute\n",
    "forcast_df['day_of_week'] = forcast_df['time'].dt.dayofweek\n",
    "\n",
    "# Create cyclical features for the time and day of the week\n",
    "forcast_df['hour_sin'] = np.sin(forcast_df.time_minute * (2. * np.pi/1440)) #24*60 = 1440\n",
    "forcast_df['hour_cos'] = np.cos(forcast_df.time_minute * (2. * np.pi/1440))\n",
    "\n",
    "forcast_df['day_of_week_sin'] = np.sin(forcast_df.day_of_week * (2. * np.pi/7))\n",
    "forcast_df['day_of_week_cos'] = np.cos(forcast_df.day_of_week * (2. * np.pi/7))\n",
    "\n",
    "forcast_time = np.array(forcast_df['time']) #for plotting later\n",
    "\n",
    "forcast_df.drop(['time', 'time_minute', 'day_of_week'], axis=1, inplace=True)\n"
   ]
  },
  {
   "cell_type": "code",
   "execution_count": 60,
   "metadata": {},
   "outputs": [
    {
     "data": {
      "text/plain": [
       "Index(['clothing', 'heartRate_cozie', 'hour_sin', 'hour_cos',\n",
       "       'day_of_week_sin', 'day_of_week_cos'],\n",
       "      dtype='object')"
      ]
     },
     "execution_count": 60,
     "metadata": {},
     "output_type": "execute_result"
    }
   ],
   "source": [
    "forcast_df.columns"
   ]
  },
  {
   "cell_type": "code",
   "execution_count": 61,
   "metadata": {},
   "outputs": [],
   "source": [
    "reset_forcast_df = forcast_df.copy(deep=True)"
   ]
  },
  {
   "cell_type": "code",
   "execution_count": 62,
   "metadata": {},
   "outputs": [],
   "source": [
    "#rooms_forcasted = ['IRC_LIBRARY_1', 'OPEN_EXHIBITION_SPACE_2', 'BUILDING']\n",
    "preferences_forcasted = ['thermal', 'light', 'noise']\n",
    "preference_map = {'thermal': ['cooler', 'warmer'], 'light': ['dimmer', 'brighter'], 'noise': ['quieter', 'louder']}\n",
    "#rf_map = {'thermal': thermal_rf, 'light': light_rf, 'noise': noise_rf}"
   ]
  },
  {
   "cell_type": "code",
   "execution_count": 63,
   "metadata": {},
   "outputs": [
    {
     "data": {
      "image/png": "[encoded data removed]",
      "text/plain": [
       "<Figure size 1440x432 with 9 Axes>"
      ]
     },
     "metadata": {
      "needs_background": "light"
     },
     "output_type": "display_data"
    }
   ],
   "source": [
    "# Prepare palette\n",
    "palette = sns.color_palette(\"Set2\", 3)\n",
    "pal = [palette[1],palette[0],palette[2]]\n",
    "\n",
    "fig1, axes = plt.subplots(3, 3, figsize=(20, 6))\n",
    "\n",
    "\n",
    "\n",
    "#for ii, room in enumerate(rooms_forcasted):\n",
    "def forcast_room_plot(dataframe, forest, rug_df, plot_row):\n",
    "    # Loop through preferences forcasted\n",
    "    for jj, preference in enumerate(preferences_forcasted):\n",
    "        forcast_df = reset_forcast_df.copy(deep=True)\n",
    "        # loop through the labels to set features\n",
    "        for label in preference_map[preference]:\n",
    "            # eg: 'user_grouped_warmer'\n",
    "            forcast_df['user_grouped_' + label] = dataframe.describe().loc['mean']['user_grouped_' + label]\n",
    "\n",
    "            \n",
    "        # Convert to np array\n",
    "        forcast_features = np.array(forcast_df)\n",
    "        \n",
    "\n",
    "        comfort_probability = forest[\"forests\"][preference].predict_proba(forcast_features)\n",
    "        \n",
    "        if comfort_probability.shape[1] == 2:\n",
    "            pal = [palette[0],palette[2],palette[2]]\n",
    "        else:\n",
    "            pal = [palette[1],palette[0],palette[2]]\n",
    "\n",
    "         \n",
    "            \n",
    "            \n",
    "            \n",
    "        axes[plot_row,jj].stackplot(forcast_time, np.transpose(comfort_probability), colors = pal, alpha = 1)\n",
    "        axes[plot_row, jj].plot(rug_df[\"forcast_time\"], (rug_df[preference + \"_cozie\"]-9)/2.2 + 0.05, color='gray',marker = '|', linestyle=\"None\")  # rug plot\n",
    "        #axes[plot_row,jj].xaxis.set_minor_locator(plt.MaxNLocator(4))\n",
    "        #axes[plot_row,jj].xaxis.set_minor_locator(mdates.WeekdayLocator(5))\n",
    "        \n",
    "        axes[plot_row,jj].xaxis.set_minor_formatter(mdates.DateFormatter('%d'))\n",
    "        plt.gcf().autofmt_xdate()\n",
    "        #plt.legend()\n",
    "            \n",
    "forcast_room_plot(irc_feature_set_df, forest = irc_forest, rug_df = irc_rug_df, plot_row=0)  \n",
    "forcast_room_plot(open_feature_set_df, forest = open_forest, rug_df = open_rug_df, plot_row=1) \n",
    "forcast_room_plot(sde2_feature_set_df, forest = sde2_forest, rug_df = sde2_rug_df, plot_row=2) \n",
    "\n",
    "plt.savefig(\"comfort_prediction.pdf\")"
   ]
  },
  {
   "cell_type": "code",
   "execution_count": 64,
   "metadata": {},
   "outputs": [
    {
     "ename": "NameError",
     "evalue": "name 'irc' is not defined",
     "output_type": "error",
     "traceback": [
      "\u001b[0;31m---------------------------------------------------------------------------\u001b[0m",
      "\u001b[0;31mNameError\u001b[0m                                 Traceback (most recent call last)",
      "\u001b[0;32m<ipython-input-64-323bd297aad0>\u001b[0m in \u001b[0;36m<module>\u001b[0;34m\u001b[0m\n\u001b[0;32m----> 1\u001b[0;31m \u001b[0mirc\u001b[0m\u001b[0;34m\u001b[0m\u001b[0;34m\u001b[0m\u001b[0m\n\u001b[0m",
      "\u001b[0;31mNameError\u001b[0m: name 'irc' is not defined"
     ]
    }
   ],
   "source": [
    "irc"
   ]
  },
  {
   "cell_type": "code",
   "execution_count": null,
   "metadata": {},
   "outputs": [],
   "source": []
  },
  {
   "cell_type": "code",
   "execution_count": null,
   "metadata": {},
   "outputs": [],
   "source": []
  },
  {
   "cell_type": "code",
   "execution_count": null,
   "metadata": {},
   "outputs": [],
   "source": []
  }
 ],
 "metadata": {
  "kernelspec": {
   "display_name": "Python 3",
   "language": "python",
   "name": "python3"
  },
  "language_info": {
   "codemirror_mode": {
    "name": "ipython",
    "version": 3
   },
   "file_extension": ".py",
   "mimetype": "text/x-python",
   "name": "python",
   "nbconvert_exporter": "python",
   "pygments_lexer": "ipython3",
   "version": "3.7.4"
  }
 },
 "nbformat": 4,
 "nbformat_minor": 4
}
