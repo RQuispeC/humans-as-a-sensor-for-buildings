{
 "cells": [
  {
   "cell_type": "markdown",
   "metadata": {},
   "source": [
    "# Script to build thermal comfort model with groups of participants"
   ]
  },
  {
   "cell_type": "code",
   "execution_count": 1,
   "metadata": {},
   "outputs": [],
   "source": [
    "import pickle\n",
    "import pandas as pd\n",
    "from datetime import datetime\n",
    "\n",
    "from modeling_functions import *\n"
   ]
  },
  {
   "cell_type": "markdown",
   "metadata": {
    "toc-hr-collapsed": true
   },
   "source": [
    "# Variables"
   ]
  },
  {
   "cell_type": "code",
   "execution_count": 2,
   "metadata": {},
   "outputs": [
    {
     "name": "stdout",
     "output_type": "stream",
     "text": [
      "Available participants: \n",
      "['cresh07' 'cresh10' 'cresh08' 'cresh12' 'cresh09' 'cresh06' 'cresh02'\n",
      " 'cresh13' 'cresh15' 'cresh03' 'cresh14' 'cresh11' 'cresh05' 'cresh01'\n",
      " 'cresh04' 'cresh22' 'cresh16' 'cresh19' 'cresh21' 'cresh26' 'cresh29'\n",
      " 'cresh27' 'cresh23' 'cresh20' 'cresh18' 'cresh30' 'cresh17' 'cresh24'\n",
      " 'cresh28' 'cresh25']\n"
     ]
    }
   ],
   "source": [
    "seed = 13\n",
    "dataframes_names = ['fs1', 'fs2', 'fs3', 'fs4', 'fs5', 'fs6']\n",
    "folder_path = 'data-processed-preferences/'\n",
    "file_date = '2019-11-15'\n",
    "\n",
    "# load any of the dataset just to get the complete list of participants\n",
    "dataframe_names = pd.read_csv('../' + folder_path + file_date + '_'  + dataframes_names[0] + \".csv\")\n",
    "participant_list = dataframe_names['user_id'].unique()\n",
    "print(\"Available participants: \\n{}\".format(participant_list))\n"
   ]
  },
  {
   "cell_type": "markdown",
   "metadata": {
    "toc-hr-collapsed": true
   },
   "source": [
    "# FS1: Time + Sensing"
   ]
  },
  {
   "cell_type": "code",
   "execution_count": 3,
   "metadata": {},
   "outputs": [
    {
     "name": "stdout",
     "output_type": "stream",
     "text": [
      "Loading files from: data-processed-preferences/2019-11-15_fs1\n"
     ]
    }
   ],
   "source": [
    "df_file = folder_path + file_date + \"_\" +  dataframes_names[0]\n",
    "print(\"Loading files from: {}\".format(df_file))\n"
   ]
  },
  {
   "cell_type": "code",
   "execution_count": 4,
   "metadata": {},
   "outputs": [
    {
     "name": "stdout",
     "output_type": "stream",
     "text": [
      "['light_cozie' 'noise_cozie' 'humidity_sensing' 'light_sensing'\n",
      " 'noise_sensing' 'temperature_sensing' 'hour_sin' 'hour_cos'\n",
      " 'day_of_week_sin' 'day_of_week_cos' 'thermal_cozie']\n"
     ]
    }
   ],
   "source": [
    "df_train = pd.DataFrame()\n",
    "df_val = pd.DataFrame()\n",
    "\n",
    "for participant in participant_list:\n",
    "    df_train_participant = pd.read_csv(\"../\" + df_file + \"_train_\" + participant + \".csv\")\n",
    "    df_val_participant = pd.read_csv(\"../\" + df_file + \"_val_\" + participant + \".csv\")\n",
    "    \n",
    "    df_train = df_train.append(df_train_participant, ignore_index = True)\n",
    "    df_val = df_val.append(df_val_participant, ignore_index = True)\n",
    "\n",
    "# drop userid\n",
    "df_train.drop('user_id', axis=1, inplace=True)\n",
    "df_val.drop('user_id', axis=1, inplace=True)\n",
    "\n",
    "print(df_train.columns.values)\n"
   ]
  },
  {
   "cell_type": "markdown",
   "metadata": {},
   "source": [
    "## Thermal Comfort Prediction"
   ]
  },
  {
   "cell_type": "code",
   "execution_count": 5,
   "metadata": {},
   "outputs": [
    {
     "name": "stdout",
     "output_type": "stream",
     "text": [
      "Accuracy (f1 micro) on validation set: 0.5823429541595926\n",
      "F1 micro on validation set: 0.5823429541595926\n",
      "F1 macro on validation set: 0.39070972509983687\n",
      "Confusion Matrix: \n",
      "[[  7  62  12]\n",
      " [ 20 296  49]\n",
      " [  9  94  40]]\n",
      "Classification Metrics: \n",
      "              precision    recall  f1-score   support\n",
      "\n",
      "         9.0       0.19      0.09      0.12        81\n",
      "        10.0       0.65      0.81      0.72       365\n",
      "        11.0       0.40      0.28      0.33       143\n",
      "\n",
      "    accuracy                           0.58       589\n",
      "   macro avg       0.42      0.39      0.39       589\n",
      "weighted avg       0.53      0.58      0.55       589\n",
      "\n"
     ]
    }
   ],
   "source": [
    "clf = RandomForestClassifier(n_estimators = 1000, random_state = seed)\n",
    "micro_rf_1_thermal, macro_rf_1_thermal, _ = model_validate(df_train, df_val, clf)\n"
   ]
  },
  {
   "cell_type": "markdown",
   "metadata": {},
   "source": [
    "## Light Comfort Prediction"
   ]
  },
  {
   "cell_type": "code",
   "execution_count": 6,
   "metadata": {},
   "outputs": [
    {
     "name": "stdout",
     "output_type": "stream",
     "text": [
      "Accuracy (f1 micro) on validation set: 0.7640067911714771\n",
      "F1 micro on validation set: 0.7640067911714772\n",
      "F1 macro on validation set: 0.4053285070234223\n",
      "Confusion Matrix: \n",
      "[[ 17  54   7]\n",
      " [ 19 431   7]\n",
      " [  4  48   2]]\n",
      "Classification Metrics: \n",
      "              precision    recall  f1-score   support\n",
      "\n",
      "         9.0       0.42      0.22      0.29        78\n",
      "        10.0       0.81      0.94      0.87       457\n",
      "        11.0       0.12      0.04      0.06        54\n",
      "\n",
      "    accuracy                           0.76       589\n",
      "   macro avg       0.45      0.40      0.41       589\n",
      "weighted avg       0.70      0.76      0.72       589\n",
      "\n"
     ]
    }
   ],
   "source": [
    "# move light response to the end\n",
    "df_aux = df_train.pop('light_cozie')\n",
    "df_train['light_cozie'] = df_aux\n",
    "\n",
    "df_aux = df_val.pop('light_cozie')\n",
    "df_val['light_cozie'] = df_aux\n",
    "\n",
    "# train and validate model\n",
    "clf = RandomForestClassifier(n_estimators = 1000, random_state = seed)\n",
    "micro_rf_1_light, macro_rf_1_light, _ = model_validate(df_train, df_val, clf)\n"
   ]
  },
  {
   "cell_type": "markdown",
   "metadata": {},
   "source": [
    "## Aural Comfort Prediction"
   ]
  },
  {
   "cell_type": "code",
   "execution_count": 7,
   "metadata": {},
   "outputs": [
    {
     "name": "stdout",
     "output_type": "stream",
     "text": [
      "Accuracy (f1 micro) on validation set: 0.8573853989813243\n",
      "F1 micro on validation set: 0.8573853989813243\n",
      "F1 macro on validation set: 0.6677143778207608\n",
      "Confusion Matrix: \n",
      "[[475  24]\n",
      " [ 60  30]]\n",
      "Classification Metrics: \n",
      "              precision    recall  f1-score   support\n",
      "\n",
      "        10.0       0.89      0.95      0.92       499\n",
      "        11.0       0.56      0.33      0.42        90\n",
      "\n",
      "    accuracy                           0.86       589\n",
      "   macro avg       0.72      0.64      0.67       589\n",
      "weighted avg       0.84      0.86      0.84       589\n",
      "\n"
     ]
    }
   ],
   "source": [
    "# move light response to the end\n",
    "df_aux = df_train.pop('noise_cozie')\n",
    "df_train['noise_cozie'] = df_aux\n",
    "\n",
    "df_aux = df_val.pop('noise_cozie')\n",
    "df_val['noise_cozie'] = df_aux\n",
    "\n",
    "# train and validate model\n",
    "clf = RandomForestClassifier(n_estimators = 1000, random_state = seed)\n",
    "micro_rf_1_aural, macro_rf_1_aural, _ = model_validate(df_train, df_val, clf)\n"
   ]
  },
  {
   "cell_type": "markdown",
   "metadata": {
    "toc-hr-collapsed": true
   },
   "source": [
    "# FS2: Time + Sensing + Heart Rate + mbient"
   ]
  },
  {
   "cell_type": "code",
   "execution_count": 8,
   "metadata": {},
   "outputs": [
    {
     "name": "stdout",
     "output_type": "stream",
     "text": [
      "Loading files from: data-processed-preferences/2019-11-15_fs2\n"
     ]
    }
   ],
   "source": [
    "df_file = folder_path + file_date + \"_\" +  dataframes_names[1]\n",
    "print(\"Loading files from: {}\".format(df_file))\n"
   ]
  },
  {
   "cell_type": "code",
   "execution_count": 9,
   "metadata": {},
   "outputs": [
    {
     "name": "stdout",
     "output_type": "stream",
     "text": [
      "['heartRate_cozie' 'light_cozie' 'noise_cozie' 'humidity_sensing'\n",
      " 'light_sensing' 'noise_sensing' 'temperature_sensing'\n",
      " 'temperature_mbient' 'hour_sin' 'hour_cos' 'day_of_week_sin'\n",
      " 'day_of_week_cos' 'thermal_cozie']\n"
     ]
    }
   ],
   "source": [
    "df_train = pd.DataFrame()\n",
    "df_val = pd.DataFrame()\n",
    "\n",
    "for participant in participant_list:\n",
    "    df_train_participant = pd.read_csv(\"../\" + df_file + \"_train_\" + participant + \".csv\")\n",
    "    df_val_participant = pd.read_csv(\"../\" + df_file + \"_val_\" + participant + \".csv\")\n",
    "    \n",
    "    df_train = df_train.append(df_train_participant, ignore_index = True)\n",
    "    df_val = df_val.append(df_val_participant, ignore_index = True)\n",
    "\n",
    "# drop userid\n",
    "df_train.drop('user_id', axis=1, inplace=True)\n",
    "df_val.drop('user_id', axis=1, inplace=True)\n",
    "\n",
    "print(df_train.columns.values)\n"
   ]
  },
  {
   "cell_type": "markdown",
   "metadata": {},
   "source": [
    "## Thermal Comfort Prediction"
   ]
  },
  {
   "cell_type": "code",
   "execution_count": 10,
   "metadata": {},
   "outputs": [
    {
     "name": "stdout",
     "output_type": "stream",
     "text": [
      "Accuracy (f1 micro) on validation set: 0.6451612903225806\n",
      "F1 micro on validation set: 0.6451612903225806\n",
      "F1 macro on validation set: 0.4545053409204353\n",
      "Confusion Matrix: \n",
      "[[ 10  65   6]\n",
      " [ 11 324  30]\n",
      " [  3  94  46]]\n",
      "Classification Metrics: \n",
      "              precision    recall  f1-score   support\n",
      "\n",
      "         9.0       0.42      0.12      0.19        81\n",
      "        10.0       0.67      0.89      0.76       365\n",
      "        11.0       0.56      0.32      0.41       143\n",
      "\n",
      "    accuracy                           0.65       589\n",
      "   macro avg       0.55      0.44      0.45       589\n",
      "weighted avg       0.61      0.65      0.60       589\n",
      "\n"
     ]
    }
   ],
   "source": [
    "clf = RandomForestClassifier(n_estimators = 1000, random_state = seed)\n",
    "micro_rf_2_thermal, macro_rf_2_thermal, _ = model_validate(df_train, df_val, clf)\n"
   ]
  },
  {
   "cell_type": "markdown",
   "metadata": {},
   "source": [
    "## Light Comfort Prediction"
   ]
  },
  {
   "cell_type": "code",
   "execution_count": 11,
   "metadata": {},
   "outputs": [
    {
     "name": "stdout",
     "output_type": "stream",
     "text": [
      "Accuracy (f1 micro) on validation set: 0.7741935483870968\n",
      "F1 micro on validation set: 0.7741935483870968\n",
      "F1 macro on validation set: 0.3711119626512445\n",
      "Confusion Matrix: \n",
      "[[ 10  63   5]\n",
      " [  6 445   6]\n",
      " [  3  50   1]]\n",
      "Classification Metrics: \n",
      "              precision    recall  f1-score   support\n",
      "\n",
      "         9.0       0.53      0.13      0.21        78\n",
      "        10.0       0.80      0.97      0.88       457\n",
      "        11.0       0.08      0.02      0.03        54\n",
      "\n",
      "    accuracy                           0.77       589\n",
      "   macro avg       0.47      0.37      0.37       589\n",
      "weighted avg       0.70      0.77      0.71       589\n",
      "\n"
     ]
    }
   ],
   "source": [
    "# move light response to the end\n",
    "df_aux = df_train.pop('light_cozie')\n",
    "df_train['light_cozie'] = df_aux\n",
    "\n",
    "df_aux = df_val.pop('light_cozie')\n",
    "df_val['light_cozie'] = df_aux\n",
    "\n",
    "# train and validate model\n",
    "clf = RandomForestClassifier(n_estimators = 1000, random_state = seed)\n",
    "micro_rf_2_light, macro_rf_2_light, _ = model_validate(df_train, df_val, clf)\n"
   ]
  },
  {
   "cell_type": "markdown",
   "metadata": {},
   "source": [
    "## Aural Comfort Prediction"
   ]
  },
  {
   "cell_type": "code",
   "execution_count": 12,
   "metadata": {},
   "outputs": [
    {
     "name": "stdout",
     "output_type": "stream",
     "text": [
      "Accuracy (f1 micro) on validation set: 0.8573853989813243\n",
      "F1 micro on validation set: 0.8573853989813243\n",
      "F1 macro on validation set: 0.6508693688607881\n",
      "Confusion Matrix: \n",
      "[[479  20]\n",
      " [ 64  26]]\n",
      "Classification Metrics: \n",
      "              precision    recall  f1-score   support\n",
      "\n",
      "        10.0       0.88      0.96      0.92       499\n",
      "        11.0       0.57      0.29      0.38        90\n",
      "\n",
      "    accuracy                           0.86       589\n",
      "   macro avg       0.72      0.62      0.65       589\n",
      "weighted avg       0.83      0.86      0.84       589\n",
      "\n"
     ]
    }
   ],
   "source": [
    "# move light response to the end\n",
    "df_aux = df_train.pop('noise_cozie')\n",
    "df_train['noise_cozie'] = df_aux\n",
    "\n",
    "df_aux = df_val.pop('noise_cozie')\n",
    "df_val['noise_cozie'] = df_aux\n",
    "\n",
    "# train and validate model\n",
    "clf = RandomForestClassifier(n_estimators = 1000, random_state = seed)\n",
    "micro_rf_2_aural, macro_rf_2_aural, _ = model_validate(df_train, df_val, clf)\n"
   ]
  },
  {
   "cell_type": "markdown",
   "metadata": {
    "toc-hr-collapsed": true
   },
   "source": [
    "# FS3: Time + Sensing + Heart Rate + mbient + room + preference history"
   ]
  },
  {
   "cell_type": "code",
   "execution_count": 13,
   "metadata": {},
   "outputs": [
    {
     "name": "stdout",
     "output_type": "stream",
     "text": [
      "Loading files from: data-processed-preferences/2019-11-15_fs3\n"
     ]
    }
   ],
   "source": [
    "df_file = folder_path + file_date + \"_\" +  dataframes_names[2]\n",
    "print(\"Loading files from: {}\".format(df_file))\n"
   ]
  },
  {
   "cell_type": "code",
   "execution_count": 14,
   "metadata": {},
   "outputs": [
    {
     "name": "stdout",
     "output_type": "stream",
     "text": [
      "['heartRate_cozie' 'light_cozie' 'noise_cozie' 'humidity_sensing'\n",
      " 'light_sensing' 'noise_sensing' 'temperature_sensing'\n",
      " 'temperature_mbient' 'hour_sin' 'hour_cos' 'day_of_week_sin'\n",
      " 'day_of_week_cos' 'user_grouped_cooler' 'user_grouped_warmer'\n",
      " 'user_grouped_dimmer' 'user_grouped_brighter' 'user_grouped_quieter'\n",
      " 'user_grouped_louder' 'room_grouped_cooler' 'room_grouped_warmer'\n",
      " 'room_grouped_dimmer' 'room_grouped_brighter' 'room_grouped_quieter'\n",
      " 'room_grouped_louder' 'thermal_cozie']\n"
     ]
    }
   ],
   "source": [
    "df_train = pd.DataFrame()\n",
    "df_val = pd.DataFrame()\n",
    "\n",
    "for participant in participant_list:\n",
    "    df_train_participant = pd.read_csv(\"../\" + df_file + \"_train_\" + participant + \".csv\")\n",
    "    df_val_participant = pd.read_csv(\"../\" + df_file + \"_val_\" + participant + \".csv\")\n",
    "    \n",
    "    df_train = df_train.append(df_train_participant, ignore_index = True)\n",
    "    df_val = df_val.append(df_val_participant, ignore_index = True)\n",
    "\n",
    "# drop userid\n",
    "df_train.drop('user_id', axis=1, inplace=True)\n",
    "df_val.drop('user_id', axis=1, inplace=True)\n",
    "\n",
    "# drop room\n",
    "df_train.drop('room', axis=1, inplace=True)\n",
    "df_val.drop('room', axis=1, inplace=True)\n",
    "\n",
    "print(df_train.columns.values)\n"
   ]
  },
  {
   "cell_type": "markdown",
   "metadata": {
    "toc-hr-collapsed": true
   },
   "source": [
    "## Thermal Comfort Prediction"
   ]
  },
  {
   "cell_type": "code",
   "execution_count": 15,
   "metadata": {},
   "outputs": [
    {
     "name": "stdout",
     "output_type": "stream",
     "text": [
      "['heartRate_cozie' 'light_cozie' 'noise_cozie' 'humidity_sensing'\n",
      " 'light_sensing' 'noise_sensing' 'temperature_sensing'\n",
      " 'temperature_mbient' 'hour_sin' 'hour_cos' 'day_of_week_sin'\n",
      " 'day_of_week_cos' 'user_grouped_cooler' 'user_grouped_warmer'\n",
      " 'room_grouped_cooler' 'room_grouped_warmer' 'thermal_cozie']\n",
      "Accuracy (f1 micro) on validation set: 0.7028862478777589\n",
      "F1 micro on validation set: 0.7028862478777589\n",
      "F1 macro on validation set: 0.5473951577299011\n",
      "Confusion Matrix: \n",
      "[[ 15  63   3]\n",
      " [ 17 332  16]\n",
      " [  2  74  67]]\n",
      "Classification Metrics: \n",
      "              precision    recall  f1-score   support\n",
      "\n",
      "         9.0       0.44      0.19      0.26        81\n",
      "        10.0       0.71      0.91      0.80       365\n",
      "        11.0       0.78      0.47      0.59       143\n",
      "\n",
      "    accuracy                           0.70       589\n",
      "   macro avg       0.64      0.52      0.55       589\n",
      "weighted avg       0.69      0.70      0.67       589\n",
      "\n"
     ]
    }
   ],
   "source": [
    "df_train_thermal = df_train.copy()\n",
    "df_val_thermal = df_val.copy()\n",
    "\n",
    "# drop other preferences\n",
    "other_preferences = ['user_grouped_dimmer', 'user_grouped_brighter', 'user_grouped_quieter', 'user_grouped_louder',\n",
    "                     'room_grouped_dimmer', 'room_grouped_brighter', 'room_grouped_quieter', 'room_grouped_louder']\n",
    "\n",
    "df_train_thermal.drop(other_preferences, axis=1, inplace=True)\n",
    "df_val_thermal.drop(other_preferences, axis=1, inplace=True)\n",
    "\n",
    "print(df_train_thermal.columns.values)\n",
    "\n",
    "clf = RandomForestClassifier(n_estimators = 1000, random_state = seed)\n",
    "micro_rf_3_thermal, macro_rf_3_thermal, _ = model_validate(df_train_thermal, df_val_thermal, clf)\n"
   ]
  },
  {
   "cell_type": "markdown",
   "metadata": {
    "toc-hr-collapsed": true
   },
   "source": [
    "## Light Comfort Prediction"
   ]
  },
  {
   "cell_type": "code",
   "execution_count": 16,
   "metadata": {},
   "outputs": [
    {
     "name": "stdout",
     "output_type": "stream",
     "text": [
      "['heartRate_cozie' 'noise_cozie' 'humidity_sensing' 'light_sensing'\n",
      " 'noise_sensing' 'temperature_sensing' 'temperature_mbient' 'hour_sin'\n",
      " 'hour_cos' 'day_of_week_sin' 'day_of_week_cos' 'user_grouped_dimmer'\n",
      " 'user_grouped_brighter' 'room_grouped_dimmer' 'room_grouped_brighter'\n",
      " 'thermal_cozie' 'light_cozie']\n",
      "Accuracy (f1 micro) on validation set: 0.7962648556876061\n",
      "F1 micro on validation set: 0.7962648556876061\n",
      "F1 macro on validation set: 0.4752104739752728\n",
      "Confusion Matrix: \n",
      "[[ 25  53   0]\n",
      " [ 16 440   1]\n",
      " [  4  46   4]]\n",
      "Classification Metrics: \n",
      "              precision    recall  f1-score   support\n",
      "\n",
      "         9.0       0.56      0.32      0.41        78\n",
      "        10.0       0.82      0.96      0.88       457\n",
      "        11.0       0.80      0.07      0.14        54\n",
      "\n",
      "    accuracy                           0.80       589\n",
      "   macro avg       0.72      0.45      0.48       589\n",
      "weighted avg       0.78      0.80      0.75       589\n",
      "\n"
     ]
    }
   ],
   "source": [
    "df_train_light = df_train.copy()\n",
    "df_val_light = df_val.copy()\n",
    "\n",
    "# move light response to the end\n",
    "df_aux = df_train_light.pop('light_cozie')\n",
    "df_train_light['light_cozie'] = df_aux\n",
    "\n",
    "df_aux = df_val_light.pop('light_cozie')\n",
    "df_val_light['light_cozie'] = df_aux\n",
    "\n",
    "# drop other preferences\n",
    "other_preferences = ['user_grouped_cooler', 'user_grouped_warmer', 'user_grouped_quieter', 'user_grouped_louder',\n",
    "                     'room_grouped_cooler', 'room_grouped_warmer', 'room_grouped_quieter', 'room_grouped_louder']\n",
    "\n",
    "df_train_light.drop(other_preferences, axis=1, inplace=True)\n",
    "df_val_light.drop(other_preferences, axis=1, inplace=True)\n",
    "\n",
    "print(df_train_light.columns.values)\n",
    "\n",
    "# train and validate model\n",
    "clf = RandomForestClassifier(n_estimators = 1000, random_state = seed)\n",
    "micro_rf_3_light, macro_rf_3_light, _ = model_validate(df_train_light, df_val_light, clf)\n"
   ]
  },
  {
   "cell_type": "markdown",
   "metadata": {
    "toc-hr-collapsed": true
   },
   "source": [
    "## Aural Comfort Prediction"
   ]
  },
  {
   "cell_type": "code",
   "execution_count": 17,
   "metadata": {},
   "outputs": [
    {
     "name": "stdout",
     "output_type": "stream",
     "text": [
      "['heartRate_cozie' 'light_cozie' 'humidity_sensing' 'light_sensing'\n",
      " 'noise_sensing' 'temperature_sensing' 'temperature_mbient' 'hour_sin'\n",
      " 'hour_cos' 'day_of_week_sin' 'day_of_week_cos' 'user_grouped_quieter'\n",
      " 'user_grouped_louder' 'room_grouped_quieter' 'room_grouped_louder'\n",
      " 'thermal_cozie' 'noise_cozie']\n",
      "Accuracy (f1 micro) on validation set: 0.8794567062818336\n",
      "F1 micro on validation set: 0.8794567062818336\n",
      "F1 macro on validation set: 0.7445965175861289\n",
      "Confusion Matrix: \n",
      "[[473  26]\n",
      " [ 45  45]]\n",
      "Classification Metrics: \n",
      "              precision    recall  f1-score   support\n",
      "\n",
      "        10.0       0.91      0.95      0.93       499\n",
      "        11.0       0.63      0.50      0.56        90\n",
      "\n",
      "    accuracy                           0.88       589\n",
      "   macro avg       0.77      0.72      0.74       589\n",
      "weighted avg       0.87      0.88      0.87       589\n",
      "\n"
     ]
    }
   ],
   "source": [
    "df_train_aural = df_train.copy()\n",
    "df_val_aural = df_val.copy()\n",
    "\n",
    "# move light response to the end\n",
    "df_aux = df_train_aural.pop('noise_cozie')\n",
    "df_train_aural['noise_cozie'] = df_aux\n",
    "\n",
    "df_aux = df_val_aural.pop('noise_cozie')\n",
    "df_val_aural['noise_cozie'] = df_aux\n",
    "\n",
    "# drop other preferences\n",
    "other_preferences = ['user_grouped_cooler', 'user_grouped_warmer', 'user_grouped_dimmer', 'user_grouped_brighter',\n",
    "                     'room_grouped_cooler', 'room_grouped_warmer', 'room_grouped_dimmer', 'room_grouped_brighter']\n",
    "\n",
    "df_train_aural.drop(other_preferences, axis=1, inplace=True)\n",
    "df_val_aural.drop(other_preferences, axis=1, inplace=True)\n",
    "\n",
    "print(df_train_aural.columns.values)\n",
    "\n",
    "# train and validate model\n",
    "clf = RandomForestClassifier(n_estimators = 1000, random_state = seed)\n",
    "micro_rf_3_aural, macro_rf_3_aural, _ = model_validate(df_train_aural, df_val_aural, clf)\n"
   ]
  },
  {
   "cell_type": "markdown",
   "metadata": {
    "toc-hr-collapsed": true
   },
   "source": [
    "# FS4: Time + Heart Rate + mbient + room + preference history"
   ]
  },
  {
   "cell_type": "code",
   "execution_count": 18,
   "metadata": {},
   "outputs": [
    {
     "name": "stdout",
     "output_type": "stream",
     "text": [
      "Loading files from: data-processed-preferences/2019-11-15_fs4\n"
     ]
    }
   ],
   "source": [
    "df_file = folder_path + file_date + \"_\" +  dataframes_names[3]\n",
    "print(\"Loading files from: {}\".format(df_file))\n"
   ]
  },
  {
   "cell_type": "code",
   "execution_count": 19,
   "metadata": {},
   "outputs": [
    {
     "name": "stdout",
     "output_type": "stream",
     "text": [
      "['heartRate_cozie' 'light_cozie' 'noise_cozie' 'temperature_mbient'\n",
      " 'hour_sin' 'hour_cos' 'day_of_week_sin' 'day_of_week_cos'\n",
      " 'user_grouped_cooler' 'user_grouped_warmer' 'user_grouped_dimmer'\n",
      " 'user_grouped_brighter' 'user_grouped_quieter' 'user_grouped_louder'\n",
      " 'room_grouped_cooler' 'room_grouped_warmer' 'room_grouped_dimmer'\n",
      " 'room_grouped_brighter' 'room_grouped_quieter' 'room_grouped_louder'\n",
      " 'thermal_cozie']\n"
     ]
    }
   ],
   "source": [
    "df_train = pd.DataFrame()\n",
    "df_val = pd.DataFrame()\n",
    "\n",
    "for participant in participant_list:\n",
    "    df_train_participant = pd.read_csv(\"../\" + df_file + \"_train_\" + participant + \".csv\")\n",
    "    df_val_participant = pd.read_csv(\"../\" + df_file + \"_val_\" + participant + \".csv\")\n",
    "    \n",
    "    df_train = df_train.append(df_train_participant, ignore_index = True)\n",
    "    df_val = df_val.append(df_val_participant, ignore_index = True)\n",
    "\n",
    "# drop userid\n",
    "df_train.drop('user_id', axis=1, inplace=True)\n",
    "df_val.drop('user_id', axis=1, inplace=True)\n",
    "\n",
    "# drop room\n",
    "df_train.drop('room', axis=1, inplace=True)\n",
    "df_val.drop('room', axis=1, inplace=True)\n",
    "\n",
    "print(df_train.columns.values)\n"
   ]
  },
  {
   "cell_type": "markdown",
   "metadata": {
    "toc-hr-collapsed": true
   },
   "source": [
    "## Thermal Comfort Prediction"
   ]
  },
  {
   "cell_type": "code",
   "execution_count": 20,
   "metadata": {},
   "outputs": [
    {
     "name": "stdout",
     "output_type": "stream",
     "text": [
      "['heartRate_cozie' 'light_cozie' 'noise_cozie' 'temperature_mbient'\n",
      " 'hour_sin' 'hour_cos' 'day_of_week_sin' 'day_of_week_cos'\n",
      " 'user_grouped_cooler' 'user_grouped_warmer' 'room_grouped_cooler'\n",
      " 'room_grouped_warmer' 'thermal_cozie']\n",
      "Accuracy (f1 micro) on validation set: 0.7198641765704584\n",
      "F1 micro on validation set: 0.7198641765704584\n",
      "F1 macro on validation set: 0.5714293556684861\n",
      "Confusion Matrix: \n",
      "[[ 18  58   5]\n",
      " [ 12 338  15]\n",
      " [  4  71  68]]\n",
      "Classification Metrics: \n",
      "              precision    recall  f1-score   support\n",
      "\n",
      "         9.0       0.53      0.22      0.31        81\n",
      "        10.0       0.72      0.93      0.81       365\n",
      "        11.0       0.77      0.48      0.59       143\n",
      "\n",
      "    accuracy                           0.72       589\n",
      "   macro avg       0.68      0.54      0.57       589\n",
      "weighted avg       0.71      0.72      0.69       589\n",
      "\n"
     ]
    }
   ],
   "source": [
    "df_train_thermal = df_train.copy()\n",
    "df_val_thermal = df_val.copy()\n",
    "\n",
    "# drop other preferences\n",
    "other_preferences = ['user_grouped_dimmer', 'user_grouped_brighter', 'user_grouped_quieter', 'user_grouped_louder',\n",
    "                     'room_grouped_dimmer', 'room_grouped_brighter', 'room_grouped_quieter', 'room_grouped_louder']\n",
    "\n",
    "df_train_thermal.drop(other_preferences, axis=1, inplace=True)\n",
    "df_val_thermal.drop(other_preferences, axis=1, inplace=True)\n",
    "\n",
    "print(df_train_thermal.columns.values)\n",
    "\n",
    "clf = RandomForestClassifier(n_estimators = 1000, random_state = seed)\n",
    "micro_rf_4_thermal, macro_rf_4_thermal, _ = model_validate(df_train_thermal, df_val_thermal, clf)\n"
   ]
  },
  {
   "cell_type": "markdown",
   "metadata": {
    "toc-hr-collapsed": true
   },
   "source": [
    "## Light Comfort Prediction"
   ]
  },
  {
   "cell_type": "code",
   "execution_count": 21,
   "metadata": {},
   "outputs": [
    {
     "name": "stdout",
     "output_type": "stream",
     "text": [
      "['heartRate_cozie' 'noise_cozie' 'temperature_mbient' 'hour_sin'\n",
      " 'hour_cos' 'day_of_week_sin' 'day_of_week_cos' 'user_grouped_dimmer'\n",
      " 'user_grouped_brighter' 'room_grouped_dimmer' 'room_grouped_brighter'\n",
      " 'thermal_cozie' 'light_cozie']\n",
      "Accuracy (f1 micro) on validation set: 0.7860780984719864\n",
      "F1 micro on validation set: 0.7860780984719865\n",
      "F1 macro on validation set: 0.4833816589914151\n",
      "Confusion Matrix: \n",
      "[[ 20  58   0]\n",
      " [ 19 435   3]\n",
      " [  6  40   8]]\n",
      "Classification Metrics: \n",
      "              precision    recall  f1-score   support\n",
      "\n",
      "         9.0       0.44      0.26      0.33        78\n",
      "        10.0       0.82      0.95      0.88       457\n",
      "        11.0       0.73      0.15      0.25        54\n",
      "\n",
      "    accuracy                           0.79       589\n",
      "   macro avg       0.66      0.45      0.48       589\n",
      "weighted avg       0.76      0.79      0.75       589\n",
      "\n"
     ]
    }
   ],
   "source": [
    "df_train_light = df_train.copy()\n",
    "df_val_light = df_val.copy()\n",
    "\n",
    "# move light response to the end\n",
    "df_aux = df_train_light.pop('light_cozie')\n",
    "df_train_light['light_cozie'] = df_aux\n",
    "\n",
    "df_aux = df_val_light.pop('light_cozie')\n",
    "df_val_light['light_cozie'] = df_aux\n",
    "\n",
    "# drop other preferences\n",
    "other_preferences = ['user_grouped_cooler', 'user_grouped_warmer', 'user_grouped_quieter', 'user_grouped_louder',\n",
    "                     'room_grouped_cooler', 'room_grouped_warmer', 'room_grouped_quieter', 'room_grouped_louder']\n",
    "\n",
    "df_train_light.drop(other_preferences, axis=1, inplace=True)\n",
    "df_val_light.drop(other_preferences, axis=1, inplace=True)\n",
    "\n",
    "print(df_train_light.columns.values)\n",
    "\n",
    "# train and validate model\n",
    "clf = RandomForestClassifier(n_estimators = 1000, random_state = seed)\n",
    "micro_rf_4_light, macro_rf_4_light, _ = model_validate(df_train_light, df_val_light, clf)\n"
   ]
  },
  {
   "cell_type": "markdown",
   "metadata": {
    "toc-hr-collapsed": true
   },
   "source": [
    "## Aural Comfort Prediction"
   ]
  },
  {
   "cell_type": "code",
   "execution_count": 22,
   "metadata": {},
   "outputs": [
    {
     "name": "stdout",
     "output_type": "stream",
     "text": [
      "['heartRate_cozie' 'light_cozie' 'temperature_mbient' 'hour_sin'\n",
      " 'hour_cos' 'day_of_week_sin' 'day_of_week_cos' 'user_grouped_quieter'\n",
      " 'user_grouped_louder' 'room_grouped_quieter' 'room_grouped_louder'\n",
      " 'thermal_cozie' 'noise_cozie']\n",
      "Accuracy (f1 micro) on validation set: 0.8743633276740238\n",
      "F1 micro on validation set: 0.8743633276740239\n",
      "F1 macro on validation set: 0.7205165692007798\n",
      "Confusion Matrix: \n",
      "[[476  23]\n",
      " [ 51  39]]\n",
      "Classification Metrics: \n",
      "              precision    recall  f1-score   support\n",
      "\n",
      "        10.0       0.90      0.95      0.93       499\n",
      "        11.0       0.63      0.43      0.51        90\n",
      "\n",
      "    accuracy                           0.87       589\n",
      "   macro avg       0.77      0.69      0.72       589\n",
      "weighted avg       0.86      0.87      0.86       589\n",
      "\n"
     ]
    }
   ],
   "source": [
    "df_train_aural = df_train.copy()\n",
    "df_val_aural = df_val.copy()\n",
    "\n",
    "# move light response to the end\n",
    "df_aux = df_train_aural.pop('noise_cozie')\n",
    "df_train_aural['noise_cozie'] = df_aux\n",
    "\n",
    "df_aux = df_val_aural.pop('noise_cozie')\n",
    "df_val_aural['noise_cozie'] = df_aux\n",
    "\n",
    "# drop other preferences\n",
    "other_preferences = ['user_grouped_cooler', 'user_grouped_warmer', 'user_grouped_dimmer', 'user_grouped_brighter',\n",
    "                     'room_grouped_cooler', 'room_grouped_warmer', 'room_grouped_dimmer', 'room_grouped_brighter']\n",
    "\n",
    "df_train_aural.drop(other_preferences, axis=1, inplace=True)\n",
    "df_val_aural.drop(other_preferences, axis=1, inplace=True)\n",
    "\n",
    "print(df_train_aural.columns.values)\n",
    "\n",
    "# train and validate model\n",
    "clf = RandomForestClassifier(n_estimators = 1000, random_state = seed)\n",
    "micro_rf_4_aural, macro_rf_4_aural, _ = model_validate(df_train_aural, df_val_aural, clf)\n"
   ]
  },
  {
   "cell_type": "markdown",
   "metadata": {
    "toc-hr-collapsed": true
   },
   "source": [
    "# FS5: Time + Heart Rate + room + preference history"
   ]
  },
  {
   "cell_type": "code",
   "execution_count": 23,
   "metadata": {},
   "outputs": [
    {
     "name": "stdout",
     "output_type": "stream",
     "text": [
      "Loading files from: data-processed-preferences/2019-11-15_fs5\n"
     ]
    }
   ],
   "source": [
    "df_file = folder_path + file_date + \"_\" +  dataframes_names[4]\n",
    "print(\"Loading files from: {}\".format(df_file))\n"
   ]
  },
  {
   "cell_type": "code",
   "execution_count": 24,
   "metadata": {},
   "outputs": [
    {
     "name": "stdout",
     "output_type": "stream",
     "text": [
      "['heartRate_cozie' 'light_cozie' 'noise_cozie' 'hour_sin' 'hour_cos'\n",
      " 'day_of_week_sin' 'day_of_week_cos' 'user_grouped_cooler'\n",
      " 'user_grouped_warmer' 'user_grouped_dimmer' 'user_grouped_brighter'\n",
      " 'user_grouped_quieter' 'user_grouped_louder' 'room_grouped_cooler'\n",
      " 'room_grouped_warmer' 'room_grouped_dimmer' 'room_grouped_brighter'\n",
      " 'room_grouped_quieter' 'room_grouped_louder' 'thermal_cozie']\n"
     ]
    }
   ],
   "source": [
    "df_train = pd.DataFrame()\n",
    "df_val = pd.DataFrame()\n",
    "\n",
    "for participant in participant_list:\n",
    "    df_train_participant = pd.read_csv(\"../\" + df_file + \"_train_\" + participant + \".csv\")\n",
    "    df_val_participant = pd.read_csv(\"../\" + df_file + \"_val_\" + participant + \".csv\")\n",
    "    \n",
    "    df_train = df_train.append(df_train_participant, ignore_index = True)\n",
    "    df_val = df_val.append(df_val_participant, ignore_index = True)\n",
    "\n",
    "# drop userid\n",
    "df_train.drop('user_id', axis=1, inplace=True)\n",
    "df_val.drop('user_id', axis=1, inplace=True)\n",
    "\n",
    "# drop room\n",
    "df_train.drop('room', axis=1, inplace=True)\n",
    "df_val.drop('room', axis=1, inplace=True)\n",
    "\n",
    "print(df_train.columns.values)\n"
   ]
  },
  {
   "cell_type": "markdown",
   "metadata": {
    "toc-hr-collapsed": true
   },
   "source": [
    "## Thermal Comfort Prediction"
   ]
  },
  {
   "cell_type": "code",
   "execution_count": 25,
   "metadata": {},
   "outputs": [
    {
     "name": "stdout",
     "output_type": "stream",
     "text": [
      "['heartRate_cozie' 'light_cozie' 'noise_cozie' 'hour_sin' 'hour_cos'\n",
      " 'day_of_week_sin' 'day_of_week_cos' 'user_grouped_cooler'\n",
      " 'user_grouped_warmer' 'room_grouped_cooler' 'room_grouped_warmer'\n",
      " 'thermal_cozie']\n",
      "Accuracy (f1 micro) on validation set: 0.6825127334465195\n",
      "F1 micro on validation set: 0.6825127334465195\n",
      "F1 macro on validation set: 0.5509984512698217\n",
      "Confusion Matrix: \n",
      "[[ 21  54   6]\n",
      " [ 25 314  26]\n",
      " [  5  71  67]]\n",
      "Classification Metrics: \n",
      "              precision    recall  f1-score   support\n",
      "\n",
      "         9.0       0.41      0.26      0.32        81\n",
      "        10.0       0.72      0.86      0.78       365\n",
      "        11.0       0.68      0.47      0.55       143\n",
      "\n",
      "    accuracy                           0.68       589\n",
      "   macro avg       0.60      0.53      0.55       589\n",
      "weighted avg       0.66      0.68      0.66       589\n",
      "\n"
     ]
    }
   ],
   "source": [
    "df_train_thermal = df_train.copy()\n",
    "df_val_thermal = df_val.copy()\n",
    "\n",
    "# drop other preferences\n",
    "other_preferences = ['user_grouped_dimmer', 'user_grouped_brighter', 'user_grouped_quieter', 'user_grouped_louder',\n",
    "                     'room_grouped_dimmer', 'room_grouped_brighter', 'room_grouped_quieter', 'room_grouped_louder']\n",
    "\n",
    "df_train_thermal.drop(other_preferences, axis=1, inplace=True)\n",
    "df_val_thermal.drop(other_preferences, axis=1, inplace=True)\n",
    "\n",
    "print(df_train_thermal.columns.values)\n",
    "\n",
    "clf = RandomForestClassifier(n_estimators = 1000, random_state = seed)\n",
    "micro_rf_5_thermal, macro_rf_5_thermal, _ = model_validate(df_train_thermal, df_val_thermal, clf)\n"
   ]
  },
  {
   "cell_type": "markdown",
   "metadata": {
    "toc-hr-collapsed": true
   },
   "source": [
    "## Light Comfort Prediction"
   ]
  },
  {
   "cell_type": "code",
   "execution_count": 26,
   "metadata": {},
   "outputs": [
    {
     "name": "stdout",
     "output_type": "stream",
     "text": [
      "['heartRate_cozie' 'noise_cozie' 'hour_sin' 'hour_cos' 'day_of_week_sin'\n",
      " 'day_of_week_cos' 'user_grouped_dimmer' 'user_grouped_brighter'\n",
      " 'room_grouped_dimmer' 'room_grouped_brighter' 'thermal_cozie'\n",
      " 'light_cozie']\n",
      "Accuracy (f1 micro) on validation set: 0.7860780984719864\n",
      "F1 micro on validation set: 0.7860780984719865\n",
      "F1 macro on validation set: 0.49557731611682043\n",
      "Confusion Matrix: \n",
      "[[ 24  54   0]\n",
      " [ 21 431   5]\n",
      " [  7  39   8]]\n",
      "Classification Metrics: \n",
      "              precision    recall  f1-score   support\n",
      "\n",
      "         9.0       0.46      0.31      0.37        78\n",
      "        10.0       0.82      0.94      0.88       457\n",
      "        11.0       0.62      0.15      0.24        54\n",
      "\n",
      "    accuracy                           0.79       589\n",
      "   macro avg       0.63      0.47      0.50       589\n",
      "weighted avg       0.76      0.79      0.75       589\n",
      "\n"
     ]
    }
   ],
   "source": [
    "df_train_light = df_train.copy()\n",
    "df_val_light = df_val.copy()\n",
    "\n",
    "# move light response to the end\n",
    "df_aux = df_train_light.pop('light_cozie')\n",
    "df_train_light['light_cozie'] = df_aux\n",
    "\n",
    "df_aux = df_val_light.pop('light_cozie')\n",
    "df_val_light['light_cozie'] = df_aux\n",
    "\n",
    "# drop other preferences\n",
    "other_preferences = ['user_grouped_cooler', 'user_grouped_warmer', 'user_grouped_quieter', 'user_grouped_louder',\n",
    "                     'room_grouped_cooler', 'room_grouped_warmer', 'room_grouped_quieter', 'room_grouped_louder']\n",
    "\n",
    "df_train_light.drop(other_preferences, axis=1, inplace=True)\n",
    "df_val_light.drop(other_preferences, axis=1, inplace=True)\n",
    "\n",
    "print(df_train_light.columns.values)\n",
    "\n",
    "# train and validate model\n",
    "clf = RandomForestClassifier(n_estimators = 1000, random_state = seed)\n",
    "micro_rf_5_light, macro_rf_5_light, _ = model_validate(df_train_light, df_val_light, clf)\n"
   ]
  },
  {
   "cell_type": "markdown",
   "metadata": {
    "toc-hr-collapsed": true
   },
   "source": [
    "## Aural Comfort Prediction"
   ]
  },
  {
   "cell_type": "code",
   "execution_count": 27,
   "metadata": {},
   "outputs": [
    {
     "name": "stdout",
     "output_type": "stream",
     "text": [
      "['heartRate_cozie' 'light_cozie' 'hour_sin' 'hour_cos' 'day_of_week_sin'\n",
      " 'day_of_week_cos' 'user_grouped_quieter' 'user_grouped_louder'\n",
      " 'room_grouped_quieter' 'room_grouped_louder' 'thermal_cozie'\n",
      " 'noise_cozie']\n",
      "Accuracy (f1 micro) on validation set: 0.8675721561969439\n",
      "F1 micro on validation set: 0.8675721561969439\n",
      "F1 macro on validation set: 0.7054093567251463\n",
      "Confusion Matrix: \n",
      "[[474  25]\n",
      " [ 53  37]]\n",
      "Classification Metrics: \n",
      "              precision    recall  f1-score   support\n",
      "\n",
      "        10.0       0.90      0.95      0.92       499\n",
      "        11.0       0.60      0.41      0.49        90\n",
      "\n",
      "    accuracy                           0.87       589\n",
      "   macro avg       0.75      0.68      0.71       589\n",
      "weighted avg       0.85      0.87      0.86       589\n",
      "\n"
     ]
    }
   ],
   "source": [
    "df_train_aural = df_train.copy()\n",
    "df_val_aural = df_val.copy()\n",
    "\n",
    "# move light response to the end\n",
    "df_aux = df_train_aural.pop('noise_cozie')\n",
    "df_train_aural['noise_cozie'] = df_aux\n",
    "\n",
    "df_aux = df_val_aural.pop('noise_cozie')\n",
    "df_val_aural['noise_cozie'] = df_aux\n",
    "\n",
    "# drop other preferences\n",
    "other_preferences = ['user_grouped_cooler', 'user_grouped_warmer', 'user_grouped_dimmer', 'user_grouped_brighter',\n",
    "                     'room_grouped_cooler', 'room_grouped_warmer', 'room_grouped_dimmer', 'room_grouped_brighter']\n",
    "\n",
    "df_train_aural.drop(other_preferences, axis=1, inplace=True)\n",
    "df_val_aural.drop(other_preferences, axis=1, inplace=True)\n",
    "\n",
    "print(df_train_aural.columns.values)\n",
    "\n",
    "# train and validate model\n",
    "clf = RandomForestClassifier(n_estimators = 1000, random_state = seed)\n",
    "micro_rf_5_aural, macro_rf_5_aural, _ = model_validate(df_train_aural, df_val_aural, clf)\n"
   ]
  },
  {
   "cell_type": "markdown",
   "metadata": {
    "toc-hr-collapsed": false
   },
   "source": [
    "# FS6: Time + room + preference history"
   ]
  },
  {
   "cell_type": "code",
   "execution_count": 28,
   "metadata": {},
   "outputs": [
    {
     "name": "stdout",
     "output_type": "stream",
     "text": [
      "Loading files from: data-processed-preferences/2019-11-15_fs6\n"
     ]
    }
   ],
   "source": [
    "df_file = folder_path + file_date + \"_\" +  dataframes_names[5]\n",
    "print(\"Loading files from: {}\".format(df_file))\n"
   ]
  },
  {
   "cell_type": "code",
   "execution_count": 29,
   "metadata": {},
   "outputs": [
    {
     "name": "stdout",
     "output_type": "stream",
     "text": [
      "['light_cozie' 'noise_cozie' 'hour_sin' 'hour_cos' 'day_of_week_sin'\n",
      " 'day_of_week_cos' 'user_grouped_cooler' 'user_grouped_warmer'\n",
      " 'user_grouped_dimmer' 'user_grouped_brighter' 'user_grouped_quieter'\n",
      " 'user_grouped_louder' 'room_grouped_cooler' 'room_grouped_warmer'\n",
      " 'room_grouped_dimmer' 'room_grouped_brighter' 'room_grouped_quieter'\n",
      " 'room_grouped_louder' 'thermal_cozie']\n"
     ]
    }
   ],
   "source": [
    "df_train = pd.DataFrame()\n",
    "df_val = pd.DataFrame()\n",
    "\n",
    "for participant in participant_list:\n",
    "    df_train_participant = pd.read_csv(\"../\" + df_file + \"_train_\" + participant + \".csv\")\n",
    "    df_val_participant = pd.read_csv(\"../\" + df_file + \"_val_\" + participant + \".csv\")\n",
    "    \n",
    "    df_train = df_train.append(df_train_participant, ignore_index = True)\n",
    "    df_val = df_val.append(df_val_participant, ignore_index = True)\n",
    "\n",
    "# drop userid\n",
    "df_train.drop('user_id', axis=1, inplace=True)\n",
    "df_val.drop('user_id', axis=1, inplace=True)\n",
    "\n",
    "# drop room\n",
    "df_train.drop('room', axis=1, inplace=True)\n",
    "df_val.drop('room', axis=1, inplace=True)\n",
    "\n",
    "print(df_train.columns.values)\n"
   ]
  },
  {
   "cell_type": "markdown",
   "metadata": {
    "toc-hr-collapsed": true
   },
   "source": [
    "## Thermal Comfort Prediction"
   ]
  },
  {
   "cell_type": "code",
   "execution_count": 30,
   "metadata": {},
   "outputs": [
    {
     "name": "stdout",
     "output_type": "stream",
     "text": [
      "['light_cozie' 'noise_cozie' 'hour_sin' 'hour_cos' 'day_of_week_sin'\n",
      " 'day_of_week_cos' 'user_grouped_cooler' 'user_grouped_warmer'\n",
      " 'room_grouped_cooler' 'room_grouped_warmer' 'thermal_cozie']\n",
      "Accuracy (f1 micro) on validation set: 0.6383701188455009\n",
      "F1 micro on validation set: 0.6383701188455009\n",
      "F1 macro on validation set: 0.5146724817888643\n",
      "Confusion Matrix: \n",
      "[[ 19  57   5]\n",
      " [ 45 289  31]\n",
      " [  5  70  68]]\n",
      "Classification Metrics: \n",
      "              precision    recall  f1-score   support\n",
      "\n",
      "         9.0       0.28      0.23      0.25        81\n",
      "        10.0       0.69      0.79      0.74       365\n",
      "        11.0       0.65      0.48      0.55       143\n",
      "\n",
      "    accuracy                           0.64       589\n",
      "   macro avg       0.54      0.50      0.51       589\n",
      "weighted avg       0.63      0.64      0.63       589\n",
      "\n"
     ]
    }
   ],
   "source": [
    "df_train_thermal = df_train.copy()\n",
    "df_val_thermal = df_val.copy()\n",
    "\n",
    "# drop other preferences\n",
    "other_preferences = ['user_grouped_dimmer', 'user_grouped_brighter', 'user_grouped_quieter', 'user_grouped_louder',\n",
    "                     'room_grouped_dimmer', 'room_grouped_brighter', 'room_grouped_quieter', 'room_grouped_louder']\n",
    "\n",
    "df_train_thermal.drop(other_preferences, axis=1, inplace=True)\n",
    "df_val_thermal.drop(other_preferences, axis=1, inplace=True)\n",
    "\n",
    "print(df_train_thermal.columns.values)\n",
    "\n",
    "clf = RandomForestClassifier(n_estimators = 1000, random_state = seed)\n",
    "micro_rf_6_thermal, macro_rf_6_thermal, _ = model_validate(df_train_thermal, df_val_thermal, clf)\n"
   ]
  },
  {
   "cell_type": "markdown",
   "metadata": {
    "toc-hr-collapsed": true
   },
   "source": [
    "## Light Comfort Prediction"
   ]
  },
  {
   "cell_type": "code",
   "execution_count": 31,
   "metadata": {},
   "outputs": [
    {
     "name": "stdout",
     "output_type": "stream",
     "text": [
      "['noise_cozie' 'hour_sin' 'hour_cos' 'day_of_week_sin' 'day_of_week_cos'\n",
      " 'user_grouped_dimmer' 'user_grouped_brighter' 'room_grouped_dimmer'\n",
      " 'room_grouped_brighter' 'thermal_cozie' 'light_cozie']\n",
      "Accuracy (f1 micro) on validation set: 0.801358234295416\n",
      "F1 micro on validation set: 0.801358234295416\n",
      "F1 macro on validation set: 0.5585860349680144\n",
      "Confusion Matrix: \n",
      "[[ 33  44   1]\n",
      " [ 24 427   6]\n",
      " [  9  33  12]]\n",
      "Classification Metrics: \n",
      "              precision    recall  f1-score   support\n",
      "\n",
      "         9.0       0.50      0.42      0.46        78\n",
      "        10.0       0.85      0.93      0.89       457\n",
      "        11.0       0.63      0.22      0.33        54\n",
      "\n",
      "    accuracy                           0.80       589\n",
      "   macro avg       0.66      0.53      0.56       589\n",
      "weighted avg       0.78      0.80      0.78       589\n",
      "\n"
     ]
    }
   ],
   "source": [
    "df_train_light = df_train.copy()\n",
    "df_val_light = df_val.copy()\n",
    "\n",
    "# move light response to the end\n",
    "df_aux = df_train_light.pop('light_cozie')\n",
    "df_train_light['light_cozie'] = df_aux\n",
    "\n",
    "df_aux = df_val_light.pop('light_cozie')\n",
    "df_val_light['light_cozie'] = df_aux\n",
    "\n",
    "# drop other preferences\n",
    "other_preferences = ['user_grouped_cooler', 'user_grouped_warmer', 'user_grouped_quieter', 'user_grouped_louder',\n",
    "                     'room_grouped_cooler', 'room_grouped_warmer', 'room_grouped_quieter', 'room_grouped_louder']\n",
    "\n",
    "df_train_light.drop(other_preferences, axis=1, inplace=True)\n",
    "df_val_light.drop(other_preferences, axis=1, inplace=True)\n",
    "\n",
    "print(df_train_light.columns.values)\n",
    "\n",
    "# train and validate model\n",
    "clf = RandomForestClassifier(n_estimators = 1000, random_state = seed)\n",
    "micro_rf_6_light, macro_rf_6_light, _ = model_validate(df_train_light, df_val_light, clf)\n"
   ]
  },
  {
   "cell_type": "markdown",
   "metadata": {
    "toc-hr-collapsed": true
   },
   "source": [
    "## Aural Comfort Prediction"
   ]
  },
  {
   "cell_type": "code",
   "execution_count": 32,
   "metadata": {},
   "outputs": [
    {
     "name": "stdout",
     "output_type": "stream",
     "text": [
      "['light_cozie' 'hour_sin' 'hour_cos' 'day_of_week_sin' 'day_of_week_cos'\n",
      " 'user_grouped_quieter' 'user_grouped_louder' 'room_grouped_quieter'\n",
      " 'room_grouped_louder' 'thermal_cozie' 'noise_cozie']\n",
      "Accuracy (f1 micro) on validation set: 0.8556876061120543\n",
      "F1 micro on validation set: 0.8556876061120543\n",
      "F1 macro on validation set: 0.6909968460878528\n",
      "Confusion Matrix: \n",
      "[[467  32]\n",
      " [ 53  37]]\n",
      "Classification Metrics: \n",
      "              precision    recall  f1-score   support\n",
      "\n",
      "        10.0       0.90      0.94      0.92       499\n",
      "        11.0       0.54      0.41      0.47        90\n",
      "\n",
      "    accuracy                           0.86       589\n",
      "   macro avg       0.72      0.67      0.69       589\n",
      "weighted avg       0.84      0.86      0.85       589\n",
      "\n"
     ]
    }
   ],
   "source": [
    "df_train_aural = df_train.copy()\n",
    "df_val_aural = df_val.copy()\n",
    "\n",
    "# move light response to the end\n",
    "df_aux = df_train_aural.pop('noise_cozie')\n",
    "df_train_aural['noise_cozie'] = df_aux\n",
    "\n",
    "df_aux = df_val_aural.pop('noise_cozie')\n",
    "df_val_aural['noise_cozie'] = df_aux\n",
    "\n",
    "# drop other preferences\n",
    "other_preferences = ['user_grouped_cooler', 'user_grouped_warmer', 'user_grouped_dimmer', 'user_grouped_brighter',\n",
    "                     'room_grouped_cooler', 'room_grouped_warmer', 'room_grouped_dimmer', 'room_grouped_brighter']\n",
    "\n",
    "df_train_aural.drop(other_preferences, axis=1, inplace=True)\n",
    "df_val_aural.drop(other_preferences, axis=1, inplace=True)\n",
    "\n",
    "print(df_train_aural.columns.values)\n",
    "\n",
    "# train and validate model\n",
    "clf = RandomForestClassifier(n_estimators = 1000, random_state = seed)\n",
    "micro_rf_6_aural, macro_rf_6_aural, _ = model_validate(df_train_aural, df_val_aural, clf)\n"
   ]
  },
  {
   "cell_type": "markdown",
   "metadata": {
    "toc-hr-collapsed": true
   },
   "source": [
    "# Results"
   ]
  },
  {
   "cell_type": "code",
   "execution_count": 33,
   "metadata": {},
   "outputs": [],
   "source": [
    "dict_results_grouped_micro = {\n",
    "    \"fs1_thermal\" : micro_rf_1_thermal,\n",
    "    \"fs1_light\" : micro_rf_1_light,\n",
    "    \"fs1_aural\" : micro_rf_1_aural,\n",
    "\n",
    "    \"fs2_thermal\" : micro_rf_2_thermal,\n",
    "    \"fs2_light\" : micro_rf_2_light,\n",
    "    \"fs2_aural\" : micro_rf_2_aural,\n",
    "    \n",
    "    \"fs3_thermal\" : micro_rf_3_thermal,\n",
    "    \"fs3_light\" : micro_rf_3_light,\n",
    "    \"fs3_aural\" : micro_rf_3_aural,\n",
    "\n",
    "    \"fs4_thermal\" : micro_rf_4_thermal,\n",
    "    \"fs4_light\" : micro_rf_4_light,\n",
    "    \"fs4_aural\" : micro_rf_4_aural,\n",
    "\n",
    "    \"fs5_thermal\" : micro_rf_5_thermal,\n",
    "    \"fs5_light\" : micro_rf_5_light,\n",
    "    \"fs5_aural\" : micro_rf_5_aural,\n",
    "    \n",
    "    \"fs6_thermal\" : micro_rf_6_thermal,\n",
    "    \"fs6_light\" : micro_rf_6_light,\n",
    "    \"fs6_aural\" : micro_rf_6_aural,\n",
    "}\n",
    "\n",
    "dict_results_grouped_macro = {\n",
    "    \"fs1_thermal\" : macro_rf_1_thermal,\n",
    "    \"fs1_light\" : macro_rf_1_light,\n",
    "    \"fs1_aural\" : macro_rf_1_aural,\n",
    "\n",
    "    \"fs2_thermal\" : macro_rf_2_thermal,\n",
    "    \"fs2_light\" : macro_rf_2_light,\n",
    "    \"fs2_aural\" : macro_rf_2_aural,\n",
    "    \n",
    "    \"fs3_thermal\" : macro_rf_3_thermal,\n",
    "    \"fs3_light\" : macro_rf_3_light,\n",
    "    \"fs3_aural\" : macro_rf_3_aural,\n",
    "\n",
    "    \"fs4_thermal\" : macro_rf_4_thermal,\n",
    "    \"fs4_light\" : macro_rf_4_light,\n",
    "    \"fs4_aural\" : macro_rf_4_aural,\n",
    "\n",
    "    \"fs5_thermal\" : macro_rf_5_thermal,\n",
    "    \"fs5_light\" : macro_rf_5_light,\n",
    "    \"fs5_aural\" : macro_rf_5_aural,\n",
    "    \n",
    "    \"fs6_thermal\" : macro_rf_6_thermal,\n",
    "    \"fs6_light\" : macro_rf_6_light,\n",
    "    \"fs6_aural\" : macro_rf_6_aural,\n",
    "}"
   ]
  },
  {
   "cell_type": "code",
   "execution_count": 34,
   "metadata": {},
   "outputs": [],
   "source": [
    "# save dictionaries with results\n",
    "pickle.dump(dict_results_grouped_micro, open(\"../\" + folder_path + file_date + \"_grouped_micro\" + \".pickle\", \"wb\" ))\n",
    "pickle.dump(dict_results_grouped_macro, open(\"../\" + folder_path + file_date + \"_grouped_macro\" + \".pickle\", \"wb\" ))\n"
   ]
  },
  {
   "cell_type": "code",
   "execution_count": null,
   "metadata": {},
   "outputs": [],
   "source": []
  }
 ],
 "metadata": {
  "kernelspec": {
   "display_name": "Python 3",
   "language": "python",
   "name": "python3"
  },
  "language_info": {
   "codemirror_mode": {
    "name": "ipython",
    "version": 3
   },
   "file_extension": ".py",
   "mimetype": "text/x-python",
   "name": "python",
   "nbconvert_exporter": "python",
   "pygments_lexer": "ipython3",
   "version": "3.7.4"
  },
  "toc-autonumbering": true,
  "toc-showcode": true
 },
 "nbformat": 4,
 "nbformat_minor": 4
}
