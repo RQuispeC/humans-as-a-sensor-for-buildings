{
 "cells": [
  {
   "cell_type": "code",
   "execution_count": 1,
   "metadata": {},
   "outputs": [],
   "source": [
    "import pickle\n",
    "import statistics\n",
    "import matplotlib\n",
    "import pandas as pd\n",
    "import seaborn as sns\n",
    "import matplotlib.pyplot as plt\n",
    "\n",
    "matplotlib.rcParams['font.sans-serif'] = \"Arial\"\n",
    "matplotlib.rcParams['font.family'] = \"sans-serif\"\n"
   ]
  },
  {
   "cell_type": "markdown",
   "metadata": {},
   "source": [
    "# Variables"
   ]
  },
  {
   "cell_type": "code",
   "execution_count": 2,
   "metadata": {},
   "outputs": [
    {
     "name": "stdout",
     "output_type": "stream",
     "text": [
      "Available participants: \n",
      "['cresh07' 'cresh10' 'cresh08' 'cresh12' 'cresh09' 'cresh06' 'cresh02'\n",
      " 'cresh13' 'cresh15' 'cresh03' 'cresh14' 'cresh11' 'cresh05' 'cresh01'\n",
      " 'cresh04' 'cresh22' 'cresh16' 'cresh19' 'cresh21' 'cresh26' 'cresh29'\n",
      " 'cresh27' 'cresh23' 'cresh20' 'cresh18' 'cresh30' 'cresh17' 'cresh24'\n",
      " 'cresh28' 'cresh25']\n"
     ]
    }
   ],
   "source": [
    "seed = 13\n",
    "dataframes_names = ['fs1', 'fs2', 'fs3', 'fs4', 'fs5', 'fs6']\n",
    "folder_path = 'data-processed-preferences/'\n",
    "file_date = '2019-11-15'\n",
    "\n",
    "# load any of the dataset just to get the complete list of participants\n",
    "dataframe_names = pd.read_csv('../' + folder_path + file_date + '_'  + dataframes_names[0] + \".csv\")\n",
    "participant_list = dataframe_names['user_id'].unique()\n",
    "print(\"Available participants: \\n{}\".format(participant_list))\n"
   ]
  },
  {
   "cell_type": "markdown",
   "metadata": {},
   "source": [
    "# Load group results"
   ]
  },
  {
   "cell_type": "code",
   "execution_count": 3,
   "metadata": {},
   "outputs": [
    {
     "name": "stdout",
     "output_type": "stream",
     "text": [
      "Loading file <_io.BufferedReader name='../data-processed-preferences/2019-11-15_grouped_micro.pickle'>\n",
      "Loading file <_io.BufferedReader name='../data-processed-preferences/2019-11-15_grouped_macro.pickle'>\n"
     ]
    }
   ],
   "source": [
    "file = open('../' + folder_path + file_date + '_grouped_micro' + '.pickle','rb')\n",
    "micro_f1 = pickle.load(file)\n",
    "\n",
    "print(\"Loading file {}\".format(file))\n",
    "\n",
    "file = open('../' + folder_path + file_date + '_grouped_macro' + '.pickle','rb')\n",
    "macro_f1 = pickle.load(file)\n",
    "\n",
    "print(\"Loading file {}\".format(file))\n"
   ]
  },
  {
   "cell_type": "code",
   "execution_count": 4,
   "metadata": {},
   "outputs": [
    {
     "name": "stdout",
     "output_type": "stream",
     "text": [
      "{'fs1_thermal': 0.5823429541595926, 'fs1_light': 0.7640067911714772, 'fs1_aural': 0.8573853989813243, 'fs2_thermal': 0.6451612903225806, 'fs2_light': 0.7741935483870968, 'fs2_aural': 0.8573853989813243, 'fs3_thermal': 0.7028862478777589, 'fs3_light': 0.7962648556876061, 'fs3_aural': 0.8794567062818336, 'fs4_thermal': 0.7198641765704584, 'fs4_light': 0.7860780984719865, 'fs4_aural': 0.8743633276740239, 'fs5_thermal': 0.6825127334465195, 'fs5_light': 0.7860780984719865, 'fs5_aural': 0.8675721561969439, 'fs6_thermal': 0.6383701188455009, 'fs6_light': 0.801358234295416, 'fs6_aural': 0.8556876061120543}\n"
     ]
    }
   ],
   "source": [
    "print(micro_f1)"
   ]
  },
  {
   "cell_type": "code",
   "execution_count": 5,
   "metadata": {},
   "outputs": [
    {
     "name": "stdout",
     "output_type": "stream",
     "text": [
      "{'fs1_thermal': 0.39070972509983687, 'fs1_light': 0.4053285070234223, 'fs1_aural': 0.6677143778207608, 'fs2_thermal': 0.4545053409204353, 'fs2_light': 0.3711119626512445, 'fs2_aural': 0.6508693688607881, 'fs3_thermal': 0.5473951577299011, 'fs3_light': 0.4752104739752728, 'fs3_aural': 0.7445965175861289, 'fs4_thermal': 0.5714293556684861, 'fs4_light': 0.4833816589914151, 'fs4_aural': 0.7205165692007798, 'fs5_thermal': 0.5509984512698217, 'fs5_light': 0.49557731611682043, 'fs5_aural': 0.7054093567251463, 'fs6_thermal': 0.5146724817888643, 'fs6_light': 0.5585860349680144, 'fs6_aural': 0.6909968460878528}\n"
     ]
    }
   ],
   "source": [
    "print(macro_f1)"
   ]
  },
  {
   "cell_type": "markdown",
   "metadata": {},
   "source": [
    "# Load personal results"
   ]
  },
  {
   "cell_type": "code",
   "execution_count": 6,
   "metadata": {},
   "outputs": [
    {
     "name": "stdout",
     "output_type": "stream",
     "text": [
      "Loading file <_io.BufferedReader name='../data-processed-preferences/2019-11-15_personal_micro.pickle'>\n",
      "Loading file <_io.BufferedReader name='../data-processed-preferences/2019-11-15_personal_macro.pickle'>\n"
     ]
    }
   ],
   "source": [
    "file = open('../' + folder_path + file_date + '_personal_micro' + '.pickle','rb')\n",
    "personal_micro = pickle.load(file)\n",
    "\n",
    "print(\"Loading file {}\".format(file))\n",
    "\n",
    "file = open('../' + folder_path + file_date + '_personal_macro' + '.pickle','rb')\n",
    "personal_macro = pickle.load(file)\n",
    "\n",
    "print(\"Loading file {}\".format(file))"
   ]
  },
  {
   "cell_type": "code",
   "execution_count": 7,
   "metadata": {
    "collapsed": true,
    "jupyter": {
     "outputs_hidden": true
    }
   },
   "outputs": [
    {
     "name": "stdout",
     "output_type": "stream",
     "text": [
      "{'fs1_thermal': {'cresh07': 0.47368421052631576, 'cresh10': 0.6111111111111112, 'cresh08': 0.6875, 'cresh12': 0.45, 'cresh09': 0.20000000000000004, 'cresh06': 0.3877551020408163, 'cresh02': 0.6666666666666666, 'cresh13': 0.75, 'cresh15': 0.9333333333333333, 'cresh03': 0.8333333333333334, 'cresh14': 0.4074074074074074, 'cresh11': 0.5, 'cresh05': 0.7142857142857143, 'cresh01': 0.6190476190476191, 'cresh04': 1.0, 'cresh22': 0.25, 'cresh16': 0.7142857142857143, 'cresh19': 0.625, 'cresh21': 0.5714285714285714, 'cresh26': 0.8235294117647058, 'cresh29': 1.0, 'cresh27': 0.9166666666666666, 'cresh23': 0.6666666666666666, 'cresh20': 0.7222222222222222, 'cresh18': 0.72, 'cresh30': 0.5384615384615384, 'cresh17': 0.17647058823529413, 'cresh24': 0.3157894736842105, 'cresh28': 0.5, 'cresh25': 0.3333333333333333}, 'fs1_light': {'cresh07': 0.9473684210526315, 'cresh10': 0.8333333333333334, 'cresh08': 0.8125, 'cresh12': 0.9, 'cresh09': 1.0, 'cresh06': 0.8367346938775511, 'cresh02': 0.2916666666666667, 'cresh13': 0.45, 'cresh15': 0.06666666666666667, 'cresh03': 0.3888888888888889, 'cresh14': 1.0, 'cresh11': 0.25, 'cresh05': 0.8571428571428571, 'cresh01': 0.42857142857142855, 'cresh04': 1.0, 'cresh22': 1.0, 'cresh16': 1.0, 'cresh19': 1.0, 'cresh21': 1.0, 'cresh26': 0.8235294117647058, 'cresh29': 1.0, 'cresh27': 0.8333333333333334, 'cresh23': 0.7222222222222222, 'cresh20': 0.7777777777777778, 'cresh18': 1.0, 'cresh30': 0.7692307692307693, 'cresh17': 0.17647058823529413, 'cresh24': 0.47368421052631576, 'cresh28': 0.5, 'cresh25': 0.3333333333333333}, 'fs1_aural': {'cresh07': 0.9473684210526315, 'cresh10': 0.7222222222222222, 'cresh08': 0.9375, 'cresh12': 0.9, 'cresh09': 0.9500000000000001, 'cresh06': 0.8571428571428571, 'cresh02': 0.5416666666666666, 'cresh13': 0.65, 'cresh15': 0.9333333333333333, 'cresh03': 0.9444444444444444, 'cresh14': 0.9629629629629629, 'cresh11': 1.0, 'cresh05': 1.0, 'cresh01': 0.9047619047619048, 'cresh04': 1.0, 'cresh22': 0.9375, 'cresh16': 1.0, 'cresh19': 1.0, 'cresh21': 0.9523809523809523, 'cresh26': 0.8823529411764706, 'cresh29': 1.0, 'cresh27': 1.0, 'cresh23': 0.4444444444444444, 'cresh20': 1.0, 'cresh18': 0.92, 'cresh30': 0.6153846153846154, 'cresh17': 0.6470588235294118, 'cresh24': 0.7368421052631579, 'cresh28': 0.6666666666666666, 'cresh25': 0.8666666666666667}, 'fs2_thermal': {'cresh07': 0.5263157894736842, 'cresh10': 0.5555555555555556, 'cresh08': 0.75, 'cresh12': 0.5, 'cresh09': 0.25, 'cresh06': 0.6326530612244898, 'cresh02': 0.7083333333333334, 'cresh13': 0.8000000000000002, 'cresh15': 0.9333333333333333, 'cresh03': 0.8333333333333334, 'cresh14': 0.6666666666666666, 'cresh11': 0.5, 'cresh05': 0.7142857142857143, 'cresh01': 0.6190476190476191, 'cresh04': 1.0, 'cresh22': 0.25, 'cresh16': 0.7142857142857143, 'cresh19': 0.625, 'cresh21': 0.5238095238095238, 'cresh26': 0.8235294117647058, 'cresh29': 1.0, 'cresh27': 0.9166666666666666, 'cresh23': 0.6666666666666666, 'cresh20': 0.7222222222222222, 'cresh18': 0.72, 'cresh30': 0.5384615384615384, 'cresh17': 0.29411764705882354, 'cresh24': 0.3684210526315789, 'cresh28': 0.75, 'cresh25': 0.4666666666666667}, 'fs2_light': {'cresh07': 0.9473684210526315, 'cresh10': 0.8333333333333334, 'cresh08': 0.8125, 'cresh12': 0.9, 'cresh09': 1.0, 'cresh06': 0.8367346938775511, 'cresh02': 0.4166666666666667, 'cresh13': 0.3, 'cresh15': 0.06666666666666667, 'cresh03': 0.5555555555555556, 'cresh14': 1.0, 'cresh11': 0.3125, 'cresh05': 0.9047619047619048, 'cresh01': 0.42857142857142855, 'cresh04': 1.0, 'cresh22': 1.0, 'cresh16': 1.0, 'cresh19': 1.0, 'cresh21': 1.0, 'cresh26': 0.8235294117647058, 'cresh29': 1.0, 'cresh27': 0.75, 'cresh23': 0.7222222222222222, 'cresh20': 1.0, 'cresh18': 1.0, 'cresh30': 0.7692307692307693, 'cresh17': 0.17647058823529413, 'cresh24': 0.3157894736842105, 'cresh28': 0.75, 'cresh25': 0.3333333333333333}, 'fs2_aural': {'cresh07': 0.9473684210526315, 'cresh10': 0.6666666666666666, 'cresh08': 0.9375, 'cresh12': 0.9, 'cresh09': 0.9500000000000001, 'cresh06': 0.8571428571428571, 'cresh02': 0.5833333333333334, 'cresh13': 0.65, 'cresh15': 0.8666666666666667, 'cresh03': 0.9444444444444444, 'cresh14': 0.9629629629629629, 'cresh11': 1.0, 'cresh05': 1.0, 'cresh01': 0.9047619047619048, 'cresh04': 1.0, 'cresh22': 0.875, 'cresh16': 1.0, 'cresh19': 1.0, 'cresh21': 0.9523809523809523, 'cresh26': 0.8823529411764706, 'cresh29': 1.0, 'cresh27': 1.0, 'cresh23': 0.4444444444444444, 'cresh20': 1.0, 'cresh18': 0.92, 'cresh30': 0.5384615384615384, 'cresh17': 0.5294117647058824, 'cresh24': 0.6842105263157895, 'cresh28': 0.6666666666666666, 'cresh25': 0.8666666666666667}, 'fs3_thermal': {'cresh07': 0.5263157894736842, 'cresh10': 0.4444444444444444, 'cresh08': 0.75, 'cresh12': 0.7, 'cresh09': 0.3, 'cresh06': 0.6122448979591837, 'cresh02': 0.7083333333333334, 'cresh13': 0.8000000000000002, 'cresh15': 0.9333333333333333, 'cresh03': 0.8333333333333334, 'cresh14': 0.5925925925925926, 'cresh11': 0.5, 'cresh05': 0.7142857142857143, 'cresh01': 0.6190476190476191, 'cresh04': 1.0, 'cresh22': 0.25, 'cresh16': 0.7142857142857143, 'cresh19': 0.625, 'cresh21': 0.5238095238095238, 'cresh26': 0.8235294117647058, 'cresh29': 1.0, 'cresh27': 0.9166666666666666, 'cresh23': 0.6666666666666666, 'cresh20': 0.7222222222222222, 'cresh18': 0.72, 'cresh30': 0.5384615384615384, 'cresh17': 0.5294117647058824, 'cresh24': 0.3684210526315789, 'cresh28': 0.6666666666666666, 'cresh25': 0.4666666666666667}, 'fs3_light': {'cresh07': 0.9473684210526315, 'cresh10': 0.8333333333333334, 'cresh08': 0.8125, 'cresh12': 0.9, 'cresh09': 1.0, 'cresh06': 0.8367346938775511, 'cresh02': 0.4583333333333333, 'cresh13': 0.35, 'cresh15': 0.13333333333333333, 'cresh03': 0.6111111111111112, 'cresh14': 1.0, 'cresh11': 0.3125, 'cresh05': 0.9047619047619048, 'cresh01': 0.42857142857142855, 'cresh04': 1.0, 'cresh22': 1.0, 'cresh16': 1.0, 'cresh19': 1.0, 'cresh21': 1.0, 'cresh26': 0.8235294117647058, 'cresh29': 1.0, 'cresh27': 0.75, 'cresh23': 0.7222222222222222, 'cresh20': 1.0, 'cresh18': 1.0, 'cresh30': 0.7692307692307693, 'cresh17': 0.17647058823529413, 'cresh24': 0.5263157894736842, 'cresh28': 0.5, 'cresh25': 0.3333333333333333}, 'fs3_aural': {'cresh07': 0.9473684210526315, 'cresh10': 0.7777777777777778, 'cresh08': 0.9375, 'cresh12': 0.9, 'cresh09': 0.9500000000000001, 'cresh06': 0.8571428571428571, 'cresh02': 0.5833333333333334, 'cresh13': 0.65, 'cresh15': 0.8666666666666667, 'cresh03': 0.9444444444444444, 'cresh14': 0.9629629629629629, 'cresh11': 1.0, 'cresh05': 1.0, 'cresh01': 0.9047619047619048, 'cresh04': 1.0, 'cresh22': 0.875, 'cresh16': 1.0, 'cresh19': 1.0, 'cresh21': 0.9523809523809523, 'cresh26': 0.8823529411764706, 'cresh29': 1.0, 'cresh27': 1.0, 'cresh23': 0.3888888888888889, 'cresh20': 1.0, 'cresh18': 0.92, 'cresh30': 0.5384615384615384, 'cresh17': 0.5882352941176471, 'cresh24': 0.7368421052631579, 'cresh28': 0.9166666666666666, 'cresh25': 0.8666666666666667}, 'fs4_thermal': {'cresh07': 0.6842105263157895, 'cresh10': 0.6111111111111112, 'cresh08': 0.75, 'cresh12': 0.7, 'cresh09': 0.4000000000000001, 'cresh06': 0.5102040816326531, 'cresh02': 0.6666666666666666, 'cresh13': 0.75, 'cresh15': 0.9333333333333333, 'cresh03': 0.9444444444444444, 'cresh14': 0.6666666666666666, 'cresh11': 0.5, 'cresh05': 0.7142857142857143, 'cresh01': 0.6190476190476191, 'cresh04': 1.0, 'cresh22': 0.5, 'cresh16': 0.7142857142857143, 'cresh19': 0.625, 'cresh21': 0.47619047619047616, 'cresh26': 0.7647058823529412, 'cresh29': 1.0, 'cresh27': 0.9166666666666666, 'cresh23': 0.7777777777777778, 'cresh20': 0.2777777777777778, 'cresh18': 0.72, 'cresh30': 0.6923076923076923, 'cresh17': 0.6470588235294118, 'cresh24': 0.21052631578947367, 'cresh28': 0.5, 'cresh25': 0.4666666666666667}, 'fs4_light': {'cresh07': 1.0, 'cresh10': 0.8333333333333334, 'cresh08': 0.8125, 'cresh12': 0.9, 'cresh09': 1.0, 'cresh06': 0.8367346938775511, 'cresh02': 0.5416666666666666, 'cresh13': 0.25, 'cresh15': 0.13333333333333333, 'cresh03': 0.6111111111111112, 'cresh14': 1.0, 'cresh11': 0.25, 'cresh05': 0.9047619047619048, 'cresh01': 0.6666666666666666, 'cresh04': 1.0, 'cresh22': 1.0, 'cresh16': 1.0, 'cresh19': 1.0, 'cresh21': 1.0, 'cresh26': 0.8235294117647058, 'cresh29': 1.0, 'cresh27': 0.6666666666666666, 'cresh23': 0.7222222222222222, 'cresh20': 0.9444444444444444, 'cresh18': 1.0, 'cresh30': 0.8461538461538461, 'cresh17': 0.17647058823529413, 'cresh24': 0.21052631578947367, 'cresh28': 0.75, 'cresh25': 0.3333333333333333}, 'fs4_aural': {'cresh07': 0.9473684210526315, 'cresh10': 0.7777777777777778, 'cresh08': 0.9375, 'cresh12': 0.85, 'cresh09': 0.9500000000000001, 'cresh06': 0.8571428571428571, 'cresh02': 0.625, 'cresh13': 0.7, 'cresh15': 0.4000000000000001, 'cresh03': 0.9444444444444444, 'cresh14': 0.9629629629629629, 'cresh11': 1.0, 'cresh05': 1.0, 'cresh01': 0.9047619047619048, 'cresh04': 1.0, 'cresh22': 0.875, 'cresh16': 1.0, 'cresh19': 1.0, 'cresh21': 0.9523809523809523, 'cresh26': 0.8823529411764706, 'cresh29': 1.0, 'cresh27': 0.9166666666666666, 'cresh23': 0.4444444444444444, 'cresh20': 1.0, 'cresh18': 0.92, 'cresh30': 0.6923076923076923, 'cresh17': 0.6470588235294118, 'cresh24': 0.5789473684210527, 'cresh28': 0.6666666666666666, 'cresh25': 0.8666666666666667}, 'fs5_thermal': {'cresh07': 0.5263157894736842, 'cresh10': 0.4444444444444444, 'cresh08': 0.75, 'cresh12': 0.75, 'cresh09': 0.35, 'cresh06': 0.5510204081632653, 'cresh02': 0.625, 'cresh13': 0.5, 'cresh15': 0.9333333333333333, 'cresh03': 0.9444444444444444, 'cresh14': 0.37037037037037035, 'cresh11': 0.5, 'cresh05': 0.7142857142857143, 'cresh01': 0.6190476190476191, 'cresh04': 1.0, 'cresh22': 0.5, 'cresh16': 0.7142857142857143, 'cresh19': 0.625, 'cresh21': 0.47619047619047616, 'cresh26': 0.8235294117647058, 'cresh29': 1.0, 'cresh27': 0.9166666666666666, 'cresh23': 0.7777777777777778, 'cresh20': 0.6111111111111112, 'cresh18': 0.72, 'cresh30': 0.6923076923076923, 'cresh17': 0.6470588235294118, 'cresh24': 0.2631578947368421, 'cresh28': 0.4166666666666667, 'cresh25': 0.4666666666666667}, 'fs5_light': {'cresh07': 1.0, 'cresh10': 0.8333333333333334, 'cresh08': 0.8125, 'cresh12': 0.9, 'cresh09': 1.0, 'cresh06': 0.8367346938775511, 'cresh02': 0.4166666666666667, 'cresh13': 0.25, 'cresh15': 0.26666666666666666, 'cresh03': 0.6111111111111112, 'cresh14': 1.0, 'cresh11': 0.3125, 'cresh05': 0.8571428571428571, 'cresh01': 0.7142857142857143, 'cresh04': 1.0, 'cresh22': 1.0, 'cresh16': 1.0, 'cresh19': 1.0, 'cresh21': 1.0, 'cresh26': 0.8235294117647058, 'cresh29': 1.0, 'cresh27': 0.5833333333333334, 'cresh23': 0.6666666666666666, 'cresh20': 1.0, 'cresh18': 1.0, 'cresh30': 0.8461538461538461, 'cresh17': 0.23529411764705882, 'cresh24': 0.2631578947368421, 'cresh28': 0.6666666666666666, 'cresh25': 0.3333333333333333}, 'fs5_aural': {'cresh07': 0.9473684210526315, 'cresh10': 0.8333333333333334, 'cresh08': 0.9375, 'cresh12': 0.8000000000000002, 'cresh09': 0.9500000000000001, 'cresh06': 0.8571428571428571, 'cresh02': 0.5416666666666666, 'cresh13': 0.65, 'cresh15': 0.5333333333333333, 'cresh03': 0.9444444444444444, 'cresh14': 0.9629629629629629, 'cresh11': 1.0, 'cresh05': 1.0, 'cresh01': 0.9047619047619048, 'cresh04': 1.0, 'cresh22': 0.8125, 'cresh16': 1.0, 'cresh19': 1.0, 'cresh21': 0.9523809523809523, 'cresh26': 0.8823529411764706, 'cresh29': 1.0, 'cresh27': 0.9166666666666666, 'cresh23': 0.3888888888888889, 'cresh20': 1.0, 'cresh18': 0.88, 'cresh30': 0.7692307692307693, 'cresh17': 0.6470588235294118, 'cresh24': 0.5263157894736842, 'cresh28': 0.6666666666666666, 'cresh25': 0.8666666666666667}, 'fs6_thermal': {'cresh07': 0.5263157894736842, 'cresh10': 0.3333333333333333, 'cresh08': 0.75, 'cresh12': 0.8000000000000002, 'cresh09': 0.15, 'cresh06': 0.32653061224489793, 'cresh02': 0.625, 'cresh13': 0.55, 'cresh15': 0.9333333333333333, 'cresh03': 0.9444444444444444, 'cresh14': 0.4074074074074074, 'cresh11': 0.5, 'cresh05': 0.7142857142857143, 'cresh01': 0.5714285714285714, 'cresh04': 1.0, 'cresh22': 0.5, 'cresh16': 0.7142857142857143, 'cresh19': 0.625, 'cresh21': 0.42857142857142855, 'cresh26': 0.8235294117647058, 'cresh29': 1.0, 'cresh27': 0.9166666666666666, 'cresh23': 0.7777777777777778, 'cresh20': 0.6111111111111112, 'cresh18': 0.72, 'cresh30': 0.6923076923076923, 'cresh17': 0.6470588235294118, 'cresh24': 0.21052631578947367, 'cresh28': 0.4166666666666667, 'cresh25': 0.4666666666666667}, 'fs6_light': {'cresh07': 1.0, 'cresh10': 0.8333333333333334, 'cresh08': 0.8125, 'cresh12': 0.9, 'cresh09': 1.0, 'cresh06': 0.8367346938775511, 'cresh02': 0.3333333333333333, 'cresh13': 0.20000000000000004, 'cresh15': 0.5333333333333333, 'cresh03': 0.5, 'cresh14': 1.0, 'cresh11': 0.25, 'cresh05': 0.8571428571428571, 'cresh01': 0.7142857142857143, 'cresh04': 1.0, 'cresh22': 1.0, 'cresh16': 1.0, 'cresh19': 1.0, 'cresh21': 1.0, 'cresh26': 0.8235294117647058, 'cresh29': 1.0, 'cresh27': 0.5833333333333334, 'cresh23': 0.6666666666666666, 'cresh20': 0.7222222222222222, 'cresh18': 1.0, 'cresh30': 0.8461538461538461, 'cresh17': 0.23529411764705882, 'cresh24': 0.2631578947368421, 'cresh28': 0.5833333333333334, 'cresh25': 0.3333333333333333}, 'fs6_aural': {'cresh07': 0.9473684210526315, 'cresh10': 0.8333333333333334, 'cresh08': 0.9375, 'cresh12': 0.8000000000000002, 'cresh09': 0.9500000000000001, 'cresh06': 0.8571428571428571, 'cresh02': 0.5833333333333334, 'cresh13': 0.6, 'cresh15': 0.5333333333333333, 'cresh03': 0.9444444444444444, 'cresh14': 0.9629629629629629, 'cresh11': 1.0, 'cresh05': 1.0, 'cresh01': 0.9047619047619048, 'cresh04': 1.0, 'cresh22': 0.875, 'cresh16': 1.0, 'cresh19': 1.0, 'cresh21': 0.9523809523809523, 'cresh26': 0.8823529411764706, 'cresh29': 1.0, 'cresh27': 0.9166666666666666, 'cresh23': 0.3888888888888889, 'cresh20': 1.0, 'cresh18': 0.88, 'cresh30': 0.8461538461538461, 'cresh17': 0.6470588235294118, 'cresh24': 0.5789473684210527, 'cresh28': 0.6666666666666666, 'cresh25': 0.8666666666666667}}\n"
     ]
    }
   ],
   "source": [
    "print(personal_micro)"
   ]
  },
  {
   "cell_type": "code",
   "execution_count": 8,
   "metadata": {
    "collapsed": true,
    "jupyter": {
     "outputs_hidden": true
    }
   },
   "outputs": [
    {
     "name": "stdout",
     "output_type": "stream",
     "text": [
      "{'cresh07': 0.47368421052631576, 'cresh10': 0.6111111111111112, 'cresh08': 0.6875, 'cresh12': 0.45, 'cresh09': 0.20000000000000004, 'cresh06': 0.3877551020408163, 'cresh02': 0.6666666666666666, 'cresh13': 0.75, 'cresh15': 0.9333333333333333, 'cresh03': 0.8333333333333334, 'cresh14': 0.4074074074074074, 'cresh11': 0.5, 'cresh05': 0.7142857142857143, 'cresh01': 0.6190476190476191, 'cresh04': 1.0, 'cresh22': 0.25, 'cresh16': 0.7142857142857143, 'cresh19': 0.625, 'cresh21': 0.5714285714285714, 'cresh26': 0.8235294117647058, 'cresh29': 1.0, 'cresh27': 0.9166666666666666, 'cresh23': 0.6666666666666666, 'cresh20': 0.7222222222222222, 'cresh18': 0.72, 'cresh30': 0.5384615384615384, 'cresh17': 0.17647058823529413, 'cresh24': 0.3157894736842105, 'cresh28': 0.5, 'cresh25': 0.3333333333333333}\n",
      "0.6035992894833747\n",
      "0.22666927910876136\n",
      "{'cresh07': 0.9473684210526315, 'cresh10': 0.8333333333333334, 'cresh08': 0.8125, 'cresh12': 0.9, 'cresh09': 1.0, 'cresh06': 0.8367346938775511, 'cresh02': 0.2916666666666667, 'cresh13': 0.45, 'cresh15': 0.06666666666666667, 'cresh03': 0.3888888888888889, 'cresh14': 1.0, 'cresh11': 0.25, 'cresh05': 0.8571428571428571, 'cresh01': 0.42857142857142855, 'cresh04': 1.0, 'cresh22': 1.0, 'cresh16': 1.0, 'cresh19': 1.0, 'cresh21': 1.0, 'cresh26': 0.8235294117647058, 'cresh29': 1.0, 'cresh27': 0.8333333333333334, 'cresh23': 0.7222222222222222, 'cresh20': 0.7777777777777778, 'cresh18': 1.0, 'cresh30': 0.7692307692307693, 'cresh17': 0.17647058823529413, 'cresh24': 0.47368421052631576, 'cresh28': 0.5, 'cresh25': 0.3333333333333333}\n",
      "0.7157484867541258\n",
      "0.2950748307319897\n",
      "{'cresh07': 0.9473684210526315, 'cresh10': 0.7222222222222222, 'cresh08': 0.9375, 'cresh12': 0.9, 'cresh09': 0.9500000000000001, 'cresh06': 0.8571428571428571, 'cresh02': 0.5416666666666666, 'cresh13': 0.65, 'cresh15': 0.9333333333333333, 'cresh03': 0.9444444444444444, 'cresh14': 0.9629629629629629, 'cresh11': 1.0, 'cresh05': 1.0, 'cresh01': 0.9047619047619048, 'cresh04': 1.0, 'cresh22': 0.9375, 'cresh16': 1.0, 'cresh19': 1.0, 'cresh21': 0.9523809523809523, 'cresh26': 0.8823529411764706, 'cresh29': 1.0, 'cresh27': 1.0, 'cresh23': 0.4444444444444444, 'cresh20': 1.0, 'cresh18': 0.92, 'cresh30': 0.6153846153846154, 'cresh17': 0.6470588235294118, 'cresh24': 0.7368421052631579, 'cresh28': 0.6666666666666666, 'cresh25': 0.8666666666666667}\n",
      "0.8640233342699803\n",
      "0.15738069275173955\n",
      "{'cresh07': 0.21428571428571427, 'cresh10': 0.3733333333333333, 'cresh08': 0.4074074074074074, 'cresh12': 0.3255360623781676, 'cresh09': 0.13012477718360071, 'cresh06': 0.3333333333333333, 'cresh02': 0.28070175438596495, 'cresh13': 0.7150997150997151, 'cresh15': 0.3333333333333333, 'cresh03': 0.45454545454545453, 'cresh14': 0.33333333333333337, 'cresh11': 0.3333333333333333, 'cresh05': 0.27777777777777773, 'cresh01': 0.25490196078431376, 'cresh04': 1.0, 'cresh22': 0.19413919413919412, 'cresh16': 0.2777777777777778, 'cresh19': 0.25641025641025644, 'cresh21': 0.5552941176470587, 'cresh26': 0.3010752688172043, 'cresh29': 1.0, 'cresh27': 0.4782608695652174, 'cresh23': 0.2666666666666667, 'cresh20': 0.41935483870967744, 'cresh18': 0.27906976744186046, 'cresh30': 0.2333333333333333, 'cresh17': 0.15384615384615383, 'cresh24': 0.16, 'cresh28': 0.3717948717948718, 'cresh25': 0.26495726495726496}\n",
      "0.36596758905404403\n",
      "0.2104913707946721\n",
      "{'cresh07': 0.4864864864864865, 'cresh10': 0.30303030303030304, 'cresh08': 0.4482758620689655, 'cresh12': 0.4736842105263158, 'cresh09': 1.0, 'cresh06': 0.45555555555555555, 'cresh02': 0.2777067348678602, 'cresh13': 0.4373401534526854, 'cresh15': 0.0625, 'cresh03': 0.42825311942959, 'cresh14': 1.0, 'cresh11': 0.25, 'cresh05': 0.3076923076923077, 'cresh01': 0.24603174603174605, 'cresh04': 1.0, 'cresh22': 1.0, 'cresh16': 1.0, 'cresh19': 1.0, 'cresh21': 1.0, 'cresh26': 0.45161290322580644, 'cresh29': 1.0, 'cresh27': 0.7, 'cresh23': 0.27956989247311825, 'cresh20': 0.43750000000000006, 'cresh18': 1.0, 'cresh30': 0.43478260869565216, 'cresh17': 0.1346153846153846, 'cresh24': 0.325, 'cresh28': 0.3333333333333333, 'cresh25': 0.16666666666666666}\n",
      "0.5479879089383926\n",
      "0.3238360780219173\n",
      "{'cresh07': 0.4864864864864865, 'cresh10': 0.41935483870967744, 'cresh08': 0.4838709677419355, 'cresh12': 0.803921568627451, 'cresh09': 0.48717948717948717, 'cresh06': 0.4615384615384615, 'cresh02': 0.5208711433756805, 'cresh13': 0.6491228070175439, 'cresh15': 0.8148148148148149, 'cresh03': 0.4857142857142857, 'cresh14': 0.49056603773584906, 'cresh11': 1.0, 'cresh05': 1.0, 'cresh01': 0.47500000000000003, 'cresh04': 1.0, 'cresh22': 0.8160919540229885, 'cresh16': 1.0, 'cresh19': 1.0, 'cresh21': 0.4878048780487805, 'cresh26': 0.46875, 'cresh29': 1.0, 'cresh27': 1.0, 'cresh23': 0.30769230769230765, 'cresh20': 1.0, 'cresh18': 0.4791666666666667, 'cresh30': 0.380952380952381, 'cresh17': 0.6136363636363636, 'cresh24': 0.7246376811594203, 'cresh28': 0.6571428571428571, 'cresh25': 0.4642857142857143}\n",
      "0.6659533900849718\n",
      "0.23776364171355277\n"
     ]
    }
   ],
   "source": [
    "micro_fs1_thermal_all = personal_micro['fs1_thermal']\n",
    "micro_fs1_thermal_mean = statistics.mean(micro_fs1_thermal_all.values())\n",
    "micro_fs1_thermal_std = statistics.stdev(micro_fs1_thermal_all.values())\n",
    "print(micro_fs1_thermal_all)\n",
    "print(micro_fs1_thermal_mean)\n",
    "print(micro_fs1_thermal_std)\n",
    "\n",
    "micro_fs1_light_all = personal_micro['fs1_light']\n",
    "micro_fs1_light_mean = statistics.mean(micro_fs1_light_all.values())\n",
    "micro_fs1_light_std = statistics.stdev(micro_fs1_light_all.values())\n",
    "print(micro_fs1_light_all)\n",
    "print(micro_fs1_light_mean)\n",
    "print(micro_fs1_light_std)\n",
    "\n",
    "micro_fs1_aural_all = personal_micro['fs1_aural']\n",
    "micro_fs1_aural_mean = statistics.mean(micro_fs1_aural_all.values())\n",
    "micro_fs1_aural_std = statistics.stdev(micro_fs1_aural_all.values())\n",
    "print(micro_fs1_aural_all)\n",
    "print(micro_fs1_aural_mean)\n",
    "print(micro_fs1_aural_std)\n",
    "\n",
    "macro_fs1_thermal_all = personal_macro['fs1_thermal']\n",
    "macro_fs1_thermal_mean = statistics.mean(macro_fs1_thermal_all.values())\n",
    "macro_fs1_thermal_std = statistics.stdev(macro_fs1_thermal_all.values())\n",
    "print(macro_fs1_thermal_all)\n",
    "print(macro_fs1_thermal_mean)\n",
    "print(macro_fs1_thermal_std)\n",
    "\n",
    "macro_fs1_light_all = personal_macro['fs1_light']\n",
    "macro_fs1_light_mean = statistics.mean(macro_fs1_light_all.values())\n",
    "macro_fs1_light_std = statistics.stdev(macro_fs1_light_all.values())\n",
    "print(macro_fs1_light_all)\n",
    "print(macro_fs1_light_mean)\n",
    "print(macro_fs1_light_std)\n",
    "\n",
    "macro_fs1_aural_all = personal_macro['fs1_aural']\n",
    "macro_fs1_aural_mean = statistics.mean(macro_fs1_aural_all.values())\n",
    "macro_fs1_aural_std = statistics.stdev(macro_fs1_aural_all.values())\n",
    "print(macro_fs1_aural_all)\n",
    "print(macro_fs1_aural_mean)\n",
    "print(macro_fs1_aural_std)\n"
   ]
  },
  {
   "cell_type": "code",
   "execution_count": 9,
   "metadata": {
    "collapsed": true,
    "jupyter": {
     "outputs_hidden": true
    }
   },
   "outputs": [
    {
     "name": "stdout",
     "output_type": "stream",
     "text": [
      "{'cresh07': 0.5263157894736842, 'cresh10': 0.5555555555555556, 'cresh08': 0.75, 'cresh12': 0.5, 'cresh09': 0.25, 'cresh06': 0.6326530612244898, 'cresh02': 0.7083333333333334, 'cresh13': 0.8000000000000002, 'cresh15': 0.9333333333333333, 'cresh03': 0.8333333333333334, 'cresh14': 0.6666666666666666, 'cresh11': 0.5, 'cresh05': 0.7142857142857143, 'cresh01': 0.6190476190476191, 'cresh04': 1.0, 'cresh22': 0.25, 'cresh16': 0.7142857142857143, 'cresh19': 0.625, 'cresh21': 0.5238095238095238, 'cresh26': 0.8235294117647058, 'cresh29': 1.0, 'cresh27': 0.9166666666666666, 'cresh23': 0.6666666666666666, 'cresh20': 0.7222222222222222, 'cresh18': 0.72, 'cresh30': 0.5384615384615384, 'cresh17': 0.29411764705882354, 'cresh24': 0.3684210526315789, 'cresh28': 0.75, 'cresh25': 0.4666666666666667}\n",
      "0.6456457172162612\n",
      "0.20200715111541642\n",
      "{'cresh07': 0.9473684210526315, 'cresh10': 0.8333333333333334, 'cresh08': 0.8125, 'cresh12': 0.9, 'cresh09': 1.0, 'cresh06': 0.8367346938775511, 'cresh02': 0.4166666666666667, 'cresh13': 0.3, 'cresh15': 0.06666666666666667, 'cresh03': 0.5555555555555556, 'cresh14': 1.0, 'cresh11': 0.3125, 'cresh05': 0.9047619047619048, 'cresh01': 0.42857142857142855, 'cresh04': 1.0, 'cresh22': 1.0, 'cresh16': 1.0, 'cresh19': 1.0, 'cresh21': 1.0, 'cresh26': 0.8235294117647058, 'cresh29': 1.0, 'cresh27': 0.75, 'cresh23': 0.7222222222222222, 'cresh20': 1.0, 'cresh18': 1.0, 'cresh30': 0.7692307692307693, 'cresh17': 0.17647058823529413, 'cresh24': 0.3157894736842105, 'cresh28': 0.75, 'cresh25': 0.3333333333333333}\n",
      "0.7318411489652091\n",
      "0.29534360354811756\n",
      "{'cresh07': 0.9473684210526315, 'cresh10': 0.6666666666666666, 'cresh08': 0.9375, 'cresh12': 0.9, 'cresh09': 0.9500000000000001, 'cresh06': 0.8571428571428571, 'cresh02': 0.5833333333333334, 'cresh13': 0.65, 'cresh15': 0.8666666666666667, 'cresh03': 0.9444444444444444, 'cresh14': 0.9629629629629629, 'cresh11': 1.0, 'cresh05': 1.0, 'cresh01': 0.9047619047619048, 'cresh04': 1.0, 'cresh22': 0.875, 'cresh16': 1.0, 'cresh19': 1.0, 'cresh21': 0.9523809523809523, 'cresh26': 0.8823529411764706, 'cresh29': 1.0, 'cresh27': 1.0, 'cresh23': 0.4444444444444444, 'cresh20': 1.0, 'cresh18': 0.92, 'cresh30': 0.5384615384615384, 'cresh17': 0.5294117647058824, 'cresh24': 0.6842105263157895, 'cresh28': 0.6666666666666666, 'cresh25': 0.8666666666666667}\n",
      "0.851014758594996\n",
      "0.1683667166543997\n",
      "{'cresh07': 0.2298850574712644, 'cresh10': 0.30484330484330485, 'cresh08': 0.42857142857142855, 'cresh12': 0.36274509803921573, 'cresh09': 0.1693121693121693, 'cresh06': 0.44949494949494945, 'cresh02': 0.2833333333333333, 'cresh13': 0.7333333333333334, 'cresh15': 0.3333333333333333, 'cresh03': 0.45454545454545453, 'cresh14': 0.5440900562851783, 'cresh11': 0.3333333333333333, 'cresh05': 0.27777777777777773, 'cresh01': 0.25490196078431376, 'cresh04': 1.0, 'cresh22': 0.2222222222222222, 'cresh16': 0.2777777777777778, 'cresh19': 0.25641025641025644, 'cresh21': 0.49519230769230765, 'cresh26': 0.3010752688172043, 'cresh29': 1.0, 'cresh27': 0.4782608695652174, 'cresh23': 0.2666666666666667, 'cresh20': 0.41935483870967744, 'cresh18': 0.27906976744186046, 'cresh30': 0.24561403508771926, 'cresh17': 0.2545454545454546, 'cresh24': 0.24074074074074073, 'cresh28': 0.5230769230769231, 'cresh25': 0.34432234432234426}\n",
      "0.39212766878449207\n",
      "0.20517941720252386\n",
      "{'cresh07': 0.4864864864864865, 'cresh10': 0.30303030303030304, 'cresh08': 0.4482758620689655, 'cresh12': 0.4736842105263158, 'cresh09': 1.0, 'cresh06': 0.45555555555555555, 'cresh02': 0.35888888888888887, 'cresh13': 0.2708333333333333, 'cresh15': 0.0625, 'cresh03': 0.5694444444444445, 'cresh14': 1.0, 'cresh11': 0.30980392156862746, 'cresh05': 0.47500000000000003, 'cresh01': 0.24603174603174605, 'cresh04': 1.0, 'cresh22': 1.0, 'cresh16': 1.0, 'cresh19': 1.0, 'cresh21': 1.0, 'cresh26': 0.45161290322580644, 'cresh29': 1.0, 'cresh27': 0.6210526315789474, 'cresh23': 0.27956989247311825, 'cresh20': 1.0, 'cresh18': 1.0, 'cresh30': 0.43478260869565216, 'cresh17': 0.1365079365079365, 'cresh24': 0.22291021671826625, 'cresh28': 0.42857142857142855, 'cresh25': 0.16666666666666666}\n",
      "0.5733736345457496\n",
      "0.3294575618265815\n",
      "{'cresh07': 0.4864864864864865, 'cresh10': 0.4000000000000001, 'cresh08': 0.4838709677419355, 'cresh12': 0.803921568627451, 'cresh09': 0.48717948717948717, 'cresh06': 0.4615384615384615, 'cresh02': 0.5555555555555556, 'cresh13': 0.6491228070175439, 'cresh15': 0.7115384615384615, 'cresh03': 0.4857142857142857, 'cresh14': 0.49056603773584906, 'cresh11': 1.0, 'cresh05': 1.0, 'cresh01': 0.47500000000000003, 'cresh04': 1.0, 'cresh22': 0.4666666666666667, 'cresh16': 1.0, 'cresh19': 1.0, 'cresh21': 0.4878048780487805, 'cresh26': 0.46875, 'cresh29': 1.0, 'cresh27': 1.0, 'cresh23': 0.30769230769230765, 'cresh20': 1.0, 'cresh18': 0.4791666666666667, 'cresh30': 0.35000000000000003, 'cresh17': 0.43333333333333335, 'cresh24': 0.6607142857142857, 'cresh28': 0.6571428571428571, 'cresh25': 0.4642857142857143}\n",
      "0.6422016942895377\n",
      "0.24120396994396762\n"
     ]
    }
   ],
   "source": [
    "micro_fs2_thermal_all = personal_micro['fs2_thermal']\n",
    "micro_fs2_thermal_mean = statistics.mean(micro_fs2_thermal_all.values())\n",
    "micro_fs2_thermal_std = statistics.stdev(micro_fs2_thermal_all.values())\n",
    "print(micro_fs2_thermal_all)\n",
    "print(micro_fs2_thermal_mean)\n",
    "print(micro_fs2_thermal_std)\n",
    "\n",
    "micro_fs2_light_all = personal_micro['fs2_light']\n",
    "micro_fs2_light_mean = statistics.mean(micro_fs2_light_all.values())\n",
    "micro_fs2_light_std = statistics.stdev(micro_fs2_light_all.values())\n",
    "print(micro_fs2_light_all)\n",
    "print(micro_fs2_light_mean)\n",
    "print(micro_fs2_light_std)\n",
    "\n",
    "micro_fs2_aural_all = personal_micro['fs2_aural']\n",
    "micro_fs2_aural_mean = statistics.mean(micro_fs2_aural_all.values())\n",
    "micro_fs2_aural_std = statistics.stdev(micro_fs2_aural_all.values())\n",
    "print(micro_fs2_aural_all)\n",
    "print(micro_fs2_aural_mean)\n",
    "print(micro_fs2_aural_std)\n",
    "\n",
    "macro_fs2_thermal_all = personal_macro['fs2_thermal']\n",
    "macro_fs2_thermal_mean = statistics.mean(macro_fs2_thermal_all.values())\n",
    "macro_fs2_thermal_std = statistics.stdev(macro_fs2_thermal_all.values())\n",
    "print(macro_fs2_thermal_all)\n",
    "print(macro_fs2_thermal_mean)\n",
    "print(macro_fs2_thermal_std)\n",
    "\n",
    "macro_fs2_light_all = personal_macro['fs2_light']\n",
    "macro_fs2_light_mean = statistics.mean(macro_fs2_light_all.values())\n",
    "macro_fs2_light_std = statistics.stdev(macro_fs2_light_all.values())\n",
    "print(macro_fs2_light_all)\n",
    "print(macro_fs2_light_mean)\n",
    "print(macro_fs2_light_std)\n",
    "\n",
    "macro_fs2_aural_all = personal_macro['fs2_aural']\n",
    "macro_fs2_aural_mean = statistics.mean(macro_fs2_aural_all.values())\n",
    "macro_fs2_aural_std = statistics.stdev(macro_fs2_aural_all.values())\n",
    "print(macro_fs2_aural_all)\n",
    "print(macro_fs2_aural_mean)\n",
    "print(macro_fs2_aural_std)\n"
   ]
  },
  {
   "cell_type": "code",
   "execution_count": 10,
   "metadata": {
    "collapsed": true,
    "jupyter": {
     "outputs_hidden": true
    }
   },
   "outputs": [
    {
     "name": "stdout",
     "output_type": "stream",
     "text": [
      "{'cresh07': 0.5263157894736842, 'cresh10': 0.4444444444444444, 'cresh08': 0.75, 'cresh12': 0.7, 'cresh09': 0.3, 'cresh06': 0.6122448979591837, 'cresh02': 0.7083333333333334, 'cresh13': 0.8000000000000002, 'cresh15': 0.9333333333333333, 'cresh03': 0.8333333333333334, 'cresh14': 0.5925925925925926, 'cresh11': 0.5, 'cresh05': 0.7142857142857143, 'cresh01': 0.6190476190476191, 'cresh04': 1.0, 'cresh22': 0.25, 'cresh16': 0.7142857142857143, 'cresh19': 0.625, 'cresh21': 0.5238095238095238, 'cresh26': 0.8235294117647058, 'cresh29': 1.0, 'cresh27': 0.9166666666666666, 'cresh23': 0.6666666666666666, 'cresh20': 0.7222222222222222, 'cresh18': 0.72, 'cresh30': 0.5384615384615384, 'cresh17': 0.5294117647058824, 'cresh24': 0.3684210526315789, 'cresh28': 0.6666666666666666, 'cresh25': 0.4666666666666667}\n",
      "0.6521912984117023\n",
      "0.1895518555386661\n",
      "{'cresh07': 0.9473684210526315, 'cresh10': 0.8333333333333334, 'cresh08': 0.8125, 'cresh12': 0.9, 'cresh09': 1.0, 'cresh06': 0.8367346938775511, 'cresh02': 0.4583333333333333, 'cresh13': 0.35, 'cresh15': 0.13333333333333333, 'cresh03': 0.6111111111111112, 'cresh14': 1.0, 'cresh11': 0.3125, 'cresh05': 0.9047619047619048, 'cresh01': 0.42857142857142855, 'cresh04': 1.0, 'cresh22': 1.0, 'cresh16': 1.0, 'cresh19': 1.0, 'cresh21': 1.0, 'cresh26': 0.8235294117647058, 'cresh29': 1.0, 'cresh27': 0.75, 'cresh23': 0.7222222222222222, 'cresh20': 1.0, 'cresh18': 1.0, 'cresh30': 0.7692307692307693, 'cresh17': 0.17647058823529413, 'cresh24': 0.5263157894736842, 'cresh28': 0.5, 'cresh25': 0.3333333333333333}\n",
      "0.7376549891211546\n",
      "0.2807131810775401\n",
      "{'cresh07': 0.9473684210526315, 'cresh10': 0.7777777777777778, 'cresh08': 0.9375, 'cresh12': 0.9, 'cresh09': 0.9500000000000001, 'cresh06': 0.8571428571428571, 'cresh02': 0.5833333333333334, 'cresh13': 0.65, 'cresh15': 0.8666666666666667, 'cresh03': 0.9444444444444444, 'cresh14': 0.9629629629629629, 'cresh11': 1.0, 'cresh05': 1.0, 'cresh01': 0.9047619047619048, 'cresh04': 1.0, 'cresh22': 0.875, 'cresh16': 1.0, 'cresh19': 1.0, 'cresh21': 0.9523809523809523, 'cresh26': 0.8823529411764706, 'cresh29': 1.0, 'cresh27': 1.0, 'cresh23': 0.3888888888888889, 'cresh20': 1.0, 'cresh18': 0.92, 'cresh30': 0.5384615384615384, 'cresh17': 0.5882352941176471, 'cresh24': 0.7368421052631579, 'cresh28': 0.9166666666666666, 'cresh25': 0.8666666666666667}\n",
      "0.8649151140588189\n",
      "0.16157406588242967\n",
      "{'cresh07': 0.2298850574712644, 'cresh10': 0.30501089324618735, 'cresh08': 0.42857142857142855, 'cresh12': 0.49404761904761907, 'cresh09': 0.16000000000000003, 'cresh06': 0.6198830409356725, 'cresh02': 0.2982456140350877, 'cresh13': 0.7333333333333334, 'cresh15': 0.3333333333333333, 'cresh03': 0.45454545454545453, 'cresh14': 0.49230769230769234, 'cresh11': 0.3333333333333333, 'cresh05': 0.27777777777777773, 'cresh01': 0.25490196078431376, 'cresh04': 1.0, 'cresh22': 0.21445221445221443, 'cresh16': 0.2777777777777778, 'cresh19': 0.25641025641025644, 'cresh21': 0.49519230769230765, 'cresh26': 0.3010752688172043, 'cresh29': 1.0, 'cresh27': 0.4782608695652174, 'cresh23': 0.2666666666666667, 'cresh20': 0.41935483870967744, 'cresh18': 0.27906976744186046, 'cresh30': 0.24561403508771926, 'cresh17': 0.42380952380952386, 'cresh24': 0.24074074074074073, 'cresh28': 0.5090909090909091, 'cresh25': 0.34432234432234426}\n",
      "0.4055671353102306\n",
      "0.2070301600149547\n",
      "{'cresh07': 0.4864864864864865, 'cresh10': 0.30303030303030304, 'cresh08': 0.4482758620689655, 'cresh12': 0.4736842105263158, 'cresh09': 1.0, 'cresh06': 0.45555555555555555, 'cresh02': 0.4069047619047619, 'cresh13': 0.30666666666666664, 'cresh15': 0.13333333333333333, 'cresh03': 0.60650623885918, 'cresh14': 1.0, 'cresh11': 0.30980392156862746, 'cresh05': 0.47500000000000003, 'cresh01': 0.24603174603174605, 'cresh04': 1.0, 'cresh22': 1.0, 'cresh16': 1.0, 'cresh19': 1.0, 'cresh21': 1.0, 'cresh26': 0.45161290322580644, 'cresh29': 1.0, 'cresh27': 0.6210526315789474, 'cresh23': 0.4091954022988506, 'cresh20': 1.0, 'cresh18': 1.0, 'cresh30': 0.43478260869565216, 'cresh17': 0.1346153846153846, 'cresh24': 0.35555555555555557, 'cresh28': 0.3333333333333333, 'cresh25': 0.16666666666666666}\n",
      "0.5852697857334046\n",
      "0.3185137676800328\n",
      "{'cresh07': 0.4864864864864865, 'cresh10': 0.43749999999999994, 'cresh08': 0.4838709677419355, 'cresh12': 0.803921568627451, 'cresh09': 0.48717948717948717, 'cresh06': 0.4615384615384615, 'cresh02': 0.53125, 'cresh13': 0.6491228070175439, 'cresh15': 0.7115384615384615, 'cresh03': 0.4857142857142857, 'cresh14': 0.49056603773584906, 'cresh11': 1.0, 'cresh05': 1.0, 'cresh01': 0.47500000000000003, 'cresh04': 1.0, 'cresh22': 0.4666666666666667, 'cresh16': 1.0, 'cresh19': 1.0, 'cresh21': 0.4878048780487805, 'cresh26': 0.46875, 'cresh29': 1.0, 'cresh27': 1.0, 'cresh23': 0.28, 'cresh20': 1.0, 'cresh18': 0.4791666666666667, 'cresh30': 0.35000000000000003, 'cresh17': 0.47111111111111115, 'cresh24': 0.7246376811594203, 'cresh28': 0.8991596638655461, 'cresh25': 0.4642857142857143}\n",
      "0.6531756981794623\n",
      "0.2455696370313754\n"
     ]
    }
   ],
   "source": [
    "micro_fs3_thermal_all = personal_micro['fs3_thermal']\n",
    "micro_fs3_thermal_mean = statistics.mean(micro_fs3_thermal_all.values())\n",
    "micro_fs3_thermal_std = statistics.stdev(micro_fs3_thermal_all.values())\n",
    "print(micro_fs3_thermal_all)\n",
    "print(micro_fs3_thermal_mean)\n",
    "print(micro_fs3_thermal_std)\n",
    "\n",
    "micro_fs3_light_all = personal_micro['fs3_light']\n",
    "micro_fs3_light_mean = statistics.mean(micro_fs3_light_all.values())\n",
    "micro_fs3_light_std = statistics.stdev(micro_fs3_light_all.values())\n",
    "print(micro_fs3_light_all)\n",
    "print(micro_fs3_light_mean)\n",
    "print(micro_fs3_light_std)\n",
    "\n",
    "micro_fs3_aural_all = personal_micro['fs3_aural']\n",
    "micro_fs3_aural_mean = statistics.mean(micro_fs3_aural_all.values())\n",
    "micro_fs3_aural_std = statistics.stdev(micro_fs3_aural_all.values())\n",
    "print(micro_fs3_aural_all)\n",
    "print(micro_fs3_aural_mean)\n",
    "print(micro_fs3_aural_std)\n",
    "\n",
    "macro_fs3_thermal_all = personal_macro['fs3_thermal']\n",
    "macro_fs3_thermal_mean = statistics.mean(macro_fs3_thermal_all.values())\n",
    "macro_fs3_thermal_std = statistics.stdev(macro_fs3_thermal_all.values())\n",
    "print(macro_fs3_thermal_all)\n",
    "print(macro_fs3_thermal_mean)\n",
    "print(macro_fs3_thermal_std)\n",
    "\n",
    "macro_fs3_light_all = personal_macro['fs3_light']\n",
    "macro_fs3_light_mean = statistics.mean(macro_fs3_light_all.values())\n",
    "macro_fs3_light_std = statistics.stdev(macro_fs3_light_all.values())\n",
    "print(macro_fs3_light_all)\n",
    "print(macro_fs3_light_mean)\n",
    "print(macro_fs3_light_std)\n",
    "\n",
    "macro_fs3_aural_all = personal_macro['fs3_aural']\n",
    "macro_fs3_aural_mean = statistics.mean(macro_fs3_aural_all.values())\n",
    "macro_fs3_aural_std = statistics.stdev(macro_fs3_aural_all.values())\n",
    "print(macro_fs3_aural_all)\n",
    "print(macro_fs3_aural_mean)\n",
    "print(macro_fs3_aural_std)\n"
   ]
  },
  {
   "cell_type": "code",
   "execution_count": 11,
   "metadata": {
    "collapsed": true,
    "jupyter": {
     "outputs_hidden": true
    }
   },
   "outputs": [
    {
     "name": "stdout",
     "output_type": "stream",
     "text": [
      "{'cresh07': 0.6842105263157895, 'cresh10': 0.6111111111111112, 'cresh08': 0.75, 'cresh12': 0.7, 'cresh09': 0.4000000000000001, 'cresh06': 0.5102040816326531, 'cresh02': 0.6666666666666666, 'cresh13': 0.75, 'cresh15': 0.9333333333333333, 'cresh03': 0.9444444444444444, 'cresh14': 0.6666666666666666, 'cresh11': 0.5, 'cresh05': 0.7142857142857143, 'cresh01': 0.6190476190476191, 'cresh04': 1.0, 'cresh22': 0.5, 'cresh16': 0.7142857142857143, 'cresh19': 0.625, 'cresh21': 0.47619047619047616, 'cresh26': 0.7647058823529412, 'cresh29': 1.0, 'cresh27': 0.9166666666666666, 'cresh23': 0.7777777777777778, 'cresh20': 0.2777777777777778, 'cresh18': 0.72, 'cresh30': 0.6923076923076923, 'cresh17': 0.6470588235294118, 'cresh24': 0.21052631578947367, 'cresh28': 0.5, 'cresh25': 0.4666666666666667}\n",
      "0.6579644652282866\n",
      "0.19458209060159878\n",
      "{'cresh07': 1.0, 'cresh10': 0.8333333333333334, 'cresh08': 0.8125, 'cresh12': 0.9, 'cresh09': 1.0, 'cresh06': 0.8367346938775511, 'cresh02': 0.5416666666666666, 'cresh13': 0.25, 'cresh15': 0.13333333333333333, 'cresh03': 0.6111111111111112, 'cresh14': 1.0, 'cresh11': 0.25, 'cresh05': 0.9047619047619048, 'cresh01': 0.6666666666666666, 'cresh04': 1.0, 'cresh22': 1.0, 'cresh16': 1.0, 'cresh19': 1.0, 'cresh21': 1.0, 'cresh26': 0.8235294117647058, 'cresh29': 1.0, 'cresh27': 0.6666666666666666, 'cresh23': 0.7222222222222222, 'cresh20': 0.9444444444444444, 'cresh18': 1.0, 'cresh30': 0.8461538461538461, 'cresh17': 0.17647058823529413, 'cresh24': 0.21052631578947367, 'cresh28': 0.75, 'cresh25': 0.3333333333333333}\n",
      "0.7404484846120184\n",
      "0.29306694597740773\n",
      "{'cresh07': 0.9473684210526315, 'cresh10': 0.7777777777777778, 'cresh08': 0.9375, 'cresh12': 0.85, 'cresh09': 0.9500000000000001, 'cresh06': 0.8571428571428571, 'cresh02': 0.625, 'cresh13': 0.7, 'cresh15': 0.4000000000000001, 'cresh03': 0.9444444444444444, 'cresh14': 0.9629629629629629, 'cresh11': 1.0, 'cresh05': 1.0, 'cresh01': 0.9047619047619048, 'cresh04': 1.0, 'cresh22': 0.875, 'cresh16': 1.0, 'cresh19': 1.0, 'cresh21': 0.9523809523809523, 'cresh26': 0.8823529411764706, 'cresh29': 1.0, 'cresh27': 0.9166666666666666, 'cresh23': 0.4444444444444444, 'cresh20': 1.0, 'cresh18': 0.92, 'cresh30': 0.6923076923076923, 'cresh17': 0.6470588235294118, 'cresh24': 0.5789473684210527, 'cresh28': 0.6666666666666666, 'cresh25': 0.8666666666666667}\n",
      "0.8433150196800867\n",
      "0.17102643866401118\n",
      "{'cresh07': 0.2708333333333333, 'cresh10': 0.39627039627039634, 'cresh08': 0.42857142857142855, 'cresh12': 0.49404761904761907, 'cresh09': 0.25555555555555554, 'cresh06': 0.3505886147395581, 'cresh02': 0.35185185185185186, 'cresh13': 0.6865203761755486, 'cresh15': 0.3333333333333333, 'cresh03': 0.4857142857142857, 'cresh14': 0.4862579281183932, 'cresh11': 0.3333333333333333, 'cresh05': 0.27777777777777773, 'cresh01': 0.25490196078431376, 'cresh04': 1.0, 'cresh22': 0.41269841269841273, 'cresh16': 0.2777777777777778, 'cresh19': 0.25641025641025644, 'cresh21': 0.42962962962962964, 'cresh26': 0.28888888888888886, 'cresh29': 1.0, 'cresh27': 0.4782608695652174, 'cresh23': 0.29166666666666663, 'cresh20': 0.17826617826617827, 'cresh18': 0.27906976744186046, 'cresh30': 0.28571428571428575, 'cresh17': 0.3731884057971014, 'cresh24': 0.16176470588235295, 'cresh28': 0.3757575757575758, 'cresh25': 0.34432234432234426}\n",
      "0.39463245198084257\n",
      "0.19631928393672265\n",
      "{'cresh07': 1.0, 'cresh10': 0.30303030303030304, 'cresh08': 0.4482758620689655, 'cresh12': 0.4736842105263158, 'cresh09': 1.0, 'cresh06': 0.45555555555555555, 'cresh02': 0.5177133655394525, 'cresh13': 0.24812030075187969, 'cresh15': 0.13333333333333333, 'cresh03': 0.60650623885918, 'cresh14': 1.0, 'cresh11': 0.25, 'cresh05': 0.47500000000000003, 'cresh01': 0.4254510921177588, 'cresh04': 1.0, 'cresh22': 1.0, 'cresh16': 1.0, 'cresh19': 1.0, 'cresh21': 1.0, 'cresh26': 0.45161290322580644, 'cresh29': 1.0, 'cresh27': 0.5555555555555555, 'cresh23': 0.27956989247311825, 'cresh20': 0.4857142857142857, 'cresh18': 1.0, 'cresh30': 0.4583333333333333, 'cresh17': 0.1365079365079365, 'cresh24': 0.13968253968253966, 'cresh28': 0.42857142857142855, 'cresh25': 0.16666666666666666}\n",
      "0.5812961601171138\n",
      "0.3247397726045327\n",
      "{'cresh07': 0.4864864864864865, 'cresh10': 0.43749999999999994, 'cresh08': 0.4838709677419355, 'cresh12': 0.6571428571428571, 'cresh09': 0.48717948717948717, 'cresh06': 0.4615384615384615, 'cresh02': 0.5636363636363636, 'cresh13': 0.7000000000000001, 'cresh15': 0.354066985645933, 'cresh03': 0.4857142857142857, 'cresh14': 0.49056603773584906, 'cresh11': 1.0, 'cresh05': 1.0, 'cresh01': 0.47500000000000003, 'cresh04': 1.0, 'cresh22': 0.4666666666666667, 'cresh16': 1.0, 'cresh19': 1.0, 'cresh21': 0.4878048780487805, 'cresh26': 0.46875, 'cresh29': 1.0, 'cresh27': 0.4782608695652174, 'cresh23': 0.30769230769230765, 'cresh20': 1.0, 'cresh18': 0.4791666666666667, 'cresh30': 0.4090909090909091, 'cresh17': 0.3928571428571429, 'cresh24': 0.5476190476190476, 'cresh28': 0.6571428571428571, 'cresh25': 0.4642857142857143}\n",
      "0.6080679664152323\n",
      "0.2337620638485387\n"
     ]
    }
   ],
   "source": [
    "micro_fs4_thermal_all = personal_micro['fs4_thermal']\n",
    "micro_fs4_thermal_mean = statistics.mean(micro_fs4_thermal_all.values())\n",
    "micro_fs4_thermal_std = statistics.stdev(micro_fs4_thermal_all.values())\n",
    "print(micro_fs4_thermal_all)\n",
    "print(micro_fs4_thermal_mean)\n",
    "print(micro_fs4_thermal_std)\n",
    "\n",
    "micro_fs4_light_all = personal_micro['fs4_light']\n",
    "micro_fs4_light_mean = statistics.mean(micro_fs4_light_all.values())\n",
    "micro_fs4_light_std = statistics.stdev(micro_fs4_light_all.values())\n",
    "print(micro_fs4_light_all)\n",
    "print(micro_fs4_light_mean)\n",
    "print(micro_fs4_light_std)\n",
    "\n",
    "micro_fs4_aural_all = personal_micro['fs4_aural']\n",
    "micro_fs4_aural_mean = statistics.mean(micro_fs4_aural_all.values())\n",
    "micro_fs4_aural_std = statistics.stdev(micro_fs4_aural_all.values())\n",
    "print(micro_fs4_aural_all)\n",
    "print(micro_fs4_aural_mean)\n",
    "print(micro_fs4_aural_std)\n",
    "\n",
    "macro_fs4_thermal_all = personal_macro['fs4_thermal']\n",
    "macro_fs4_thermal_mean = statistics.mean(macro_fs4_thermal_all.values())\n",
    "macro_fs4_thermal_std = statistics.stdev(macro_fs4_thermal_all.values())\n",
    "print(macro_fs4_thermal_all)\n",
    "print(macro_fs4_thermal_mean)\n",
    "print(macro_fs4_thermal_std)\n",
    "\n",
    "macro_fs4_light_all = personal_macro['fs4_light']\n",
    "macro_fs4_light_mean = statistics.mean(macro_fs4_light_all.values())\n",
    "macro_fs4_light_std = statistics.stdev(macro_fs4_light_all.values())\n",
    "print(macro_fs4_light_all)\n",
    "print(macro_fs4_light_mean)\n",
    "print(macro_fs4_light_std)\n",
    "\n",
    "macro_fs4_aural_all = personal_macro['fs4_aural']\n",
    "macro_fs4_aural_mean = statistics.mean(macro_fs4_aural_all.values())\n",
    "macro_fs4_aural_std = statistics.stdev(macro_fs4_aural_all.values())\n",
    "print(macro_fs4_aural_all)\n",
    "print(macro_fs4_aural_mean)\n",
    "print(macro_fs4_aural_std)\n"
   ]
  },
  {
   "cell_type": "code",
   "execution_count": 12,
   "metadata": {
    "collapsed": true,
    "jupyter": {
     "outputs_hidden": true
    }
   },
   "outputs": [
    {
     "name": "stdout",
     "output_type": "stream",
     "text": [
      "{'cresh07': 0.5263157894736842, 'cresh10': 0.4444444444444444, 'cresh08': 0.75, 'cresh12': 0.75, 'cresh09': 0.35, 'cresh06': 0.5510204081632653, 'cresh02': 0.625, 'cresh13': 0.5, 'cresh15': 0.9333333333333333, 'cresh03': 0.9444444444444444, 'cresh14': 0.37037037037037035, 'cresh11': 0.5, 'cresh05': 0.7142857142857143, 'cresh01': 0.6190476190476191, 'cresh04': 1.0, 'cresh22': 0.5, 'cresh16': 0.7142857142857143, 'cresh19': 0.625, 'cresh21': 0.47619047619047616, 'cresh26': 0.8235294117647058, 'cresh29': 1.0, 'cresh27': 0.9166666666666666, 'cresh23': 0.7777777777777778, 'cresh20': 0.6111111111111112, 'cresh18': 0.72, 'cresh30': 0.6923076923076923, 'cresh17': 0.6470588235294118, 'cresh24': 0.2631578947368421, 'cresh28': 0.4166666666666667, 'cresh25': 0.4666666666666667}\n",
      "0.6409560341755536\n",
      "0.1979819924536803\n",
      "{'cresh07': 1.0, 'cresh10': 0.8333333333333334, 'cresh08': 0.8125, 'cresh12': 0.9, 'cresh09': 1.0, 'cresh06': 0.8367346938775511, 'cresh02': 0.4166666666666667, 'cresh13': 0.25, 'cresh15': 0.26666666666666666, 'cresh03': 0.6111111111111112, 'cresh14': 1.0, 'cresh11': 0.3125, 'cresh05': 0.8571428571428571, 'cresh01': 0.7142857142857143, 'cresh04': 1.0, 'cresh22': 1.0, 'cresh16': 1.0, 'cresh19': 1.0, 'cresh21': 1.0, 'cresh26': 0.8235294117647058, 'cresh29': 1.0, 'cresh27': 0.5833333333333334, 'cresh23': 0.6666666666666666, 'cresh20': 1.0, 'cresh18': 1.0, 'cresh30': 0.8461538461538461, 'cresh17': 0.23529411764705882, 'cresh24': 0.2631578947368421, 'cresh28': 0.6666666666666666, 'cresh25': 0.3333333333333333}\n",
      "0.7409692104462118\n",
      "0.280145771142119\n",
      "{'cresh07': 0.9473684210526315, 'cresh10': 0.8333333333333334, 'cresh08': 0.9375, 'cresh12': 0.8000000000000002, 'cresh09': 0.9500000000000001, 'cresh06': 0.8571428571428571, 'cresh02': 0.5416666666666666, 'cresh13': 0.65, 'cresh15': 0.5333333333333333, 'cresh03': 0.9444444444444444, 'cresh14': 0.9629629629629629, 'cresh11': 1.0, 'cresh05': 1.0, 'cresh01': 0.9047619047619048, 'cresh04': 1.0, 'cresh22': 0.8125, 'cresh16': 1.0, 'cresh19': 1.0, 'cresh21': 0.9523809523809523, 'cresh26': 0.8823529411764706, 'cresh29': 1.0, 'cresh27': 0.9166666666666666, 'cresh23': 0.3888888888888889, 'cresh20': 1.0, 'cresh18': 0.88, 'cresh30': 0.7692307692307693, 'cresh17': 0.6470588235294118, 'cresh24': 0.5263157894736842, 'cresh28': 0.6666666666666666, 'cresh25': 0.8666666666666667}\n",
      "0.8390414029459438\n",
      "0.17232300013323154\n",
      "{'cresh07': 0.2298850574712644, 'cresh10': 0.3050108932461874, 'cresh08': 0.42857142857142855, 'cresh12': 0.5252525252525252, 'cresh09': 0.22826086956521738, 'cresh06': 0.39054373522458624, 'cresh02': 0.3333333333333333, 'cresh13': 0.494949494949495, 'cresh15': 0.3333333333333333, 'cresh03': 0.4857142857142857, 'cresh14': 0.3097744360902256, 'cresh11': 0.3333333333333333, 'cresh05': 0.27777777777777773, 'cresh01': 0.25490196078431376, 'cresh04': 1.0, 'cresh22': 0.4761904761904761, 'cresh16': 0.2777777777777778, 'cresh19': 0.25641025641025644, 'cresh21': 0.42962962962962964, 'cresh26': 0.3010752688172043, 'cresh29': 1.0, 'cresh27': 0.4782608695652174, 'cresh23': 0.29166666666666663, 'cresh20': 0.3793103448275862, 'cresh18': 0.27906976744186046, 'cresh30': 0.28571428571428575, 'cresh17': 0.38509316770186336, 'cresh24': 0.2074074074074074, 'cresh28': 0.3333333333333333, 'cresh25': 0.34432234432234426}\n",
      "0.38853013534844055\n",
      "0.18724773797573951\n",
      "{'cresh07': 1.0, 'cresh10': 0.30303030303030304, 'cresh08': 0.4482758620689655, 'cresh12': 0.4736842105263158, 'cresh09': 1.0, 'cresh06': 0.45555555555555555, 'cresh02': 0.3636141636141636, 'cresh13': 0.24812030075187969, 'cresh15': 0.25339366515837103, 'cresh03': 0.5696881091617932, 'cresh14': 1.0, 'cresh11': 0.30980392156862746, 'cresh05': 0.3076923076923077, 'cresh01': 0.47252747252747246, 'cresh04': 1.0, 'cresh22': 1.0, 'cresh16': 1.0, 'cresh19': 1.0, 'cresh21': 1.0, 'cresh26': 0.45161290322580644, 'cresh29': 1.0, 'cresh27': 0.4957983193277311, 'cresh23': 0.2666666666666667, 'cresh20': 1.0, 'cresh18': 1.0, 'cresh30': 0.4583333333333333, 'cresh17': 0.1762820512820513, 'cresh24': 0.18369453044375642, 'cresh28': 0.4, 'cresh25': 0.16666666666666666}\n",
      "0.5934813447533922\n",
      "0.3289532850145452\n",
      "{'cresh07': 0.4864864864864865, 'cresh10': 0.45454545454545453, 'cresh08': 0.4838709677419355, 'cresh12': 0.4444444444444445, 'cresh09': 0.48717948717948717, 'cresh06': 0.4615384615384615, 'cresh02': 0.4197802197802198, 'cresh13': 0.6491228070175439, 'cresh15': 0.4444444444444444, 'cresh03': 0.4857142857142857, 'cresh14': 0.49056603773584906, 'cresh11': 1.0, 'cresh05': 1.0, 'cresh01': 0.47500000000000003, 'cresh04': 1.0, 'cresh22': 0.4482758620689655, 'cresh16': 1.0, 'cresh19': 1.0, 'cresh21': 0.4878048780487805, 'cresh26': 0.46875, 'cresh29': 1.0, 'cresh27': 0.4782608695652174, 'cresh23': 0.28, 'cresh20': 1.0, 'cresh18': 0.4680851063829787, 'cresh30': 0.43478260869565216, 'cresh17': 0.3928571428571429, 'cresh24': 0.3448275862068966, 'cresh28': 0.6571428571428571, 'cresh25': 0.4642857142857143}\n",
      "0.590258857396094\n",
      "0.23961096509043683\n"
     ]
    }
   ],
   "source": [
    "micro_fs5_thermal_all = personal_micro['fs5_thermal']\n",
    "micro_fs5_thermal_mean = statistics.mean(micro_fs5_thermal_all.values())\n",
    "micro_fs5_thermal_std = statistics.stdev(micro_fs5_thermal_all.values())\n",
    "print(micro_fs5_thermal_all)\n",
    "print(micro_fs5_thermal_mean)\n",
    "print(micro_fs5_thermal_std)\n",
    "\n",
    "micro_fs5_light_all = personal_micro['fs5_light']\n",
    "micro_fs5_light_mean = statistics.mean(micro_fs5_light_all.values())\n",
    "micro_fs5_light_std = statistics.stdev(micro_fs5_light_all.values())\n",
    "print(micro_fs5_light_all)\n",
    "print(micro_fs5_light_mean)\n",
    "print(micro_fs5_light_std)\n",
    "\n",
    "micro_fs5_aural_all = personal_micro['fs5_aural']\n",
    "micro_fs5_aural_mean = statistics.mean(micro_fs5_aural_all.values())\n",
    "micro_fs5_aural_std = statistics.stdev(micro_fs5_aural_all.values())\n",
    "print(micro_fs5_aural_all)\n",
    "print(micro_fs5_aural_mean)\n",
    "print(micro_fs5_aural_std)\n",
    "\n",
    "macro_fs5_thermal_all = personal_macro['fs5_thermal']\n",
    "macro_fs5_thermal_mean = statistics.mean(macro_fs5_thermal_all.values())\n",
    "macro_fs5_thermal_std = statistics.stdev(macro_fs5_thermal_all.values())\n",
    "print(macro_fs5_thermal_all)\n",
    "print(macro_fs5_thermal_mean)\n",
    "print(macro_fs5_thermal_std)\n",
    "\n",
    "macro_fs5_light_all = personal_macro['fs5_light']\n",
    "macro_fs5_light_mean = statistics.mean(macro_fs5_light_all.values())\n",
    "macro_fs5_light_std = statistics.stdev(macro_fs5_light_all.values())\n",
    "print(macro_fs5_light_all)\n",
    "print(macro_fs5_light_mean)\n",
    "print(macro_fs5_light_std)\n",
    "\n",
    "macro_fs5_aural_all = personal_macro['fs5_aural']\n",
    "macro_fs5_aural_mean = statistics.mean(macro_fs5_aural_all.values())\n",
    "macro_fs5_aural_std = statistics.stdev(macro_fs5_aural_all.values())\n",
    "print(macro_fs5_aural_all)\n",
    "print(macro_fs5_aural_mean)\n",
    "print(macro_fs5_aural_std)\n"
   ]
  },
  {
   "cell_type": "code",
   "execution_count": 13,
   "metadata": {
    "collapsed": true,
    "jupyter": {
     "outputs_hidden": true
    }
   },
   "outputs": [
    {
     "name": "stdout",
     "output_type": "stream",
     "text": [
      "{'cresh07': 0.5263157894736842, 'cresh10': 0.3333333333333333, 'cresh08': 0.75, 'cresh12': 0.8000000000000002, 'cresh09': 0.15, 'cresh06': 0.32653061224489793, 'cresh02': 0.625, 'cresh13': 0.55, 'cresh15': 0.9333333333333333, 'cresh03': 0.9444444444444444, 'cresh14': 0.4074074074074074, 'cresh11': 0.5, 'cresh05': 0.7142857142857143, 'cresh01': 0.5714285714285714, 'cresh04': 1.0, 'cresh22': 0.5, 'cresh16': 0.7142857142857143, 'cresh19': 0.625, 'cresh21': 0.42857142857142855, 'cresh26': 0.8235294117647058, 'cresh29': 1.0, 'cresh27': 0.9166666666666666, 'cresh23': 0.7777777777777778, 'cresh20': 0.6111111111111112, 'cresh18': 0.72, 'cresh30': 0.6923076923076923, 'cresh17': 0.6470588235294118, 'cresh24': 0.21052631578947367, 'cresh28': 0.4166666666666667, 'cresh25': 0.4666666666666667}\n",
      "0.6227415827029568\n",
      "0.22574914133151355\n",
      "{'cresh07': 1.0, 'cresh10': 0.8333333333333334, 'cresh08': 0.8125, 'cresh12': 0.9, 'cresh09': 1.0, 'cresh06': 0.8367346938775511, 'cresh02': 0.3333333333333333, 'cresh13': 0.20000000000000004, 'cresh15': 0.5333333333333333, 'cresh03': 0.5, 'cresh14': 1.0, 'cresh11': 0.25, 'cresh05': 0.8571428571428571, 'cresh01': 0.7142857142857143, 'cresh04': 1.0, 'cresh22': 1.0, 'cresh16': 1.0, 'cresh19': 1.0, 'cresh21': 1.0, 'cresh26': 0.8235294117647058, 'cresh29': 1.0, 'cresh27': 0.5833333333333334, 'cresh23': 0.6666666666666666, 'cresh20': 0.7222222222222222, 'cresh18': 1.0, 'cresh30': 0.8461538461538461, 'cresh17': 0.23529411764705882, 'cresh24': 0.2631578947368421, 'cresh28': 0.5833333333333334, 'cresh25': 0.3333333333333333}\n",
      "0.7275895808165821\n",
      "0.27870325869959084\n",
      "{'cresh07': 0.9473684210526315, 'cresh10': 0.8333333333333334, 'cresh08': 0.9375, 'cresh12': 0.8000000000000002, 'cresh09': 0.9500000000000001, 'cresh06': 0.8571428571428571, 'cresh02': 0.5833333333333334, 'cresh13': 0.6, 'cresh15': 0.5333333333333333, 'cresh03': 0.9444444444444444, 'cresh14': 0.9629629629629629, 'cresh11': 1.0, 'cresh05': 1.0, 'cresh01': 0.9047619047619048, 'cresh04': 1.0, 'cresh22': 0.875, 'cresh16': 1.0, 'cresh19': 1.0, 'cresh21': 0.9523809523809523, 'cresh26': 0.8823529411764706, 'cresh29': 1.0, 'cresh27': 0.9166666666666666, 'cresh23': 0.3888888888888889, 'cresh20': 1.0, 'cresh18': 0.88, 'cresh30': 0.8461538461538461, 'cresh17': 0.6470588235294118, 'cresh24': 0.5789473684210527, 'cresh28': 0.6666666666666666, 'cresh25': 0.8666666666666667}\n",
      "0.8451654470305141\n",
      "0.16856518386694538\n",
      "{'cresh07': 0.2298850574712644, 'cresh10': 0.22222222222222224, 'cresh08': 0.42857142857142855, 'cresh12': 0.556935817805383, 'cresh09': 0.10052910052910054, 'cresh06': 0.23582766439909297, 'cresh02': 0.34074074074074073, 'cresh13': 0.5396419437340153, 'cresh15': 0.3333333333333333, 'cresh03': 0.4857142857142857, 'cresh14': 0.33333333333333337, 'cresh11': 0.3333333333333333, 'cresh05': 0.27777777777777773, 'cresh01': 0.24242424242424246, 'cresh04': 1.0, 'cresh22': 0.4202020202020202, 'cresh16': 0.3864734299516908, 'cresh19': 0.25641025641025644, 'cresh21': 0.3571428571428572, 'cresh26': 0.3010752688172043, 'cresh29': 1.0, 'cresh27': 0.4782608695652174, 'cresh23': 0.29166666666666663, 'cresh20': 0.3793103448275862, 'cresh18': 0.27906976744186046, 'cresh30': 0.28571428571428575, 'cresh17': 0.38509316770186336, 'cresh24': 0.16541353383458646, 'cresh28': 0.34814814814814815, 'cresh25': 0.34432234432234426}\n",
      "0.37795244140453804\n",
      "0.19751471339129748\n",
      "{'cresh07': 1.0, 'cresh10': 0.30303030303030304, 'cresh08': 0.4482758620689655, 'cresh12': 0.4736842105263158, 'cresh09': 1.0, 'cresh06': 0.45555555555555555, 'cresh02': 0.3111111111111111, 'cresh13': 0.2, 'cresh15': 0.4444444444444444, 'cresh03': 0.4605263157894736, 'cresh14': 1.0, 'cresh11': 0.1722222222222222, 'cresh05': 0.3076923076923077, 'cresh01': 0.47252747252747246, 'cresh04': 1.0, 'cresh22': 1.0, 'cresh16': 1.0, 'cresh19': 1.0, 'cresh21': 1.0, 'cresh26': 0.45161290322580644, 'cresh29': 1.0, 'cresh27': 0.3452380952380952, 'cresh23': 0.2666666666666667, 'cresh20': 0.4193548387096774, 'cresh18': 1.0, 'cresh30': 0.4583333333333333, 'cresh17': 0.17825311942959002, 'cresh24': 0.18369453044375642, 'cresh28': 0.3684210526315789, 'cresh25': 0.16666666666666666}\n",
      "0.5629103670437781\n",
      "0.32810210796593403\n",
      "{'cresh07': 0.4864864864864865, 'cresh10': 0.45454545454545453, 'cresh08': 0.4838709677419355, 'cresh12': 0.4444444444444445, 'cresh09': 0.48717948717948717, 'cresh06': 0.4615384615384615, 'cresh02': 0.4444444444444444, 'cresh13': 0.595959595959596, 'cresh15': 0.4444444444444444, 'cresh03': 0.4857142857142857, 'cresh14': 0.49056603773584906, 'cresh11': 1.0, 'cresh05': 1.0, 'cresh01': 0.47500000000000003, 'cresh04': 1.0, 'cresh22': 0.4666666666666667, 'cresh16': 1.0, 'cresh19': 1.0, 'cresh21': 0.4878048780487805, 'cresh26': 0.46875, 'cresh29': 1.0, 'cresh27': 0.4782608695652174, 'cresh23': 0.28, 'cresh20': 1.0, 'cresh18': 0.4680851063829787, 'cresh30': 0.4583333333333333, 'cresh17': 0.3928571428571429, 'cresh24': 0.45714285714285713, 'cresh28': 0.6571428571428571, 'cresh25': 0.4642857142857143}\n",
      "0.5944507845220146\n",
      "0.2348190033609349\n"
     ]
    }
   ],
   "source": [
    "micro_fs6_thermal_all = personal_micro['fs6_thermal']\n",
    "micro_fs6_thermal_mean = statistics.mean(micro_fs6_thermal_all.values())\n",
    "micro_fs6_thermal_std = statistics.stdev(micro_fs6_thermal_all.values())\n",
    "print(micro_fs6_thermal_all)\n",
    "print(micro_fs6_thermal_mean)\n",
    "print(micro_fs6_thermal_std)\n",
    "\n",
    "micro_fs6_light_all = personal_micro['fs6_light']\n",
    "micro_fs6_light_mean = statistics.mean(micro_fs6_light_all.values())\n",
    "micro_fs6_light_std = statistics.stdev(micro_fs6_light_all.values())\n",
    "print(micro_fs6_light_all)\n",
    "print(micro_fs6_light_mean)\n",
    "print(micro_fs6_light_std)\n",
    "\n",
    "micro_fs6_aural_all = personal_micro['fs6_aural']\n",
    "micro_fs6_aural_mean = statistics.mean(micro_fs6_aural_all.values())\n",
    "micro_fs6_aural_std = statistics.stdev(micro_fs6_aural_all.values())\n",
    "print(micro_fs6_aural_all)\n",
    "print(micro_fs6_aural_mean)\n",
    "print(micro_fs6_aural_std)\n",
    "\n",
    "macro_fs6_thermal_all = personal_macro['fs6_thermal']\n",
    "macro_fs6_thermal_mean = statistics.mean(macro_fs6_thermal_all.values())\n",
    "macro_fs6_thermal_std = statistics.stdev(macro_fs6_thermal_all.values())\n",
    "print(macro_fs6_thermal_all)\n",
    "print(macro_fs6_thermal_mean)\n",
    "print(macro_fs6_thermal_std)\n",
    "\n",
    "macro_fs6_light_all = personal_macro['fs6_light']\n",
    "macro_fs6_light_mean = statistics.mean(macro_fs6_light_all.values())\n",
    "macro_fs6_light_std = statistics.stdev(macro_fs6_light_all.values())\n",
    "print(macro_fs6_light_all)\n",
    "print(macro_fs6_light_mean)\n",
    "print(macro_fs6_light_std)\n",
    "\n",
    "macro_fs6_aural_all = personal_macro['fs6_aural']\n",
    "macro_fs6_aural_mean = statistics.mean(macro_fs6_aural_all.values())\n",
    "macro_fs6_aural_std = statistics.stdev(macro_fs6_aural_all.values())\n",
    "print(macro_fs6_aural_all)\n",
    "print(macro_fs6_aural_mean)\n",
    "print(macro_fs6_aural_std)\n"
   ]
  },
  {
   "cell_type": "markdown",
   "metadata": {},
   "source": [
    "# Results: f1-micro"
   ]
  },
  {
   "cell_type": "code",
   "execution_count": 15,
   "metadata": {},
   "outputs": [
    {
     "name": "stdout",
     "output_type": "stream",
     "text": [
      "Metric: f1-micro\n"
     ]
    },
    {
     "data": {
      "image/png": "[encoded data removed]",
      "text/plain": [
       "<Figure size 1008x864 with 2 Axes>"
      ]
     },
     "metadata": {
      "needs_background": "light"
     },
     "output_type": "display_data"
    }
   ],
   "source": [
    "metric = 'f1-micro'\n",
    "experiments_micro = pd.DataFrame([['FS1', 'Thermal Individual', micro_fs1_thermal_mean],\n",
    "                                  ['FS1', 'Thermal Grouped', micro_f1['fs1_thermal']],\n",
    "                                  ['FS1', 'Light Individual', micro_fs1_light_mean],\n",
    "                                  ['FS1', 'Light Grouped', micro_f1['fs1_light']],\n",
    "                                  ['FS1', 'Aural Individual', micro_fs1_aural_mean],\n",
    "                                  ['FS1', 'Aural Grouped', micro_f1['fs1_aural']],\n",
    "                                  \n",
    "                                  ['FS2', 'Thermal Individual', micro_fs2_thermal_mean],\n",
    "                                  ['FS2', 'Thermal Grouped', micro_f1['fs2_thermal']],\n",
    "                                  ['FS2', 'Light Individual', micro_fs2_light_mean],\n",
    "                                  ['FS2', 'Light Grouped', micro_f1['fs2_light']],\n",
    "                                  ['FS2', 'Aural Individual', micro_fs2_aural_mean],\n",
    "                                  ['FS2', 'Aural Grouped', micro_f1['fs2_aural']],\n",
    "                                  \n",
    "                                  ['FS3', 'Thermal Individual', micro_fs3_thermal_mean],\n",
    "                                  ['FS3', 'Thermal Grouped', micro_f1['fs3_thermal']],\n",
    "                                  ['FS3', 'Light Individual', micro_fs3_light_mean],\n",
    "                                  ['FS3', 'Light Grouped', micro_f1['fs3_light']],\n",
    "                                  ['FS3', 'Aural Individual', micro_fs3_aural_mean],\n",
    "                                  ['FS3', 'Aural Grouped', micro_f1['fs3_aural']],\n",
    "                                  \n",
    "                                  ['FS4', 'Thermal Individual', micro_fs4_thermal_mean],\n",
    "                                  ['FS4', 'Thermal Grouped', micro_f1['fs4_thermal']],\n",
    "                                  ['FS4', 'Light Individual', micro_fs4_light_mean],\n",
    "                                  ['FS4', 'Light Grouped', micro_f1['fs4_light']],\n",
    "                                  ['FS4', 'Aural Individual', micro_fs4_aural_mean],\n",
    "                                  ['FS4', 'Aural Grouped', micro_f1['fs4_aural']],\n",
    "                                  \n",
    "                                  ['FS5', 'Thermal Individual', micro_fs5_thermal_mean],\n",
    "                                  ['FS5', 'Thermal Grouped', micro_f1['fs5_thermal']],\n",
    "                                  ['FS5', 'Light Individual', micro_fs5_light_mean],\n",
    "                                  ['FS5', 'Light Grouped', micro_f1['fs5_light']],\n",
    "                                  ['FS5', 'Aural Individual', micro_fs5_aural_mean],\n",
    "                                  ['FS5', 'Aural Grouped', micro_f1['fs5_aural']],\n",
    "                                  \n",
    "                                  ['FS6', 'Thermal Individual', micro_fs6_thermal_mean],\n",
    "                                  ['FS6', 'Thermal Grouped', micro_f1['fs6_thermal']],\n",
    "                                  ['FS6', 'Light Individual', micro_fs6_light_mean],\n",
    "                                  ['FS6', 'Light Grouped', micro_f1['fs6_light']],\n",
    "                                  ['FS6', 'Aural Individual', micro_fs6_aural_mean],\n",
    "                                  ['FS6', 'Aural Grouped', micro_f1['fs6_aural']],\n",
    "                                  \n",
    "                                 ], columns = ['Feature Sets', 'Model', metric])\n",
    "\n",
    "# plot heatmap\n",
    "print(\"Metric: {}\".format(metric))\n",
    "experiments_micro = experiments_micro.pivot(\"Model\", \"Feature Sets\", metric)\n",
    "fig = plt.figure(figsize=(14, 12))\n",
    "ax = sns.heatmap(experiments_micro, linewidths = 0.5, annot = True, vmax = 1, cmap = \"Blues\")\n",
    "# plt.tight_layout()\n",
    "plt.show()\n",
    "fig.savefig('../img/heatmap_' + metric + '.pdf', bbox_inches='tight')\n"
   ]
  },
  {
   "cell_type": "markdown",
   "metadata": {},
   "source": [
    "# Results: f1-macro"
   ]
  },
  {
   "cell_type": "code",
   "execution_count": 16,
   "metadata": {},
   "outputs": [
    {
     "name": "stdout",
     "output_type": "stream",
     "text": [
      "Metric: f1-macro\n"
     ]
    },
    {
     "data": {
      "image/png": "[encoded data removed]",
      "text/plain": [
       "<Figure size 1008x864 with 2 Axes>"
      ]
     },
     "metadata": {
      "needs_background": "light"
     },
     "output_type": "display_data"
    }
   ],
   "source": [
    "metric = 'f1-macro'\n",
    "experiments_macro = pd.DataFrame([['FS1', 'Thermal Individual', macro_fs1_thermal_mean],\n",
    "                                  ['FS1', 'Thermal Grouped', macro_f1['fs1_thermal']],\n",
    "                                  ['FS1', 'Light Individual', macro_fs1_light_mean],\n",
    "                                  ['FS1', 'Light Grouped', macro_f1['fs1_light']],\n",
    "                                  ['FS1', 'Aural Individual', macro_fs1_aural_mean],\n",
    "                                  ['FS1', 'Aural Grouped', macro_f1['fs1_aural']],\n",
    "                                  \n",
    "                                  ['FS2', 'Thermal Individual', macro_fs2_thermal_mean],\n",
    "                                  ['FS2', 'Thermal Grouped', macro_f1['fs2_thermal']],\n",
    "                                  ['FS2', 'Light Individual', macro_fs2_light_mean],\n",
    "                                  ['FS2', 'Light Grouped', macro_f1['fs2_light']],\n",
    "                                  ['FS2', 'Aural Individual', macro_fs2_aural_mean],\n",
    "                                  ['FS2', 'Aural Grouped', macro_f1['fs2_aural']],\n",
    "                                  \n",
    "                                  ['FS3', 'Thermal Individual', macro_fs3_thermal_mean],\n",
    "                                  ['FS3', 'Thermal Grouped', macro_f1['fs3_thermal']],\n",
    "                                  ['FS3', 'Light Individual', macro_fs3_light_mean],\n",
    "                                  ['FS3', 'Light Grouped', macro_f1['fs3_light']],\n",
    "                                  ['FS3', 'Aural Individual', macro_fs3_aural_mean],\n",
    "                                  ['FS3', 'Aural Grouped', macro_f1['fs3_aural']],\n",
    "                                  \n",
    "                                  ['FS4', 'Thermal Individual', macro_fs4_thermal_mean],\n",
    "                                  ['FS4', 'Thermal Grouped', macro_f1['fs4_thermal']],\n",
    "                                  ['FS4', 'Light Individual', macro_fs4_light_mean],\n",
    "                                  ['FS4', 'Light Grouped', macro_f1['fs4_light']],\n",
    "                                  ['FS4', 'Aural Individual', macro_fs4_aural_mean],\n",
    "                                  ['FS4', 'Aural Grouped', macro_f1['fs4_aural']],\n",
    "                                  \n",
    "                                  ['FS5', 'Thermal Individual', macro_fs5_thermal_mean],\n",
    "                                  ['FS5', 'Thermal Grouped', macro_f1['fs5_thermal']],\n",
    "                                  ['FS5', 'Light Individual', macro_fs5_light_mean],\n",
    "                                  ['FS5', 'Light Grouped', macro_f1['fs5_light']],\n",
    "                                  ['FS5', 'Aural Individual', macro_fs5_aural_mean],\n",
    "                                  ['FS5', 'Aural Grouped', macro_f1['fs5_aural']],\n",
    "                                  \n",
    "                                  ['FS6', 'Thermal Individual', macro_fs6_thermal_mean],\n",
    "                                  ['FS6', 'Thermal Grouped', macro_f1['fs6_thermal']],\n",
    "                                  ['FS6', 'Light Individual', macro_fs6_light_mean],\n",
    "                                  ['FS6', 'Light Grouped', macro_f1['fs6_light']],\n",
    "                                  ['FS6', 'Aural Individual', macro_fs6_aural_mean],\n",
    "                                  ['FS6', 'Aural Grouped', macro_f1['fs6_aural']],\n",
    "                                  \n",
    "                                 ], columns = ['Feature Sets', 'Model', metric])\n",
    "\n",
    "# plot heatmap\n",
    "print(\"Metric: {}\".format(metric))\n",
    "experiments_macro = experiments_macro.pivot(\"Model\", \"Feature Sets\", metric)\n",
    "fig = plt.figure(figsize=(14, 12))\n",
    "ax = sns.heatmap(experiments_macro, linewidths = 0.5, annot = True, vmax = 1, cmap = \"Blues\")\n",
    "# plt.tight_layout()\n",
    "plt.show()\n",
    "fig.savefig('../img/heatmap_' + metric + '.pdf', bbox_inches='tight')\n"
   ]
  },
  {
   "cell_type": "code",
   "execution_count": null,
   "metadata": {},
   "outputs": [],
   "source": []
  },
  {
   "cell_type": "code",
   "execution_count": null,
   "metadata": {},
   "outputs": [],
   "source": []
  },
  {
   "cell_type": "code",
   "execution_count": null,
   "metadata": {},
   "outputs": [],
   "source": []
  },
  {
   "cell_type": "code",
   "execution_count": null,
   "metadata": {},
   "outputs": [],
   "source": []
  },
  {
   "cell_type": "code",
   "execution_count": null,
   "metadata": {},
   "outputs": [],
   "source": []
  },
  {
   "cell_type": "code",
   "execution_count": null,
   "metadata": {},
   "outputs": [],
   "source": []
  },
  {
   "cell_type": "code",
   "execution_count": null,
   "metadata": {},
   "outputs": [],
   "source": []
  },
  {
   "cell_type": "code",
   "execution_count": null,
   "metadata": {},
   "outputs": [],
   "source": []
  },
  {
   "cell_type": "code",
   "execution_count": null,
   "metadata": {},
   "outputs": [],
   "source": []
  },
  {
   "cell_type": "code",
   "execution_count": null,
   "metadata": {},
   "outputs": [],
   "source": []
  }
 ],
 "metadata": {
  "kernelspec": {
   "display_name": "Python 3",
   "language": "python",
   "name": "python3"
  },
  "language_info": {
   "codemirror_mode": {
    "name": "ipython",
    "version": 3
   },
   "file_extension": ".py",
   "mimetype": "text/x-python",
   "name": "python",
   "nbconvert_exporter": "python",
   "pygments_lexer": "ipython3",
   "version": "3.7.4"
  }
 },
 "nbformat": 4,
 "nbformat_minor": 4
}
