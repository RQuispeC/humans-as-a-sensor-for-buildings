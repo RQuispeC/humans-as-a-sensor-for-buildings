{
 "cells": [
  {
   "cell_type": "markdown",
   "metadata": {},
   "source": [
    "# Random Forest Analysis of Cozie Data Tier 2\n",
    "\n"
   ]
  },
  {
   "cell_type": "code",
   "execution_count": 1,
   "metadata": {},
   "outputs": [],
   "source": [
    "import numpy as np\n",
    "import pandas as pd\n",
    "from datetime import datetime\n",
    "import os\n",
    "\n",
    "# Preperation\n",
    "from sklearn.model_selection import train_test_split\n",
    "\n",
    "# Modeling\n",
    "from sklearn.ensemble import RandomForestClassifier\n",
    "from sklearn.cluster import KMeans\n",
    "\n",
    "# Visualisations\n",
    "from sklearn.tree import export_graphviz # Note that you need to brew install graphviz on your local machine\n",
    "import pydot \n",
    "import seaborn as sns\n",
    "import matplotlib.pyplot as plt\n",
    "import matplotlib.dates as mdates\n",
    "import matplotlib\n",
    "matplotlib.rcParams['font.sans-serif'] = \"Arial\"\n",
    "matplotlib.rcParams['font.family'] = \"sans-serif\"\n",
    "\n",
    "# Evaluation\n",
    "from sklearn import metrics\n",
    "\n",
    "# User Defined Functions\n",
    "import cozie_functions"
   ]
  },
  {
   "cell_type": "code",
   "execution_count": 2,
   "metadata": {},
   "outputs": [],
   "source": [
    "# Add Data Folder to Path\n",
    "data_path = os.path.abspath(os.path.join(os.path.dirname( \"__file__\" ), '..', 'data'))"
   ]
  },
  {
   "cell_type": "markdown",
   "metadata": {},
   "source": [
    "# Reading Data\n",
    "In this case we are first reading the data, and then reorganising them into groups. \n",
    "\n",
    "\n",
    "Afterwards, created normalised datasets of the average value. See `cozie_functions.py`"
   ]
  },
  {
   "cell_type": "code",
   "execution_count": 3,
   "metadata": {},
   "outputs": [
    {
     "name": "stdout",
     "output_type": "stream",
     "text": [
      "['cresh01', 'cresh02', 'cresh03', 'cresh04', 'cresh05', 'cresh06', 'cresh07', 'cresh08', 'cresh09', 'cresh10', 'cresh11', 'cresh12', 'cresh13', 'cresh14', 'cresh15', 'cresh16', 'cresh17', 'cresh18', 'cresh19', 'cresh20', 'cresh21', 'cresh22', 'cresh23', 'cresh24', 'cresh25', 'cresh26', 'cresh27', 'cresh28', 'cresh29', 'cresh30']\n"
     ]
    }
   ],
   "source": [
    "# The following participants took part in the experiment:\n",
    "participant_ids = ['cresh' + str(id).zfill(2) for id in range(1,31)]\n",
    "print(participant_ids)"
   ]
  },
  {
   "cell_type": "markdown",
   "metadata": {},
   "source": [
    "### Read the data and organise by occupant"
   ]
  },
  {
   "cell_type": "code",
   "execution_count": 5,
   "metadata": {},
   "outputs": [],
   "source": [
    "# Read All Data \n",
    "\n",
    "feature_set_df = pd.read_csv(os.path.join(data_path, '2019-11-15_cozie_full.csv'))\n",
    "feature_set_df.drop(['Unnamed: 0', 'index', 'comfort_cozie', 'Space_id', 'Longitude',\n",
    "                     'Latitude', 'co2_sensing', 'voc_sensing', 'Floor', 'lat_cozie', \n",
    "                     'lon_cozie', 'responseSpeed_cozie'], axis=1, inplace=True)\n",
    "\n",
    "## Drop Mbient Data (Tier 1b)\n",
    "feature_set_df.drop([\"temperature_mbient\"], axis=1, inplace=True)\n",
    "\n",
    "## Drop Sensing Data (Tier 3)\n",
    "feature_set_df.drop([\"noise_sensing\",\n",
    "                    \"temperature_sensing\", \"humidity_sensing\", \"light_sensing\"], axis=1, inplace=True)\n",
    "\n",
    "\n",
    "feature_set_df.dropna(subset=['thermal_cozie', 'heartRate_cozie', \"room\"], inplace=True)\n",
    "\n",
    "# Drop User's that were trialing and not in the experiment\n",
    "feature_set_df = feature_set_df[feature_set_df.user_id.isin(participant_ids)]\n",
    "\n",
    "# Added in V3\n",
    "grouped_user_df = cozie_functions.normalise_total_cozie(feature_set_df, 'user_id', 10)\n",
    "grouped_user_df.drop([\"thermal_cozie\", \"heartRate_cozie\", \"clothing\",\n",
    "                      \"time\", \"room\", \"noise_cozie\", \"light_cozie\", ], axis=1, inplace=True)\n",
    "\n",
    "grouped_user_df.drop([\"thermaly_comfy\", 'aurally_comfy', 'visually_comfy'], axis=1, inplace=True)\n",
    "\n",
    "# Added in V5\n",
    "grouped_room_df = cozie_functions.normalise_total_cozie(feature_set_df, 'room', 5)\n",
    "grouped_room_df.drop([\"thermal_cozie\", \"heartRate_cozie\", \"clothing\",\n",
    "                      \"time\", \"user_id\", \"noise_cozie\", \"light_cozie\", ], axis=1, inplace=True)\n",
    "\n",
    "grouped_room_df.drop([\"thermaly_comfy\", 'aurally_comfy', 'visually_comfy'], axis=1, inplace=True)\n",
    "\n"
   ]
  },
  {
   "cell_type": "markdown",
   "metadata": {},
   "source": [
    "### Generate the Rug Plot\n",
    "\n",
    "- These are the small grey circles that show where data is available"
   ]
  },
  {
   "cell_type": "code",
   "execution_count": 9,
   "metadata": {},
   "outputs": [],
   "source": [
    "# Extracting time for future rug plot\n",
    "starting_date = pd.to_datetime(\"4th November, 2019\")\n",
    "def create_rug_df(room):\n",
    "    \n",
    "    rug_df = pd.DataFrame()\n",
    "\n",
    "    room_df = feature_set_df[feature_set_df[\"room\"] == room]\n",
    "\n",
    "    rug_df[['time', 'thermal_cozie', 'light_cozie', 'noise_cozie']] = room_df[['time', 'thermal_cozie', 'light_cozie', 'noise_cozie']]\n",
    "    rug_df[\"time\"] = rug_df[\"time\"].apply(pd.Timestamp).dt.tz_convert('Asia/Singapore')\n",
    "\n",
    "    #Monday is 0, 4th November is a Monday\n",
    "    rug_df[\"minute_of_week\"] = rug_df['time'].dt.dayofweek*1440 + rug_df[\"time\"].dt.hour * 60 + rug_df[\"time\"].dt.minute\n",
    "\n",
    "    rug_df[\"hour_of_week\"] = pd.to_timedelta(rug_df['minute_of_week'], unit='m')\n",
    "    rug_df[\"starting_date\"] = starting_date\n",
    "\n",
    "    rug_df[\"forcast_time\"] = rug_df[\"starting_date\"] + rug_df[\"hour_of_week\"]\n",
    "    \n",
    "    return(rug_df)\n",
    "\n",
    "irc_rug_df = create_rug_df(\"IRC_LIBRARY_1\")\n",
    "open_rug_df = create_rug_df(\"OPEN_EXHIBITION_SPACE_2\")\n",
    "sde2_rug_df = create_rug_df(\"BUILDING_MATERIALS_LAB\")\n"
   ]
  },
  {
   "cell_type": "code",
   "execution_count": 47,
   "metadata": {},
   "outputs": [
    {
     "data": {
      "text/plain": [
       "[<matplotlib.lines.Line2D at 0x12dbe0b50>]"
      ]
     },
     "execution_count": 47,
     "metadata": {},
     "output_type": "execute_result"
    },
    {
     "data": {
      "image/png": "[encoded data removed]",
      "text/plain": [
       "<Figure size 432x288 with 1 Axes>"
      ]
     },
     "metadata": {
      "needs_background": "light"
     },
     "output_type": "display_data"
    }
   ],
   "source": [
    "#sns.rugplot(irc_rug_df[\"forcast_time\"])\n",
    "fig = plt.figure()\n",
    "ax4 = fig.add_subplot(111)\n",
    "\n",
    "\n",
    "\n",
    "#irc_rug_df[\"thermal_cozie\"] == 9\n",
    "\n",
    "ax4.plot(irc_rug_df[\"forcast_time\"], irc_rug_df[\"thermal_cozie\"]-9, color='gray',marker = '.', linestyle=\"None\")  # rug plot\n",
    "#ax4.plot(irc_rug_df[\"forcast_time\"], np.zeros(irc_rug_df[\"forcast_time\"].shape), color='r',marker = '+', ms=2, ls = \"None\")  # rug plot\n",
    "\n",
    "#x_eval = np.linspace(-10, 10, num=200)\n",
    "#ax4.plot(x_eval, kde1(x_eval), 'k-', label=\"Scott's Rule\")\n",
    "#ax4.plot(x_eval, kde1(x_eval), 'r-', label=\"Silverman's Rule\")"
   ]
  },
  {
   "cell_type": "markdown",
   "metadata": {},
   "source": [
    "### Extracting time as a feature and converting it to polar coordinate\n",
    "\n",
    "- As time (such as hour in a day, or day in a week) is not a linear metric, it is important to convert it to polar coordinates\n",
    "- http://blog.davidkaleko.com/feature-engineering-cyclical-features.html"
   ]
  },
  {
   "cell_type": "code",
   "execution_count": 11,
   "metadata": {},
   "outputs": [
    {
     "data": {
      "text/html": [
       "<div>\n",
       "<style scoped>\n",
       "    .dataframe tbody tr th:only-of-type {\n",
       "        vertical-align: middle;\n",
       "    }\n",
       "\n",
       "    .dataframe tbody tr th {\n",
       "        vertical-align: top;\n",
       "    }\n",
       "\n",
       "    .dataframe thead th {\n",
       "        text-align: right;\n",
       "    }\n",
       "</style>\n",
       "<table border=\"1\" class=\"dataframe\">\n",
       "  <thead>\n",
       "    <tr style=\"text-align: right;\">\n",
       "      <th></th>\n",
       "      <th>clothing</th>\n",
       "      <th>heartRate_cozie</th>\n",
       "      <th>light_cozie</th>\n",
       "      <th>noise_cozie</th>\n",
       "      <th>thermal_cozie</th>\n",
       "      <th>user_id</th>\n",
       "      <th>room</th>\n",
       "      <th>hour_sin</th>\n",
       "      <th>hour_cos</th>\n",
       "      <th>day_of_week_sin</th>\n",
       "      <th>day_of_week_cos</th>\n",
       "    </tr>\n",
       "  </thead>\n",
       "  <tbody>\n",
       "    <tr>\n",
       "      <th>118</th>\n",
       "      <td>11.0</td>\n",
       "      <td>70.0</td>\n",
       "      <td>10.0</td>\n",
       "      <td>10.0</td>\n",
       "      <td>10.0</td>\n",
       "      <td>cresh07</td>\n",
       "      <td>BUILDING_MATERIALS_LAB</td>\n",
       "      <td>-0.342020</td>\n",
       "      <td>-0.939693</td>\n",
       "      <td>-0.433884</td>\n",
       "      <td>-0.900969</td>\n",
       "    </tr>\n",
       "    <tr>\n",
       "      <th>120</th>\n",
       "      <td>10.0</td>\n",
       "      <td>83.0</td>\n",
       "      <td>10.0</td>\n",
       "      <td>10.0</td>\n",
       "      <td>11.0</td>\n",
       "      <td>cresh10</td>\n",
       "      <td>BUILDING_MATERIALS_LAB</td>\n",
       "      <td>-0.346117</td>\n",
       "      <td>-0.938191</td>\n",
       "      <td>-0.433884</td>\n",
       "      <td>-0.900969</td>\n",
       "    </tr>\n",
       "    <tr>\n",
       "      <th>122</th>\n",
       "      <td>11.0</td>\n",
       "      <td>61.0</td>\n",
       "      <td>10.0</td>\n",
       "      <td>10.0</td>\n",
       "      <td>10.0</td>\n",
       "      <td>cresh07</td>\n",
       "      <td>BUILDING_MATERIALS_LAB</td>\n",
       "      <td>-0.382683</td>\n",
       "      <td>-0.923880</td>\n",
       "      <td>-0.433884</td>\n",
       "      <td>-0.900969</td>\n",
       "    </tr>\n",
       "    <tr>\n",
       "      <th>123</th>\n",
       "      <td>10.0</td>\n",
       "      <td>92.0</td>\n",
       "      <td>10.0</td>\n",
       "      <td>10.0</td>\n",
       "      <td>11.0</td>\n",
       "      <td>cresh10</td>\n",
       "      <td>BUILDING_MATERIALS_LAB</td>\n",
       "      <td>-0.382683</td>\n",
       "      <td>-0.923880</td>\n",
       "      <td>-0.433884</td>\n",
       "      <td>-0.900969</td>\n",
       "    </tr>\n",
       "    <tr>\n",
       "      <th>124</th>\n",
       "      <td>11.0</td>\n",
       "      <td>70.0</td>\n",
       "      <td>10.0</td>\n",
       "      <td>10.0</td>\n",
       "      <td>10.0</td>\n",
       "      <td>cresh07</td>\n",
       "      <td>BUILDING_MATERIALS_LAB</td>\n",
       "      <td>-0.465615</td>\n",
       "      <td>-0.884988</td>\n",
       "      <td>-0.433884</td>\n",
       "      <td>-0.900969</td>\n",
       "    </tr>\n",
       "  </tbody>\n",
       "</table>\n",
       "</div>"
      ],
      "text/plain": [
       "     clothing  heartRate_cozie  light_cozie  noise_cozie  thermal_cozie  \\\n",
       "118      11.0             70.0         10.0         10.0           10.0   \n",
       "120      10.0             83.0         10.0         10.0           11.0   \n",
       "122      11.0             61.0         10.0         10.0           10.0   \n",
       "123      10.0             92.0         10.0         10.0           11.0   \n",
       "124      11.0             70.0         10.0         10.0           10.0   \n",
       "\n",
       "     user_id                    room  hour_sin  hour_cos  day_of_week_sin  \\\n",
       "118  cresh07  BUILDING_MATERIALS_LAB -0.342020 -0.939693        -0.433884   \n",
       "120  cresh10  BUILDING_MATERIALS_LAB -0.346117 -0.938191        -0.433884   \n",
       "122  cresh07  BUILDING_MATERIALS_LAB -0.382683 -0.923880        -0.433884   \n",
       "123  cresh10  BUILDING_MATERIALS_LAB -0.382683 -0.923880        -0.433884   \n",
       "124  cresh07  BUILDING_MATERIALS_LAB -0.465615 -0.884988        -0.433884   \n",
       "\n",
       "     day_of_week_cos  \n",
       "118        -0.900969  \n",
       "120        -0.900969  \n",
       "122        -0.900969  \n",
       "123        -0.900969  \n",
       "124        -0.900969  "
      ]
     },
     "execution_count": 11,
     "metadata": {},
     "output_type": "execute_result"
    }
   ],
   "source": [
    "feature_set_df['time'] = feature_set_df['time'].apply(pd.Timestamp).dt.tz_convert('Asia/Singapore')\n",
    "\n",
    "# get minute of the day and day of the week\n",
    "feature_set_df['time_minute'] = feature_set_df['time'].dt.hour * 60 + feature_set_df['time'].dt.minute\n",
    "feature_set_df['day_of_week'] = feature_set_df['time'].dt.dayofweek\n",
    "\n",
    "# Create cyclical features for the time and day of the week\n",
    "feature_set_df['hour_sin'] = np.sin(feature_set_df.time_minute * (2. * np.pi/1440)) #24*60 = 1440\n",
    "feature_set_df['hour_cos'] = np.cos(feature_set_df.time_minute * (2. * np.pi/1440))\n",
    "\n",
    "feature_set_df['day_of_week_sin'] = np.sin(feature_set_df.day_of_week * (2. * np.pi/7))\n",
    "feature_set_df['day_of_week_cos'] = np.cos(feature_set_df.day_of_week * (2. * np.pi/7))\n",
    "\n",
    "feature_set_df.drop(['time', 'time_minute', 'day_of_week'], axis=1, inplace=True)\n",
    "\n",
    "# Let's get an overview of the features we have\n",
    "feature_set_df.head()"
   ]
  },
  {
   "cell_type": "markdown",
   "metadata": {},
   "source": [
    "### Preparing User Preference as a feature set"
   ]
  },
  {
   "cell_type": "code",
   "execution_count": 12,
   "metadata": {},
   "outputs": [],
   "source": [
    "#Take average results and map it back to the feature_set\n",
    "\n",
    "preferences = ['prefer_cooler', 'prefer_warmer', 'prefer_dimmer', 'prefer_brighter','prefer_quieter', 'prefer_louder']\n",
    "\n",
    "for preference in preferences:\n",
    "    map_dict = grouped_user_df[preference].to_dict()\n",
    "    label = \"user_grouped_\" + preference.split(\"_\")[1]\n",
    "    feature_set_df[label] = feature_set_df['user_id'].map(map_dict)\n",
    "\n",
    "#Deleted the room mapping \n",
    "\n",
    "# Do this by first creating a dictionary, and then running the .map method\n",
    "\n",
    "feature_set_df.dropna(subset=[\"user_grouped_cooler\", \"user_grouped_warmer\"], inplace=True)\n",
    "#"
   ]
  },
  {
   "cell_type": "markdown",
   "metadata": {},
   "source": [
    "### Splitting the data by room for training"
   ]
  },
  {
   "cell_type": "code",
   "execution_count": 13,
   "metadata": {},
   "outputs": [],
   "source": [
    "open_feature_set_df = feature_set_df[feature_set_df[\"room\"] == \"OPEN_EXHIBITION_SPACE_2\"]"
   ]
  },
  {
   "cell_type": "code",
   "execution_count": 14,
   "metadata": {},
   "outputs": [],
   "source": [
    "irc_feature_set_df = feature_set_df[feature_set_df[\"room\"] == \"IRC_LIBRARY_1\"]"
   ]
  },
  {
   "cell_type": "code",
   "execution_count": 15,
   "metadata": {},
   "outputs": [],
   "source": [
    "sde2_feature_set_df = feature_set_df[feature_set_df[\"room\"] == \"BUILDING_MATERIALS_LAB\"]"
   ]
  },
  {
   "cell_type": "code",
   "execution_count": 16,
   "metadata": {},
   "outputs": [],
   "source": [
    "feature_set_df.drop([\"user_id\", \"room\"], axis=1, inplace=True)"
   ]
  },
  {
   "cell_type": "markdown",
   "metadata": {},
   "source": [
    "Lets see how large each of the room data sets are"
   ]
  },
  {
   "cell_type": "code",
   "execution_count": 17,
   "metadata": {},
   "outputs": [
    {
     "name": "stdout",
     "output_type": "stream",
     "text": [
      "(158, 17)\n",
      "(484, 17)\n",
      "(220, 17)\n"
     ]
    }
   ],
   "source": [
    "print(open_feature_set_df.shape)\n",
    "print(irc_feature_set_df.shape)\n",
    "print(sde2_feature_set_df.shape)"
   ]
  },
  {
   "cell_type": "code",
   "execution_count": 18,
   "metadata": {},
   "outputs": [
    {
     "data": {
      "text/plain": [
       "Index(['clothing', 'heartRate_cozie', 'light_cozie', 'noise_cozie',\n",
       "       'thermal_cozie', 'hour_sin', 'hour_cos', 'day_of_week_sin',\n",
       "       'day_of_week_cos', 'user_grouped_cooler', 'user_grouped_warmer',\n",
       "       'user_grouped_dimmer', 'user_grouped_brighter', 'user_grouped_quieter',\n",
       "       'user_grouped_louder'],\n",
       "      dtype='object')"
      ]
     },
     "execution_count": 18,
     "metadata": {},
     "output_type": "execute_result"
    }
   ],
   "source": [
    "# Let's get an overview of the features that we have\n",
    "feature_set_df.columns"
   ]
  },
  {
   "cell_type": "markdown",
   "metadata": {},
   "source": []
  },
  {
   "cell_type": "code",
   "execution_count": null,
   "metadata": {},
   "outputs": [],
   "source": []
  },
  {
   "cell_type": "code",
   "execution_count": 48,
   "metadata": {},
   "outputs": [
    {
     "name": "stdout",
     "output_type": "stream",
     "text": [
      "(1688, 15)\n",
      "(1605, 15)\n",
      "Index(['clothing', 'heartRate_cozie', 'light_cozie', 'noise_cozie',\n",
      "       'thermal_cozie', 'hour_sin', 'hour_cos', 'day_of_week_sin',\n",
      "       'day_of_week_cos', 'user_grouped_cooler', 'user_grouped_warmer',\n",
      "       'user_grouped_dimmer', 'user_grouped_brighter', 'user_grouped_quieter',\n",
      "       'user_grouped_louder'],\n",
      "      dtype='object')\n"
     ]
    }
   ],
   "source": [
    "# Check if our feature set has any NaN's\n",
    "print(feature_set_df.shape)\n",
    "print(feature_set_df.dropna().shape)\n",
    "print(feature_set_df.columns)"
   ]
  },
  {
   "cell_type": "markdown",
   "metadata": {},
   "source": [
    "### Split Training and Testing Data\n",
    "- currently splitting to a 4:1 train:test split"
   ]
  },
  {
   "cell_type": "code",
   "execution_count": 20,
   "metadata": {},
   "outputs": [
    {
     "name": "stdout",
     "output_type": "stream",
     "text": [
      "Index(['clothing', 'heartRate_cozie', 'hour_sin', 'hour_cos',\n",
      "       'day_of_week_sin', 'day_of_week_cos', 'user_grouped_cooler',\n",
      "       'user_grouped_warmer'],\n",
      "      dtype='object')\n",
      "Index(['clothing', 'heartRate_cozie', 'hour_sin', 'hour_cos',\n",
      "       'day_of_week_sin', 'day_of_week_cos', 'user_grouped_dimmer',\n",
      "       'user_grouped_brighter'],\n",
      "      dtype='object')\n",
      "Index(['clothing', 'heartRate_cozie', 'hour_sin', 'hour_cos',\n",
      "       'day_of_week_sin', 'day_of_week_cos', 'user_grouped_quieter',\n",
      "       'user_grouped_louder'],\n",
      "      dtype='object')\n",
      "Index(['clothing', 'heartRate_cozie', 'hour_sin', 'hour_cos',\n",
      "       'day_of_week_sin', 'day_of_week_cos', 'user_grouped_cooler',\n",
      "       'user_grouped_warmer'],\n",
      "      dtype='object')\n",
      "Index(['clothing', 'heartRate_cozie', 'hour_sin', 'hour_cos',\n",
      "       'day_of_week_sin', 'day_of_week_cos', 'user_grouped_dimmer',\n",
      "       'user_grouped_brighter'],\n",
      "      dtype='object')\n",
      "Index(['clothing', 'heartRate_cozie', 'hour_sin', 'hour_cos',\n",
      "       'day_of_week_sin', 'day_of_week_cos', 'user_grouped_quieter',\n",
      "       'user_grouped_louder'],\n",
      "      dtype='object')\n",
      "Index(['clothing', 'heartRate_cozie', 'hour_sin', 'hour_cos',\n",
      "       'day_of_week_sin', 'day_of_week_cos', 'user_grouped_cooler',\n",
      "       'user_grouped_warmer'],\n",
      "      dtype='object')\n",
      "Index(['clothing', 'heartRate_cozie', 'hour_sin', 'hour_cos',\n",
      "       'day_of_week_sin', 'day_of_week_cos', 'user_grouped_dimmer',\n",
      "       'user_grouped_brighter'],\n",
      "      dtype='object')\n",
      "Index(['clothing', 'heartRate_cozie', 'hour_sin', 'hour_cos',\n",
      "       'day_of_week_sin', 'day_of_week_cos', 'user_grouped_quieter',\n",
      "       'user_grouped_louder'],\n",
      "      dtype='object')\n"
     ]
    }
   ],
   "source": [
    "thermal_feature_list = ['clothing', 'heartRate_cozie', 'hour_sin', 'hour_cos', \n",
    "'day_of_week_sin', 'day_of_week_cos', 'user_grouped_cooler', 'user_grouped_warmer']\n",
    "\n",
    "noise_feature_list = ['clothing', 'heartRate_cozie', 'hour_sin', 'hour_cos', \n",
    "'day_of_week_sin', 'day_of_week_cos', 'user_grouped_quieter', 'user_grouped_louder']\n",
    "\n",
    "light_feature_list = ['clothing', 'heartRate_cozie', 'hour_sin', 'hour_cos', \n",
    "'day_of_week_sin', 'day_of_week_cos', 'user_grouped_dimmer', 'user_grouped_brighter']\n",
    "\n",
    "def prepare_room_data(dataframe):\n",
    "\n",
    "    \n",
    "    thermal_test_train = create_training_data(dataframe, preference=\"thermal\", feature_list = thermal_feature_list)\n",
    "    #thermal_train_features, thermal_test_features, thermal_train_labels, thermal_test_labels = thermal_test_train\n",
    "\n",
    "    light_test_train = create_training_data(dataframe, preference=\"light\", feature_list = light_feature_list)\n",
    "    #light_train_features, light_test_features, light_train_labels, light_test_labels = light_test_train\n",
    "\n",
    "    \n",
    "    noise_test_train = create_training_data(dataframe, preference=\"noise\", feature_list = noise_feature_list)\n",
    "    #noise_train_features, noise_test_features, noise_train_labels, noise_test_labels = noise_test_train\n",
    "\n",
    "\n",
    "    return(thermal_test_train, light_test_train, noise_test_train)\n",
    "    \n",
    "def create_training_data(dataframe, preference, feature_list):\n",
    "    clean_dataframe = dataframe.copy(deep=True)\n",
    "    clean_dataframe.dropna(subset = [preference + '_cozie'], inplace = True)\n",
    "    \n",
    "    labels = np.array(clean_dataframe[preference + '_cozie'])\n",
    "\n",
    "    features_df = clean_dataframe[feature_list]\n",
    "    print(features_df.columns)\n",
    "    feature_set = np.array(features_df)\n",
    "    \n",
    "    train_features, test_features, train_labels, test_labels = train_test_split(feature_set, \n",
    "        labels, \n",
    "        test_size = 0.25, \n",
    "        random_state = 42)\n",
    "\n",
    "    \n",
    "    return(train_features, test_features, train_labels, test_labels)\n",
    "# thermal_train_features, thermal_test_features, thermal_train_labels, thermal_test_labels\n",
    "\n",
    "\n",
    "irc_data = prepare_room_data(irc_feature_set_df)\n",
    "\n",
    "open_data = prepare_room_data(open_feature_set_df)\n",
    "\n",
    "sde2_data = prepare_room_data(sde2_feature_set_df)\n",
    "\n"
   ]
  },
  {
   "cell_type": "markdown",
   "metadata": {},
   "source": [
    "#### Take a sneak peak into what our data looks like"
   ]
  },
  {
   "cell_type": "code",
   "execution_count": 50,
   "metadata": {},
   "outputs": [
    {
     "name": "stdout",
     "output_type": "stream",
     "text": [
      "IRC Data shape is\n",
      "Thermal Training Features Shape: (363, 8)\n",
      "Thermal Training Labels Shape: (363,)\n",
      "Thermal Testing Features Shape: (121, 8)\n",
      "Thermal Testing Labels Shape: (121,)\n",
      "\n",
      "Noise Training Features Shape: (327, 8)\n",
      "Noise Training Labels Shape: (327,)\n",
      "Noise Testing Features Shape: (110, 8)\n",
      "Noise Testing Labels Shape: (110,)\n",
      "\n",
      "Light Training Features Shape: (363, 8)\n",
      "Light Training Labels Shape: (363,)\n",
      "Light Testing Features Shape: (121, 8)\n",
      "Light Testing Labels Shape: (121,)\n",
      "open exhubition space Data shape is\n",
      "Thermal Training Features Shape: (118, 8)\n",
      "Thermal Training Labels Shape: (118,)\n",
      "Thermal Testing Features Shape: (40, 8)\n",
      "Thermal Testing Labels Shape: (40,)\n",
      "\n",
      "Noise Training Features Shape: (117, 8)\n",
      "Noise Training Labels Shape: (117,)\n",
      "Noise Testing Features Shape: (40, 8)\n",
      "Noise Testing Labels Shape: (40,)\n",
      "\n",
      "Light Training Features Shape: (118, 8)\n",
      "Light Training Labels Shape: (118,)\n",
      "Light Testing Features Shape: (40, 8)\n",
      "Light Testing Labels Shape: (40,)\n",
      "SDE2 bml Data shape is\n",
      "Thermal Training Features Shape: (165, 8)\n",
      "Thermal Training Labels Shape: (165,)\n",
      "Thermal Testing Features Shape: (55, 8)\n",
      "Thermal Testing Labels Shape: (55,)\n",
      "\n",
      "Noise Training Features Shape: (148, 8)\n",
      "Noise Training Labels Shape: (148,)\n",
      "Noise Testing Features Shape: (50, 8)\n",
      "Noise Testing Labels Shape: (50,)\n",
      "\n",
      "Light Training Features Shape: (165, 8)\n",
      "Light Training Labels Shape: (165,)\n",
      "Light Testing Features Shape: (55, 8)\n",
      "Light Testing Labels Shape: (55,)\n"
     ]
    }
   ],
   "source": [
    "def print_data_shape(data):\n",
    "    thermal_train_features, thermal_test_features, thermal_train_labels, thermal_test_labels = data[0]\n",
    "    light_train_features, light_test_features, light_train_labels, light_test_labels = data[1]\n",
    "    noise_train_features, noise_test_features, noise_train_labels, noise_test_labels = data[2]\n",
    "    print('Thermal Training Features Shape:', thermal_train_features.shape)\n",
    "    print('Thermal Training Labels Shape:', thermal_train_labels.shape)\n",
    "    print('Thermal Testing Features Shape:', thermal_test_features.shape)\n",
    "    print('Thermal Testing Labels Shape:', thermal_test_labels.shape)\n",
    "    print('')\n",
    "    print('Noise Training Features Shape:', noise_train_features.shape)\n",
    "    print('Noise Training Labels Shape:', noise_train_labels.shape)\n",
    "    print('Noise Testing Features Shape:', noise_test_features.shape)\n",
    "    print('Noise Testing Labels Shape:', noise_test_labels.shape)\n",
    "    print('')\n",
    "    print('Light Training Features Shape:', light_train_features.shape)\n",
    "    print('Light Training Labels Shape:', light_train_labels.shape)\n",
    "    print('Light Testing Features Shape:', light_test_features.shape)\n",
    "    print('Light Testing Labels Shape:', light_test_labels.shape)\n",
    "print(\"IRC Data shape is\")\n",
    "print_data_shape(irc_data)\n",
    "\n",
    "print(\"open exhubition space Data shape is\")\n",
    "print_data_shape(open_data)\n",
    "\n",
    "print(\"SDE2 bml Data shape is\")\n",
    "print_data_shape(sde2_data)"
   ]
  },
  {
   "cell_type": "code",
   "execution_count": null,
   "metadata": {},
   "outputs": [],
   "source": []
  },
  {
   "cell_type": "markdown",
   "metadata": {},
   "source": [
    "# Modeling Using Random Forests\n",
    "- Nothing too fancy here"
   ]
  },
  {
   "cell_type": "code",
   "execution_count": 51,
   "metadata": {},
   "outputs": [],
   "source": [
    "\n",
    "def build_rf(data):\n",
    "    thermal_train_features, thermal_test_features, thermal_train_labels, thermal_test_labels = data[0]\n",
    "    light_train_features, light_test_features, light_train_labels, light_test_labels = data[1]\n",
    "    noise_train_features, noise_test_features, noise_train_labels, noise_test_labels = data[2]\n",
    "    \n",
    "    # Instantiate model with 1000 decision trees\n",
    "    thermal_rf = RandomForestClassifier(n_estimators = 1000, random_state = 42 )\n",
    "    # Train the model on training data\n",
    "    thermal_rf.fit(thermal_train_features, thermal_train_labels);\n",
    "    # Use the forest's predict method on the test data\n",
    "    thermal_predictions = thermal_rf.predict(thermal_test_features)\n",
    "    \n",
    "    # Instantiate model with 1000 decision trees\n",
    "    light_rf = RandomForestClassifier(n_estimators = 1000, random_state = 42 )\n",
    "    # Train the model on training data\n",
    "    light_rf.fit(light_train_features, light_train_labels);\n",
    "    # Use the forest's predict method on the test data\n",
    "    light_predictions = light_rf.predict(light_test_features)\n",
    "\n",
    "    # Instantiate model with 1000 decision trees\n",
    "    noise_rf = RandomForestClassifier(n_estimators = 1000, random_state = 42 )\n",
    "    # Train the model on training data\n",
    "    noise_rf.fit(noise_train_features, noise_train_labels);\n",
    "    # Use the forest's predict method on the test data\n",
    "    noise_predictions = noise_rf.predict(noise_test_features)\n",
    "\n",
    "\n",
    "    return({\"forests\": {\"thermal\": thermal_rf, \"light\": light_rf, \"noise\": noise_rf},\n",
    "           \"predictions\": {\"thermal\": thermal_predictions, \"light\": light_predictions,\n",
    "                           \"noise\": noise_predictions}})"
   ]
  },
  {
   "cell_type": "code",
   "execution_count": 52,
   "metadata": {},
   "outputs": [],
   "source": [
    "\n",
    "irc_forest = build_rf(irc_data)\n",
    "open_forest = build_rf(open_data)\n",
    "sde2_forest = build_rf(sde2_data)"
   ]
  },
  {
   "cell_type": "code",
   "execution_count": 53,
   "metadata": {},
   "outputs": [
    {
     "data": {
      "text/plain": [
       "{'forests': {'thermal': RandomForestClassifier(bootstrap=True, class_weight=None, criterion='gini',\n",
       "              max_depth=None, max_features='auto', max_leaf_nodes=None,\n",
       "              min_impurity_decrease=0.0, min_impurity_split=None,\n",
       "              min_samples_leaf=1, min_samples_split=2,\n",
       "              min_weight_fraction_leaf=0.0, n_estimators=1000, n_jobs=None,\n",
       "              oob_score=False, random_state=42, verbose=0, warm_start=False),\n",
       "  'light': RandomForestClassifier(bootstrap=True, class_weight=None, criterion='gini',\n",
       "              max_depth=None, max_features='auto', max_leaf_nodes=None,\n",
       "              min_impurity_decrease=0.0, min_impurity_split=None,\n",
       "              min_samples_leaf=1, min_samples_split=2,\n",
       "              min_weight_fraction_leaf=0.0, n_estimators=1000, n_jobs=None,\n",
       "              oob_score=False, random_state=42, verbose=0, warm_start=False),\n",
       "  'noise': RandomForestClassifier(bootstrap=True, class_weight=None, criterion='gini',\n",
       "              max_depth=None, max_features='auto', max_leaf_nodes=None,\n",
       "              min_impurity_decrease=0.0, min_impurity_split=None,\n",
       "              min_samples_leaf=1, min_samples_split=2,\n",
       "              min_weight_fraction_leaf=0.0, n_estimators=1000, n_jobs=None,\n",
       "              oob_score=False, random_state=42, verbose=0, warm_start=False)},\n",
       " 'predictions': {'thermal': array([10., 10., 10., 11., 10., 10., 10., 10., 10., 10., 10., 10., 11.,\n",
       "         10., 10., 10., 10., 11., 10., 10., 10., 10., 10., 10., 10., 10.,\n",
       "         10.,  9., 10., 10., 11., 10.,  9., 10., 10., 10., 10., 11.,  9.,\n",
       "         10., 10., 10., 10., 10.,  9., 10., 10., 10., 10., 10., 10., 10.,\n",
       "         10., 10., 11., 10.,  9., 10., 10., 10., 10., 10., 10., 11., 10.,\n",
       "         10., 10., 10., 10., 10., 11., 10., 10., 10.,  9., 10., 10., 10.,\n",
       "         10., 10., 10., 10., 10., 10., 10.,  9., 10., 10.,  9., 10., 10.,\n",
       "         10., 10., 10., 10., 10., 10., 10., 10., 10., 10., 10.,  9., 11.,\n",
       "          9.,  9., 10., 10., 11., 10., 10., 10., 10., 10.,  9., 10., 11.,\n",
       "         10., 11.,  9., 10.]),\n",
       "  'light': array([10., 10., 10., 10., 10., 10., 10., 10., 10., 10., 10., 11., 10.,\n",
       "         10., 11., 11., 10., 10., 10., 10., 10., 10., 10., 10., 10., 11.,\n",
       "         10., 10., 10., 10., 10., 10.,  9., 10., 10., 10., 10., 11., 10.,\n",
       "         10., 10., 10., 11., 10., 10., 10., 11.,  9., 10., 10.,  9., 10.,\n",
       "         10., 10., 10.,  9.,  9., 10., 10., 10., 10., 10., 10., 11., 10.,\n",
       "         10., 10., 10., 10., 10., 11., 10., 10., 10.,  9., 10., 11., 10.,\n",
       "         10., 10., 10., 10., 10., 10., 10., 10., 10., 10., 10., 10., 10.,\n",
       "         10., 10., 10., 10., 10.,  9., 10., 10., 10., 10., 10., 10., 10.,\n",
       "         10., 10., 10., 10., 10., 10., 10., 11., 10., 10.,  9., 10., 10.,\n",
       "         10., 10.,  9., 10.]),\n",
       "  'noise': array([10., 10., 10., 10., 10., 10., 10., 10., 10., 10., 10., 10., 10.,\n",
       "         10., 10., 10., 10., 10., 10., 10., 10., 10., 10., 10., 10., 10.,\n",
       "         10., 10., 10., 10., 10., 10., 10., 10., 10., 10., 10., 10., 11.,\n",
       "         10., 10., 10., 10., 10., 10., 10., 10., 10., 10., 10., 10., 10.,\n",
       "         10., 10., 10., 10., 10., 10., 10., 10., 10., 10., 10., 10., 10.,\n",
       "         10., 10., 10., 10., 10., 11., 10., 10., 10., 10., 10., 10., 10.,\n",
       "         10., 10., 10., 10., 10., 10., 10., 10., 10., 10., 10., 10., 10.,\n",
       "         10., 10., 10., 10., 10., 10., 10., 10., 10., 10., 10., 10., 10.,\n",
       "         10., 10., 10., 10., 10., 10.])}}"
      ]
     },
     "execution_count": 53,
     "metadata": {},
     "output_type": "execute_result"
    }
   ],
   "source": [
    "irc_forest"
   ]
  },
  {
   "cell_type": "code",
   "execution_count": null,
   "metadata": {},
   "outputs": [],
   "source": []
  },
  {
   "cell_type": "markdown",
   "metadata": {},
   "source": [
    "## Calculate the Error Rate"
   ]
  },
  {
   "cell_type": "code",
   "execution_count": null,
   "metadata": {},
   "outputs": [],
   "source": [
    "\n"
   ]
  },
  {
   "cell_type": "markdown",
   "metadata": {},
   "source": [
    "Optional functions to see the error rate. Not required for this figure"
   ]
  },
  {
   "cell_type": "code",
   "execution_count": 55,
   "metadata": {},
   "outputs": [],
   "source": [
    "def list_feature_importance(rf, feature_list):\n",
    "    # Get numerical feature importances\n",
    "    importances = list(rf.feature_importances_)\n",
    "    # List of tuples with variable and importance\n",
    "    feature_importances = [(feature, round(importance, 3)) for feature, importance in zip(feature_list, importances)]\n",
    "    # Sort the feature importances by most important first\n",
    "    feature_importances = sorted(feature_importances, key = lambda x: x[1], reverse = True)\n",
    "    # Print out the feature and importances \n",
    "    [print('Variable: {:20} Importance: {}'.format(*pair)) for pair in feature_importances];\n",
    "    print(\"\")\n",
    "\n",
    "    \n",
    "def prediction_accuracy_report(data, forest):\n",
    "    # Unpack the test train data\n",
    "    thermal_train_features, thermal_test_features, thermal_train_labels, thermal_test_labels = data[0]\n",
    "    light_train_features, light_test_features, light_train_labels, light_test_labels = data[1]\n",
    "    noise_train_features, noise_test_features, noise_train_labels, noise_test_labels = data[2] \n",
    "    \n",
    "    thermal_predictions = forest[\"predictions\"][\"thermal\"]\n",
    "    light_predictions = forest[\"predictions\"][\"light\"]\n",
    "    noise_predictions = forest[\"predictions\"][\"noise\"]\n",
    "    \n",
    "    print(\"Summary of Thermal Prediction\")\n",
    "    print(metrics.accuracy_score(thermal_predictions, thermal_test_labels))\n",
    "    print(metrics.f1_score(thermal_predictions, thermal_test_labels, average=\"micro\")) # Micro averages all the results\n",
    "    print(metrics.f1_score(thermal_predictions, thermal_test_labels, average=\"macro\")) #Macro treats each class equally \n",
    "    print(metrics.confusion_matrix(thermal_predictions,thermal_test_labels))\n",
    "    print(metrics.classification_report(thermal_predictions,thermal_test_labels))\n",
    "\n",
    "    print(\"Summary of Light Prediction\")\n",
    "    print(metrics.accuracy_score(light_predictions, light_test_labels))\n",
    "    print(metrics.f1_score(light_predictions, light_test_labels, average=\"micro\")) # Micro averages all the results\n",
    "    print(metrics.f1_score(light_predictions, light_test_labels, average=\"macro\")) #Macro treats each class equally \n",
    "    print(metrics.confusion_matrix(light_predictions,light_test_labels))\n",
    "    print(metrics.classification_report(light_predictions,light_test_labels))\n",
    "\n",
    "    print(\"Summary of Noise Prediction\")\n",
    "    print(metrics.accuracy_score(noise_predictions, noise_test_labels))\n",
    "    print(metrics.f1_score(noise_predictions, noise_test_labels, average=\"micro\")) # Micro averages all the results\n",
    "    print(metrics.f1_score(noise_predictions, noise_test_labels, average=\"macro\")) #Macro treats each class equally \n",
    "    print(metrics.confusion_matrix(noise_predictions,noise_test_labels))\n",
    "    print(metrics.classification_report(noise_predictions,noise_test_labels))\n",
    "\n",
    "    list_feature_importance(rf = forest[\"forests\"][\"thermal\"], feature_list=thermal_feature_list)\n",
    "    list_feature_importance(rf = forest[\"forests\"][\"light\"], feature_list=light_feature_list)\n",
    "    list_feature_importance(rf = forest[\"forests\"][\"noise\"], feature_list=noise_feature_list)\n"
   ]
  },
  {
   "cell_type": "markdown",
   "metadata": {},
   "source": [
    "# Forcasting\n",
    "\n",
    "## Create future time series data to visualise how the model works"
   ]
  },
  {
   "cell_type": "code",
   "execution_count": 60,
   "metadata": {},
   "outputs": [
    {
     "data": {
      "text/plain": [
       "Timestamp('2019-11-04 00:00:00')"
      ]
     },
     "execution_count": 60,
     "metadata": {},
     "output_type": "execute_result"
    }
   ],
   "source": [
    "# see rug plot above\n",
    "starting_date"
   ]
  },
  {
   "cell_type": "code",
   "execution_count": 62,
   "metadata": {},
   "outputs": [],
   "source": [
    "# Set a weekly series\n",
    "forcast_df = pd.DataFrame(starting_date + pd.to_timedelta(np.arange(24*7), 'h'), columns = [\"time\"])"
   ]
  },
  {
   "cell_type": "code",
   "execution_count": 64,
   "metadata": {},
   "outputs": [
    {
     "data": {
      "text/plain": [
       "0     2019-11-04 00:00:00\n",
       "1     2019-11-04 01:00:00\n",
       "2     2019-11-04 02:00:00\n",
       "3     2019-11-04 03:00:00\n",
       "4     2019-11-04 04:00:00\n",
       "5     2019-11-04 05:00:00\n",
       "6     2019-11-04 06:00:00\n",
       "7     2019-11-04 07:00:00\n",
       "8     2019-11-04 08:00:00\n",
       "9     2019-11-04 09:00:00\n",
       "10    2019-11-04 10:00:00\n",
       "11    2019-11-04 11:00:00\n",
       "12    2019-11-04 12:00:00\n",
       "13    2019-11-04 13:00:00\n",
       "14    2019-11-04 14:00:00\n",
       "15    2019-11-04 15:00:00\n",
       "16    2019-11-04 16:00:00\n",
       "17    2019-11-04 17:00:00\n",
       "18    2019-11-04 18:00:00\n",
       "19    2019-11-04 19:00:00\n",
       "20    2019-11-04 20:00:00\n",
       "21    2019-11-04 21:00:00\n",
       "22    2019-11-04 22:00:00\n",
       "23    2019-11-04 23:00:00\n",
       "24    2019-11-05 00:00:00\n",
       "25    2019-11-05 01:00:00\n",
       "26    2019-11-05 02:00:00\n",
       "27    2019-11-05 03:00:00\n",
       "28    2019-11-05 04:00:00\n",
       "29    2019-11-05 05:00:00\n",
       "              ...        \n",
       "138   2019-11-09 18:00:00\n",
       "139   2019-11-09 19:00:00\n",
       "140   2019-11-09 20:00:00\n",
       "141   2019-11-09 21:00:00\n",
       "142   2019-11-09 22:00:00\n",
       "143   2019-11-09 23:00:00\n",
       "144   2019-11-10 00:00:00\n",
       "145   2019-11-10 01:00:00\n",
       "146   2019-11-10 02:00:00\n",
       "147   2019-11-10 03:00:00\n",
       "148   2019-11-10 04:00:00\n",
       "149   2019-11-10 05:00:00\n",
       "150   2019-11-10 06:00:00\n",
       "151   2019-11-10 07:00:00\n",
       "152   2019-11-10 08:00:00\n",
       "153   2019-11-10 09:00:00\n",
       "154   2019-11-10 10:00:00\n",
       "155   2019-11-10 11:00:00\n",
       "156   2019-11-10 12:00:00\n",
       "157   2019-11-10 13:00:00\n",
       "158   2019-11-10 14:00:00\n",
       "159   2019-11-10 15:00:00\n",
       "160   2019-11-10 16:00:00\n",
       "161   2019-11-10 17:00:00\n",
       "162   2019-11-10 18:00:00\n",
       "163   2019-11-10 19:00:00\n",
       "164   2019-11-10 20:00:00\n",
       "165   2019-11-10 21:00:00\n",
       "166   2019-11-10 22:00:00\n",
       "167   2019-11-10 23:00:00\n",
       "Name: time, Length: 168, dtype: datetime64[ns]"
      ]
     },
     "execution_count": 64,
     "metadata": {},
     "output_type": "execute_result"
    }
   ],
   "source": [
    "forcast_df['time'].apply(pd.Timestamp)\n"
   ]
  },
  {
   "cell_type": "code",
   "execution_count": null,
   "metadata": {},
   "outputs": [],
   "source": []
  },
  {
   "cell_type": "markdown",
   "metadata": {},
   "source": [
    "['clothing', 'heartRate_cozie', 'light_cozie', 'noise_cozie',\n",
    "       'thermal_cozie', 'hour_sin', 'hour_cos', 'day_of_week_sin',\n",
    "       'day_of_week_cos', 'user_grouped_cooler', 'user_grouped_warmer',\n",
    "       'user_grouped_dimmer', 'user_grouped_brighter', 'user_grouped_quieter',\n",
    "       'user_grouped_louder', 'room_grouped_cooler', 'room_grouped_warmer',\n",
    "       'room_grouped_dimmer', 'room_grouped_brighter', 'room_grouped_quieter',\n",
    "       'room_grouped_louder'],"
   ]
  },
  {
   "cell_type": "code",
   "execution_count": 66,
   "metadata": {},
   "outputs": [],
   "source": [
    "# set default clothing value to light clothing, adn heart rate to 70bpm\n",
    "forcast_df['clothing'] = 9\n",
    "forcast_df['heartRate_cozie'] = 70\n"
   ]
  },
  {
   "cell_type": "code",
   "execution_count": 67,
   "metadata": {},
   "outputs": [],
   "source": [
    "# feature engineer the time of the week again\n",
    "forcast_df['time_minute'] = forcast_df['time'].dt.hour * 60 + forcast_df['time'].dt.minute\n",
    "forcast_df['day_of_week'] = forcast_df['time'].dt.dayofweek\n",
    "\n",
    "# Create cyclical features for the time and day of the week\n",
    "forcast_df['hour_sin'] = np.sin(forcast_df.time_minute * (2. * np.pi/1440)) #24*60 = 1440\n",
    "forcast_df['hour_cos'] = np.cos(forcast_df.time_minute * (2. * np.pi/1440))\n",
    "\n",
    "forcast_df['day_of_week_sin'] = np.sin(forcast_df.day_of_week * (2. * np.pi/7))\n",
    "forcast_df['day_of_week_cos'] = np.cos(forcast_df.day_of_week * (2. * np.pi/7))\n",
    "\n",
    "forcast_time = np.array(forcast_df['time']) #for plotting later\n",
    "\n",
    "forcast_df.drop(['time', 'time_minute', 'day_of_week'], axis=1, inplace=True)\n"
   ]
  },
  {
   "cell_type": "code",
   "execution_count": 68,
   "metadata": {},
   "outputs": [
    {
     "data": {
      "text/plain": [
       "Index(['clothing', 'heartRate_cozie', 'hour_sin', 'hour_cos',\n",
       "       'day_of_week_sin', 'day_of_week_cos'],\n",
       "      dtype='object')"
      ]
     },
     "execution_count": 68,
     "metadata": {},
     "output_type": "execute_result"
    }
   ],
   "source": [
    "forcast_df.columns"
   ]
  },
  {
   "cell_type": "code",
   "execution_count": 33,
   "metadata": {},
   "outputs": [],
   "source": [
    "reset_forcast_df = forcast_df.copy(deep=True)"
   ]
  },
  {
   "cell_type": "code",
   "execution_count": 34,
   "metadata": {},
   "outputs": [],
   "source": [
    "#rooms_forcasted = ['IRC_LIBRARY_1', 'OPEN_EXHIBITION_SPACE_2', 'BUILDING']\n",
    "preferences_forcasted = ['thermal', 'light', 'noise']\n",
    "preference_map = {'thermal': ['cooler', 'warmer'], 'light': ['dimmer', 'brighter'], 'noise': ['quieter', 'louder']}\n"
   ]
  },
  {
   "cell_type": "code",
   "execution_count": 46,
   "metadata": {},
   "outputs": [
    {
     "data": {
      "image/png": "[encoded data removed]",
      "text/plain": [
       "<Figure size 1440x432 with 9 Axes>"
      ]
     },
     "metadata": {
      "needs_background": "light"
     },
     "output_type": "display_data"
    }
   ],
   "source": [
    "# Prepare palette. Note that palette is modified later in illustrator\n",
    "palette = sns.color_palette(\"Set2\", 3)\n",
    "pal = [palette[1],palette[0],palette[2]]\n",
    "\n",
    "# Set the figure and itterate across\n",
    "fig1, axes = plt.subplots(3, 3, figsize=(20, 6))\n",
    "\n",
    "#for ii, room in enumerate(rooms_forcasted):\n",
    "def forcast_room_plot(dataframe, forest, rug_df, plot_row):\n",
    "    # Loop through preferences forcasted\n",
    "    for jj, preference in enumerate(preferences_forcasted):\n",
    "        forcast_df = reset_forcast_df.copy(deep=True)\n",
    "        # loop through the labels to set features\n",
    "        for label in preference_map[preference]:\n",
    "            # eg: 'user_grouped_warmer'\n",
    "            forcast_df['user_grouped_' + label] = dataframe.describe().loc['mean']['user_grouped_' + label]\n",
    "\n",
    "            \n",
    "        # Convert to np array\n",
    "        forcast_features = np.array(forcast_df)\n",
    "        \n",
    "\n",
    "        comfort_probability = forest[\"forests\"][preference].predict_proba(forcast_features)\n",
    "        \n",
    "        if comfort_probability.shape[1] == 2:\n",
    "            pal = [palette[0],palette[2],palette[2]]\n",
    "        else:\n",
    "            pal = [palette[1],palette[0],palette[2]]\n",
    "         \n",
    "        axes[jj, plot_row].stackplot(forcast_time, np.transpose(comfort_probability), colors = pal, alpha = 1)\n",
    "        axes[jj, plot_row].plot(rug_df[\"forcast_time\"], (rug_df[preference + \"_cozie\"]-9)/2.2 + 0.05, color='#B8B8B8',marker = '.', linestyle=\"None\")  # rug plot\n",
    "\n",
    "        \n",
    "        axes[jj, plot_row].xaxis.set_minor_formatter(mdates.DateFormatter('%d'))\n",
    "        plt.gcf().autofmt_xdate()\n",
    "        sns.despine(ax = axes[jj, plot_row], left=True, bottom=True)\n",
    "\n",
    "            \n",
    "forcast_room_plot(irc_feature_set_df, forest = irc_forest, rug_df = irc_rug_df, plot_row=0)  \n",
    "forcast_room_plot(open_feature_set_df, forest = open_forest, rug_df = open_rug_df, plot_row=1) \n",
    "forcast_room_plot(sde2_feature_set_df, forest = sde2_forest, rug_df = sde2_rug_df, plot_row=2) \n",
    "\n",
    "#plt.savefig(\"comfort_prediction.pdf\")"
   ]
  },
  {
   "cell_type": "markdown",
   "metadata": {},
   "source": [
    "## After Notes\n",
    "- I only took two of the rooms due to space constraints on the paper\n",
    "- Colours were post processed in Illustrator\n"
   ]
  },
  {
   "cell_type": "code",
   "execution_count": null,
   "metadata": {},
   "outputs": [],
   "source": []
  },
  {
   "cell_type": "code",
   "execution_count": null,
   "metadata": {},
   "outputs": [],
   "source": []
  },
  {
   "cell_type": "code",
   "execution_count": null,
   "metadata": {},
   "outputs": [],
   "source": []
  }
 ],
 "metadata": {
  "kernelspec": {
   "display_name": "Python 3",
   "language": "python",
   "name": "python3"
  },
  "language_info": {
   "codemirror_mode": {
    "name": "ipython",
    "version": 3
   },
   "file_extension": ".py",
   "mimetype": "text/x-python",
   "name": "python",
   "nbconvert_exporter": "python",
   "pygments_lexer": "ipython3",
   "version": "3.7.4"
  }
 },
 "nbformat": 4,
 "nbformat_minor": 4
}
