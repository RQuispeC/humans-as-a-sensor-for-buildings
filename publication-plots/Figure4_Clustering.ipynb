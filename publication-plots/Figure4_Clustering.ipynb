{
 "cells": [
  {
   "cell_type": "markdown",
   "metadata": {},
   "source": [
    "# Generation of Figure 4 - User and Room Clustering\n",
    "\n",
    "\n"
   ]
  },
  {
   "cell_type": "code",
   "execution_count": 1,
   "metadata": {},
   "outputs": [],
   "source": [
    "import numpy as np\n",
    "import pandas as pd\n",
    "from datetime import datetime\n",
    "import os\n",
    "\n",
    "# Preperation\n",
    "from sklearn.model_selection import train_test_split\n",
    "\n",
    "# Modeling\n",
    "from sklearn.ensemble import RandomForestClassifier\n",
    "from sklearn.cluster import KMeans\n",
    "\n",
    "# Visualisations\n",
    "from sklearn.tree import export_graphviz # Note that you need to brew install graphviz on your local machine\n",
    "import pydot \n",
    "import seaborn as sns\n",
    "import matplotlib.pyplot as plt\n",
    "import matplotlib\n",
    "matplotlib.rcParams['font.sans-serif'] = \"Arial\"\n",
    "matplotlib.rcParams['font.family'] = \"sans-serif\"\n",
    "\n",
    "# Evaluation\n",
    "from sklearn import metrics\n",
    "\n",
    "# User Defined Functions\n",
    "import cozie_functions"
   ]
  },
  {
   "cell_type": "code",
   "execution_count": 2,
   "metadata": {},
   "outputs": [],
   "source": [
    "# Add Data Folder to Path\n",
    "data_path = os.path.abspath(os.path.join(os.path.dirname( \"__file__\" ), '..', 'data'))"
   ]
  },
  {
   "cell_type": "markdown",
   "metadata": {},
   "source": [
    "# Reading Data\n",
    "In this case we are first reading the data, and then reorganising them into groups. \n",
    "- First drop all unecessary data\n",
    "- Only select the 30 participants in the study\n",
    "- Then drop all Sensing Data\n",
    "- Then drop all mbient Data\n",
    "\n",
    "Afterwards, created normalised datasets of the average value. See `cozie_functions.py`"
   ]
  },
  {
   "cell_type": "code",
   "execution_count": 3,
   "metadata": {},
   "outputs": [
    {
     "name": "stdout",
     "output_type": "stream",
     "text": [
      "['cresh01', 'cresh02', 'cresh03', 'cresh04', 'cresh05', 'cresh06', 'cresh07', 'cresh08', 'cresh09', 'cresh10', 'cresh11', 'cresh12', 'cresh13', 'cresh14', 'cresh15', 'cresh16', 'cresh17', 'cresh18', 'cresh19', 'cresh20', 'cresh21', 'cresh22', 'cresh23', 'cresh24', 'cresh25', 'cresh26', 'cresh27', 'cresh28', 'cresh29', 'cresh30']\n"
     ]
    }
   ],
   "source": [
    "# The following participants took part in the experiment:\n",
    "participant_ids = ['cresh' + str(id).zfill(2) for id in range(1,31)]\n",
    "print(participant_ids)"
   ]
  },
  {
   "cell_type": "code",
   "execution_count": 4,
   "metadata": {},
   "outputs": [],
   "source": [
    "# Read All Raw Data\n",
    "\n",
    "feature_set_df = pd.read_csv(os.path.join(data_path, '2019-11-15_cozie_full.csv'))\n",
    "\n",
    "# Drop Unecessary Columns\n",
    "feature_set_df.drop(['Unnamed: 0', 'index', 'comfort_cozie', 'Space_id', 'Longitude',\n",
    "                     'Latitude', 'co2_sensing', 'voc_sensing', 'Floor', 'lat_cozie', \n",
    "                     'lon_cozie', 'responseSpeed_cozie'], axis=1, inplace=True)\n",
    "\n",
    "# Drop Mbient Data (Tier 1b)\n",
    "feature_set_df.drop([\"temperature_mbient\"], axis=1, inplace=True)\n",
    "\n",
    "# Drop Sensing Data (Tier 3)\n",
    "feature_set_df.drop([\"noise_sensing\",\n",
    "                    \"temperature_sensing\", \"humidity_sensing\", \"light_sensing\"], axis=1, inplace=True)\n",
    "\n",
    "# Drop User's that were trialing and not in the experiment\n",
    "feature_set_df = feature_set_df[feature_set_df.user_id.isin(participant_ids)]\n",
    "\n",
    "\n",
    "# Drop data where room was not localised. And Na's exist in data\n",
    "feature_set_df.dropna(subset=['thermal_cozie', 'noise_cozie', 'light_cozie','heartRate_cozie', \"room\"], inplace=True)\n"
   ]
  },
  {
   "cell_type": "markdown",
   "metadata": {},
   "source": [
    "We take the clean data set, and group them by users, and by room "
   ]
  },
  {
   "cell_type": "code",
   "execution_count": 5,
   "metadata": {},
   "outputs": [],
   "source": [
    "# Group by preference and normalise the data. See cozie_functions.py\n",
    "grouped_cozie_df = cozie_functions.normalise_total_cozie(feature_set_df, 'user_id', 10)\n",
    "\n",
    "# Drop columns that are note required\n",
    "grouped_cozie_df.drop([\"thermal_cozie\", \"heartRate_cozie\", \"clothing\",\n",
    "                      \"time\", \"room\", \"noise_cozie\", \"light_cozie\", ], axis=1, inplace=True)\n",
    "\n",
    "# Drop comfort values as these are redundant as (thremal_comfy = not prefer warm & prefer cool)\n",
    "grouped_cozie_df.drop([\"thermaly_comfy\", 'aurally_comfy', \n",
    "                       'visually_comfy'], axis=1, inplace=True)\n",
    "\n",
    "# Group rooms and normalise as above\n",
    "grouped_room_df = cozie_functions.normalise_total_cozie(feature_set_df, 'room', 5)\n",
    "grouped_room_df.drop([\"thermal_cozie\", \"heartRate_cozie\", \"clothing\",\n",
    "                      \"time\", \"user_id\", \"noise_cozie\", \"light_cozie\", ], axis=1, inplace=True)\n",
    "\n",
    "grouped_room_df.drop([\"thermaly_comfy\", 'aurally_comfy', \n",
    "                      'visually_comfy'], axis=1, inplace=True)"
   ]
  },
  {
   "cell_type": "code",
   "execution_count": 6,
   "metadata": {},
   "outputs": [
    {
     "data": {
      "text/plain": [
       "(1605, 8)"
      ]
     },
     "execution_count": 6,
     "metadata": {},
     "output_type": "execute_result"
    }
   ],
   "source": [
    "feature_set_df.shape"
   ]
  },
  {
   "cell_type": "code",
   "execution_count": 7,
   "metadata": {},
   "outputs": [
    {
     "data": {
      "text/html": [
       "<div>\n",
       "<style scoped>\n",
       "    .dataframe tbody tr th:only-of-type {\n",
       "        vertical-align: middle;\n",
       "    }\n",
       "\n",
       "    .dataframe tbody tr th {\n",
       "        vertical-align: top;\n",
       "    }\n",
       "\n",
       "    .dataframe thead th {\n",
       "        text-align: right;\n",
       "    }\n",
       "</style>\n",
       "<table border=\"1\" class=\"dataframe\">\n",
       "  <thead>\n",
       "    <tr style=\"text-align: right;\">\n",
       "      <th></th>\n",
       "      <th>prefer_cooler</th>\n",
       "      <th>prefer_warmer</th>\n",
       "      <th>prefer_dimmer</th>\n",
       "      <th>prefer_brighter</th>\n",
       "      <th>prefer_quieter</th>\n",
       "      <th>prefer_louder</th>\n",
       "    </tr>\n",
       "    <tr>\n",
       "      <th>room</th>\n",
       "      <th></th>\n",
       "      <th></th>\n",
       "      <th></th>\n",
       "      <th></th>\n",
       "      <th></th>\n",
       "      <th></th>\n",
       "    </tr>\n",
       "  </thead>\n",
       "  <tbody>\n",
       "    <tr>\n",
       "      <th>BUDS_LAB</th>\n",
       "      <td>0.344828</td>\n",
       "      <td>0.103448</td>\n",
       "      <td>0.034483</td>\n",
       "      <td>0.068966</td>\n",
       "      <td>0.034483</td>\n",
       "      <td>0.0</td>\n",
       "    </tr>\n",
       "    <tr>\n",
       "      <th>BUILDING_MATERIALS_LAB</th>\n",
       "      <td>0.191919</td>\n",
       "      <td>0.297980</td>\n",
       "      <td>0.020202</td>\n",
       "      <td>0.090909</td>\n",
       "      <td>0.090909</td>\n",
       "      <td>0.0</td>\n",
       "    </tr>\n",
       "    <tr>\n",
       "      <th>CAFE</th>\n",
       "      <td>0.315217</td>\n",
       "      <td>0.000000</td>\n",
       "      <td>0.021739</td>\n",
       "      <td>0.326087</td>\n",
       "      <td>0.326087</td>\n",
       "      <td>0.0</td>\n",
       "    </tr>\n",
       "    <tr>\n",
       "      <th>COMPUTER_LAB</th>\n",
       "      <td>0.437500</td>\n",
       "      <td>0.062500</td>\n",
       "      <td>0.000000</td>\n",
       "      <td>0.187500</td>\n",
       "      <td>0.000000</td>\n",
       "      <td>0.0</td>\n",
       "    </tr>\n",
       "    <tr>\n",
       "      <th>CORRIDOR</th>\n",
       "      <td>0.340426</td>\n",
       "      <td>0.063830</td>\n",
       "      <td>0.042553</td>\n",
       "      <td>0.148936</td>\n",
       "      <td>0.340426</td>\n",
       "      <td>0.0</td>\n",
       "    </tr>\n",
       "  </tbody>\n",
       "</table>\n",
       "</div>"
      ],
      "text/plain": [
       "                        prefer_cooler  prefer_warmer  prefer_dimmer  \\\n",
       "room                                                                  \n",
       "BUDS_LAB                     0.344828       0.103448       0.034483   \n",
       "BUILDING_MATERIALS_LAB       0.191919       0.297980       0.020202   \n",
       "CAFE                         0.315217       0.000000       0.021739   \n",
       "COMPUTER_LAB                 0.437500       0.062500       0.000000   \n",
       "CORRIDOR                     0.340426       0.063830       0.042553   \n",
       "\n",
       "                        prefer_brighter  prefer_quieter  prefer_louder  \n",
       "room                                                                    \n",
       "BUDS_LAB                       0.068966        0.034483            0.0  \n",
       "BUILDING_MATERIALS_LAB         0.090909        0.090909            0.0  \n",
       "CAFE                           0.326087        0.326087            0.0  \n",
       "COMPUTER_LAB                   0.187500        0.000000            0.0  \n",
       "CORRIDOR                       0.148936        0.340426            0.0  "
      ]
     },
     "execution_count": 7,
     "metadata": {},
     "output_type": "execute_result"
    }
   ],
   "source": [
    "## Let's see what we have got\n",
    "grouped_room_df.head()"
   ]
  },
  {
   "cell_type": "code",
   "execution_count": 8,
   "metadata": {},
   "outputs": [
    {
     "data": {
      "text/html": [
       "<div>\n",
       "<style scoped>\n",
       "    .dataframe tbody tr th:only-of-type {\n",
       "        vertical-align: middle;\n",
       "    }\n",
       "\n",
       "    .dataframe tbody tr th {\n",
       "        vertical-align: top;\n",
       "    }\n",
       "\n",
       "    .dataframe thead th {\n",
       "        text-align: right;\n",
       "    }\n",
       "</style>\n",
       "<table border=\"1\" class=\"dataframe\">\n",
       "  <thead>\n",
       "    <tr style=\"text-align: right;\">\n",
       "      <th></th>\n",
       "      <th>prefer_cooler</th>\n",
       "      <th>prefer_warmer</th>\n",
       "      <th>prefer_dimmer</th>\n",
       "      <th>prefer_brighter</th>\n",
       "      <th>prefer_quieter</th>\n",
       "      <th>prefer_louder</th>\n",
       "    </tr>\n",
       "    <tr>\n",
       "      <th>user_id</th>\n",
       "      <th></th>\n",
       "      <th></th>\n",
       "      <th></th>\n",
       "      <th></th>\n",
       "      <th></th>\n",
       "      <th></th>\n",
       "    </tr>\n",
       "  </thead>\n",
       "  <tbody>\n",
       "    <tr>\n",
       "      <th>cresh01</th>\n",
       "      <td>0.094340</td>\n",
       "      <td>0.150943</td>\n",
       "      <td>0.056604</td>\n",
       "      <td>0.301887</td>\n",
       "      <td>0.094340</td>\n",
       "      <td>0.0</td>\n",
       "    </tr>\n",
       "    <tr>\n",
       "      <th>cresh02</th>\n",
       "      <td>0.694915</td>\n",
       "      <td>0.135593</td>\n",
       "      <td>0.355932</td>\n",
       "      <td>0.220339</td>\n",
       "      <td>0.355932</td>\n",
       "      <td>0.0</td>\n",
       "    </tr>\n",
       "    <tr>\n",
       "      <th>cresh03</th>\n",
       "      <td>0.200000</td>\n",
       "      <td>0.044444</td>\n",
       "      <td>0.511111</td>\n",
       "      <td>0.155556</td>\n",
       "      <td>0.044444</td>\n",
       "      <td>0.0</td>\n",
       "    </tr>\n",
       "    <tr>\n",
       "      <th>cresh04</th>\n",
       "      <td>0.000000</td>\n",
       "      <td>0.000000</td>\n",
       "      <td>0.000000</td>\n",
       "      <td>0.000000</td>\n",
       "      <td>0.000000</td>\n",
       "      <td>0.0</td>\n",
       "    </tr>\n",
       "    <tr>\n",
       "      <th>cresh05</th>\n",
       "      <td>0.264151</td>\n",
       "      <td>0.037736</td>\n",
       "      <td>0.037736</td>\n",
       "      <td>0.056604</td>\n",
       "      <td>0.000000</td>\n",
       "      <td>0.0</td>\n",
       "    </tr>\n",
       "  </tbody>\n",
       "</table>\n",
       "</div>"
      ],
      "text/plain": [
       "         prefer_cooler  prefer_warmer  prefer_dimmer  prefer_brighter  \\\n",
       "user_id                                                                 \n",
       "cresh01       0.094340       0.150943       0.056604         0.301887   \n",
       "cresh02       0.694915       0.135593       0.355932         0.220339   \n",
       "cresh03       0.200000       0.044444       0.511111         0.155556   \n",
       "cresh04       0.000000       0.000000       0.000000         0.000000   \n",
       "cresh05       0.264151       0.037736       0.037736         0.056604   \n",
       "\n",
       "         prefer_quieter  prefer_louder  \n",
       "user_id                                 \n",
       "cresh01        0.094340            0.0  \n",
       "cresh02        0.355932            0.0  \n",
       "cresh03        0.044444            0.0  \n",
       "cresh04        0.000000            0.0  \n",
       "cresh05        0.000000            0.0  "
      ]
     },
     "execution_count": 8,
     "metadata": {},
     "output_type": "execute_result"
    }
   ],
   "source": [
    "grouped_cozie_df.head()"
   ]
  },
  {
   "cell_type": "markdown",
   "metadata": {},
   "source": [
    "# K Means Clustering\n",
    "\n",
    "- Run a k-means clustering analysis on the cleaned dataset\n",
    "- Plot the results as Figure 4 in the paper"
   ]
  },
  {
   "cell_type": "code",
   "execution_count": 9,
   "metadata": {},
   "outputs": [],
   "source": [
    "k_means_cozie = KMeans(n_clusters=7).fit(grouped_cozie_df)\n",
    "centroids_cozie = k_means_cozie.cluster_centers_"
   ]
  },
  {
   "cell_type": "code",
   "execution_count": 10,
   "metadata": {},
   "outputs": [
    {
     "data": {
      "text/plain": [
       "array([3, 4, 1, 5, 0, 3, 6, 5, 0, 0, 1, 0, 2, 5, 2, 5, 2, 5, 3, 3, 0, 3,\n",
       "       6, 6, 3, 5, 5, 4, 5, 6], dtype=int32)"
      ]
     },
     "execution_count": 10,
     "metadata": {},
     "output_type": "execute_result"
    }
   ],
   "source": [
    "k_means_cozie.labels_"
   ]
  },
  {
   "cell_type": "code",
   "execution_count": 11,
   "metadata": {},
   "outputs": [],
   "source": [
    "grouped_cozie_df['user_cluster'] = k_means_cozie.labels_"
   ]
  },
  {
   "cell_type": "code",
   "execution_count": 12,
   "metadata": {},
   "outputs": [],
   "source": [
    "grouped_cozie_df.sort_values(by=['user_cluster'], inplace=True)\n",
    "#grouped_cozie_df.set_index(\"user_cluster\", inplace=True)"
   ]
  },
  {
   "cell_type": "code",
   "execution_count": 13,
   "metadata": {},
   "outputs": [
    {
     "data": {
      "text/plain": [
       "<matplotlib.axes._subplots.AxesSubplot at 0x12ac37190>"
      ]
     },
     "execution_count": 13,
     "metadata": {},
     "output_type": "execute_result"
    },
    {
     "data": {
      "image/png": "[encoded data removed]",
      "text/plain": [
       "<Figure size 432x288 with 2 Axes>"
      ]
     },
     "metadata": {
      "needs_background": "light"
     },
     "output_type": "display_data"
    }
   ],
   "source": [
    "clustermap = plt.figure()\n",
    "sns.heatmap(grouped_cozie_df.set_index(\"user_cluster\"), cmap=\"Blues\")"
   ]
  },
  {
   "cell_type": "code",
   "execution_count": 14,
   "metadata": {},
   "outputs": [],
   "source": [
    "#clustermap.savefig(\"clustermap.pdf\", bbox_inches='tight')"
   ]
  },
  {
   "cell_type": "markdown",
   "metadata": {},
   "source": [
    "## K Means Room Clustering\n",
    "- Same as above except by room"
   ]
  },
  {
   "cell_type": "code",
   "execution_count": 15,
   "metadata": {},
   "outputs": [],
   "source": [
    "k_means_room = KMeans(n_clusters=4).fit(grouped_room_df)\n",
    "centroids_room = k_means_room.cluster_centers_"
   ]
  },
  {
   "cell_type": "code",
   "execution_count": 16,
   "metadata": {},
   "outputs": [],
   "source": [
    "grouped_room_df['room_cluster'] = k_means_room.labels_\n"
   ]
  },
  {
   "cell_type": "code",
   "execution_count": 17,
   "metadata": {},
   "outputs": [],
   "source": [
    "grouped_room_df.sort_values(by=['room_cluster'], inplace=True)\n",
    "plot_grouped_room_df =  grouped_room_df.set_index(\"room_cluster\")\n",
    "plot_cluster_room_df = grouped_room_df#.set_index(\"room_cluster\")"
   ]
  },
  {
   "cell_type": "markdown",
   "metadata": {},
   "source": [
    "### Adding colours to the side bar to highlight what type of room it was\n",
    "- Note that this was completed in Illustrator"
   ]
  },
  {
   "cell_type": "code",
   "execution_count": 21,
   "metadata": {},
   "outputs": [],
   "source": [
    "manual_mapping = {\"OUTSIDE_RESTROOM\": [0.65043179, 0.81661166, 0.72369388, 1.        ],\n",
    "                 \"OPEN_EXHIBITION_SPACE_2\": [0.65043179, 0.81661166, 0.72369388, 1.        ],\n",
    "                 \"CORRIDOR\": [0.65043179, 0.81661166, 0.72369388, 1.        ]\n",
    "                 }"
   ]
  },
  {
   "cell_type": "code",
   "execution_count": 22,
   "metadata": {},
   "outputs": [],
   "source": [
    "#plot_grouped_room_df[\"row_colors\"] = \"blue\"\n",
    "plot_cluster_room_df[\"row_colors\"] = grouped_room_df.index.map(manual_mapping)"
   ]
  },
  {
   "cell_type": "code",
   "execution_count": 23,
   "metadata": {},
   "outputs": [
    {
     "data": {
      "text/plain": [
       "<Figure size 432x288 with 0 Axes>"
      ]
     },
     "metadata": {},
     "output_type": "display_data"
    },
    {
     "data": {
      "image/png": "[encoded data removed]",
      "text/plain": [
       "<Figure size 720x720 with 5 Axes>"
      ]
     },
     "metadata": {
      "needs_background": "light"
     },
     "output_type": "display_data"
    }
   ],
   "source": [
    "roomclustermap = plt.figure(1)\n",
    "#sns.heatmap(plot_grouped_room_df, cmap=\"Blues\")\n",
    "cluster_fig = sns.clustermap(plot_cluster_room_df.drop([\"row_colors\", \"room_cluster\"], axis=1), row_cluster=False, col_cluster=False, row_colors=plot_cluster_room_df[\"row_colors\"], cmap=\"Blues\")\n",
    "\n"
   ]
  },
  {
   "cell_type": "code",
   "execution_count": null,
   "metadata": {},
   "outputs": [],
   "source": [
    "#roomclustermap.savefig(\"clustermap_room.pdf\", bbox_inches='tight')\n",
    "#cluster_fig.savefig(\"clustermap_room.pdf\", bbox_inches='tight')"
   ]
  },
  {
   "cell_type": "markdown",
   "metadata": {},
   "source": [
    "### The Figures were then edited in Adobe Illustrator for the paper"
   ]
  },
  {
   "cell_type": "code",
   "execution_count": null,
   "metadata": {},
   "outputs": [],
   "source": []
  }
 ],
 "metadata": {
  "kernelspec": {
   "display_name": "Python 3",
   "language": "python",
   "name": "python3"
  },
  "language_info": {
   "codemirror_mode": {
    "name": "ipython",
    "version": 3
   },
   "file_extension": ".py",
   "mimetype": "text/x-python",
   "name": "python",
   "nbconvert_exporter": "python",
   "pygments_lexer": "ipython3",
   "version": "3.7.4"
  }
 },
 "nbformat": 4,
 "nbformat_minor": 4
}
