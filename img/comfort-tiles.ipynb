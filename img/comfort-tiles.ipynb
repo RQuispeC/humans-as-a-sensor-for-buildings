{
 "cells": [
  {
   "cell_type": "code",
   "execution_count": 1,
   "metadata": {},
   "outputs": [],
   "source": [
    "import os\n",
    "import pickle\n",
    "import matplotlib\n",
    "import numpy as np\n",
    "import pandas as pd\n",
    "import seaborn as sns\n",
    "from textwrap import wrap\n",
    "from matplotlib import cm\n",
    "import matplotlib.pyplot as plt\n",
    "from sklearn.cluster import KMeans\n",
    "\n",
    "import cozie_functions\n"
   ]
  },
  {
   "cell_type": "code",
   "execution_count": 9,
   "metadata": {},
   "outputs": [
    {
     "name": "stdout",
     "output_type": "stream",
     "text": [
      "[ 6.  1.  3.  2.  0.  7.  8.  9. 10. 11. 12. 13.  5. 14. 15. 16.]\n",
      "(1497, 25)\n",
      "samples per participant: \n",
      " user_id\n",
      "cresh08    44\n",
      "cresh07    46\n",
      "cresh09    49\n",
      "cresh12    46\n",
      "cresh10    45\n",
      "cresh13    60\n",
      "cresh14    99\n",
      "cresh03    51\n",
      "cresh15    49\n",
      "cresh01    56\n",
      "cresh06    46\n",
      "cresh11    39\n",
      "cresh05    50\n",
      "cresh04    47\n",
      "cresh02    65\n",
      "cresh22    40\n",
      "cresh21    52\n",
      "cresh26    46\n",
      "cresh29    55\n",
      "cresh27    44\n",
      "cresh19    39\n",
      "cresh18    65\n",
      "cresh23    47\n",
      "cresh16    68\n",
      "cresh30    42\n",
      "cresh24    46\n",
      "cresh17    43\n",
      "cresh20    36\n",
      "cresh28    46\n",
      "cresh25    36\n",
      "dtype: int64\n"
     ]
    }
   ],
   "source": [
    "# add data folder to path\n",
    "data_path = os.path.abspath(os.path.join(os.path.dirname( \"__file__\" ), '..', 'data'))\n",
    "feature_set_df = pd.read_csv(os.path.join(data_path, '2019-11-15_cozie_full_masked.csv'))\n",
    "\n",
    "# print(feature_set_df.columns)\n",
    "\n",
    "# The following participants took part in the experiment:\n",
    "participant_ids = ['cresh' + str(id).zfill(2) for id in range(1,31)] # from 1 to 30\n",
    "\n",
    "# Drop User's that were trialing and not in the experiment\n",
    "feature_set_df = feature_set_df[feature_set_df.user_id.isin(participant_ids)]\n",
    "\n",
    "# only SDE4 votes\n",
    "feature_set_df = feature_set_df[feature_set_df['room'].notnull()]\n",
    "feature_set_df = feature_set_df[feature_set_df['room'] != 4]\n",
    "\n",
    "print(feature_set_df['room'].unique()) # 1497, 25\n",
    "print(feature_set_df.shape)\n",
    "print(\"samples per participant: \\n {}\".format(feature_set_df.groupby(['user_id'], sort=False).size()))\n"
   ]
  },
  {
   "cell_type": "code",
   "execution_count": 10,
   "metadata": {},
   "outputs": [],
   "source": [
    "palette = sns.color_palette(\"coolwarm\", 3)\n",
    "\n",
    "# custom read and blue from https://coolors.co/984447-add9f4-476c9b-468c98-101419 \n",
    "# and grey from coolwarm palette\n",
    "palette = [\"#984447\", palette[1], \"#476c9b\"]\n",
    "\n",
    "# from https://imagecolorpicker.com/en/\n",
    "palette_thermal = [\"#a04c46\", \"#c0bfbf\",\"#8099ba\"]\n",
    "palette_visual = [\"#b78450\", \"#c0bfbf\", \"#a68ca6\"]\n",
    "# palette_aural = [\"#a34275\", \"#c0bfbf\", \"#789966\"]\n",
    "palette_aural = [\"#c0bfbf\", \"#789966\"]\n",
    "\n",
    "heatmap_args_nolim = dict(annot=False,\n",
    "                          fmt=\"d\", \n",
    "                          square=True, \n",
    "                          cmap=palette, \n",
    "                          lw=.5, \n",
    "                          cbar=False)\n"
   ]
  },
  {
   "cell_type": "code",
   "execution_count": 11,
   "metadata": {},
   "outputs": [
    {
     "name": "stdout",
     "output_type": "stream",
     "text": [
      "(1421, 4)\n"
     ]
    }
   ],
   "source": [
    "columns_needed = ['user_id', 'light_cozie', 'noise_cozie', 'thermal_cozie']\n",
    "df_filtered = feature_set_df[feature_set_df.columns & columns_needed] # original size: 4378\n",
    "\n",
    "df_filtered_clean = df_filtered.dropna()\n",
    "print(df_filtered_clean.shape)\n",
    "\n",
    "#1421, 4\n"
   ]
  },
  {
   "cell_type": "markdown",
   "metadata": {},
   "source": [
    "# K-means clustering"
   ]
  },
  {
   "cell_type": "code",
   "execution_count": 12,
   "metadata": {},
   "outputs": [
    {
     "name": "stdout",
     "output_type": "stream",
     "text": [
      "(1407, 8)\n",
      "(30, 6)\n"
     ]
    },
    {
     "data": {
      "text/html": [
       "<div>\n",
       "<style scoped>\n",
       "    .dataframe tbody tr th:only-of-type {\n",
       "        vertical-align: middle;\n",
       "    }\n",
       "\n",
       "    .dataframe tbody tr th {\n",
       "        vertical-align: top;\n",
       "    }\n",
       "\n",
       "    .dataframe thead th {\n",
       "        text-align: right;\n",
       "    }\n",
       "</style>\n",
       "<table border=\"1\" class=\"dataframe\">\n",
       "  <thead>\n",
       "    <tr style=\"text-align: right;\">\n",
       "      <th></th>\n",
       "      <th>prefer_cooler</th>\n",
       "      <th>prefer_warmer</th>\n",
       "      <th>prefer_dimmer</th>\n",
       "      <th>prefer_brighter</th>\n",
       "      <th>prefer_quieter</th>\n",
       "      <th>prefer_louder</th>\n",
       "    </tr>\n",
       "    <tr>\n",
       "      <th>user_id</th>\n",
       "      <th></th>\n",
       "      <th></th>\n",
       "      <th></th>\n",
       "      <th></th>\n",
       "      <th></th>\n",
       "      <th></th>\n",
       "    </tr>\n",
       "  </thead>\n",
       "  <tbody>\n",
       "    <tr>\n",
       "      <th>cresh01</th>\n",
       "      <td>0.078431</td>\n",
       "      <td>0.156863</td>\n",
       "      <td>0.058824</td>\n",
       "      <td>0.313725</td>\n",
       "      <td>0.098039</td>\n",
       "      <td>0.0</td>\n",
       "    </tr>\n",
       "    <tr>\n",
       "      <th>cresh02</th>\n",
       "      <td>0.722222</td>\n",
       "      <td>0.111111</td>\n",
       "      <td>0.370370</td>\n",
       "      <td>0.222222</td>\n",
       "      <td>0.333333</td>\n",
       "      <td>0.0</td>\n",
       "    </tr>\n",
       "    <tr>\n",
       "      <th>cresh03</th>\n",
       "      <td>0.181818</td>\n",
       "      <td>0.045455</td>\n",
       "      <td>0.522727</td>\n",
       "      <td>0.159091</td>\n",
       "      <td>0.045455</td>\n",
       "      <td>0.0</td>\n",
       "    </tr>\n",
       "    <tr>\n",
       "      <th>cresh04</th>\n",
       "      <td>0.000000</td>\n",
       "      <td>0.000000</td>\n",
       "      <td>0.000000</td>\n",
       "      <td>0.000000</td>\n",
       "      <td>0.000000</td>\n",
       "      <td>0.0</td>\n",
       "    </tr>\n",
       "    <tr>\n",
       "      <th>cresh05</th>\n",
       "      <td>0.280000</td>\n",
       "      <td>0.040000</td>\n",
       "      <td>0.040000</td>\n",
       "      <td>0.060000</td>\n",
       "      <td>0.000000</td>\n",
       "      <td>0.0</td>\n",
       "    </tr>\n",
       "  </tbody>\n",
       "</table>\n",
       "</div>"
      ],
      "text/plain": [
       "         prefer_cooler  prefer_warmer  prefer_dimmer  prefer_brighter  \\\n",
       "user_id                                                                 \n",
       "cresh01       0.078431       0.156863       0.058824         0.313725   \n",
       "cresh02       0.722222       0.111111       0.370370         0.222222   \n",
       "cresh03       0.181818       0.045455       0.522727         0.159091   \n",
       "cresh04       0.000000       0.000000       0.000000         0.000000   \n",
       "cresh05       0.280000       0.040000       0.040000         0.060000   \n",
       "\n",
       "         prefer_quieter  prefer_louder  \n",
       "user_id                                 \n",
       "cresh01        0.098039            0.0  \n",
       "cresh02        0.333333            0.0  \n",
       "cresh03        0.045455            0.0  \n",
       "cresh04        0.000000            0.0  \n",
       "cresh05        0.000000            0.0  "
      ]
     },
     "execution_count": 12,
     "metadata": {},
     "output_type": "execute_result"
    }
   ],
   "source": [
    "### From: PublicationsPlots_v1.ipynb\n",
    "\n",
    "# Drop Unecessary Columns\n",
    "feature_set_df.drop(['Unnamed: 0', 'index', 'comfort_cozie', 'Space_id', 'Longitude',\n",
    "                     'Latitude', 'co2_sensing', 'voc_sensing', 'Floor', 'lat_cozie', \n",
    "                     'lon_cozie', 'responseSpeed_cozie'], axis=1, inplace=True)\n",
    "\n",
    "# Drop Mbient Data (Tier 1b)\n",
    "feature_set_df.drop([\"temperature_mbient\"], axis=1, inplace=True)\n",
    "\n",
    "# Drop Sensing Data (Tier 3)\n",
    "feature_set_df.drop([\"noise_sensing\",\n",
    "                    \"temperature_sensing\", \"humidity_sensing\", \"light_sensing\"], axis=1, inplace=True)\n",
    "\n",
    "# Drop data where room was not localised. And Na's exist in data\n",
    "feature_set_df.dropna(subset=['thermal_cozie', 'noise_cozie', 'light_cozie','heartRate_cozie', \"room\"], inplace=True)\n",
    "\n",
    "# Group by preference and normalise the data. See cozie_functions.py\n",
    "grouped_cozie_df = cozie_functions.normalise_total_cozie(feature_set_df, 'user_id', 10)\n",
    "\n",
    "# Drop columns that are note required\n",
    "grouped_cozie_df.drop([\"thermal_cozie\", \"heartRate_cozie\", \"clothing\",\n",
    "                      \"time\", \"room\", \"noise_cozie\", \"light_cozie\", ], axis=1, inplace=True)\n",
    "\n",
    "# Drop comfort values as these are redundant as (thremal_comfy = not prefer warm & prefer cool)\n",
    "grouped_cozie_df.drop([\"thermaly_comfy\", 'aurally_comfy', \n",
    "                       'visually_comfy'], axis=1, inplace=True)\n",
    "\n",
    "print(feature_set_df.shape) # (1407, 8)\n",
    "print(grouped_cozie_df.shape) # (30, 6)\n",
    "grouped_cozie_df.head()\n"
   ]
  },
  {
   "cell_type": "code",
   "execution_count": 13,
   "metadata": {},
   "outputs": [],
   "source": [
    "cluster_all = False"
   ]
  },
  {
   "cell_type": "markdown",
   "metadata": {},
   "source": [
    "## Cluster with all features"
   ]
  },
  {
   "cell_type": "code",
   "execution_count": 14,
   "metadata": {},
   "outputs": [],
   "source": [
    "def fit_clusters(df, num_clusters, column_name):\n",
    "    k_means_cozie = KMeans(n_clusters=num_clusters, random_state=13).fit(df)\n",
    "    centroids_cozie = k_means_cozie.cluster_centers_\n",
    "    print(k_means_cozie.labels_)\n",
    "\n",
    "    df[column_name] = k_means_cozie.labels_\n",
    "    df.sort_values(by=[column_name], inplace=True)\n",
    "\n",
    "    print(df.columns)\n",
    "    clustermap = plt.figure()\n",
    "    sns.heatmap(df.set_index(column_name), cmap=\"Blues\")\n",
    "    \n",
    "    return df\n"
   ]
  },
  {
   "cell_type": "code",
   "execution_count": 15,
   "metadata": {},
   "outputs": [],
   "source": [
    "if cluster_all:\n",
    "    # fit clusters    \n",
    "    grouped_cozie_df = fit_clusters(grouped_cozie_df, 9, 'user_cluster')\n",
    "    grouped_cozie_df.head()"
   ]
  },
  {
   "cell_type": "markdown",
   "metadata": {},
   "source": [
    "## Cluster with only the features of each type of response"
   ]
  },
  {
   "cell_type": "code",
   "execution_count": 16,
   "metadata": {},
   "outputs": [
    {
     "name": "stdout",
     "output_type": "stream",
     "text": [
      "[2 1 2 2 2 0 2 2 1 2 1 1 1 2 1 2 1 2 2 0 1 0 2 2 0 2 2 1 2 2]\n",
      "Index(['prefer_cooler', 'prefer_warmer', 'thermal_cluster'], dtype='object')\n",
      "[1 2 2 0 0 0 0 0 0 0 2 0 1 0 1 0 1 0 0 0 0 0 0 1 1 0 0 0 0 0]\n",
      "Index(['prefer_dimmer', 'prefer_brighter', 'light_cluster'], dtype='object')\n",
      "[0 1 0 0 0 0 0 0 0 0 0 1 1 0 1 0 1 0 0 0 0 0 0 0 0 0 0 1 0 0]\n",
      "Index(['prefer_cooler', 'prefer_warmer', 'prefer_quieter', 'prefer_louder',\n",
      "       'aural_cluster'],\n",
      "      dtype='object')\n"
     ]
    },
    {
     "data": {
      "image/png": "[encoded data removed]",
      "text/plain": [
       "<Figure size 432x288 with 2 Axes>"
      ]
     },
     "metadata": {
      "needs_background": "light"
     },
     "output_type": "display_data"
    },
    {
     "data": {
      "image/png": "[encoded data removed]",
      "text/plain": [
       "<Figure size 432x288 with 2 Axes>"
      ]
     },
     "metadata": {
      "needs_background": "light"
     },
     "output_type": "display_data"
    },
    {
     "data": {
      "image/png": "[encoded data removed]",
      "text/plain": [
       "<Figure size 432x288 with 2 Axes>"
      ]
     },
     "metadata": {
      "needs_background": "light"
     },
     "output_type": "display_data"
    }
   ],
   "source": [
    "if not cluster_all:\n",
    "    # copy a df for each type of response\n",
    "    grouped_cozie_df_thermal = grouped_cozie_df.copy()\n",
    "    grouped_cozie_df_thermal.drop(['prefer_dimmer', 'prefer_brighter', 'prefer_quieter', 'prefer_louder'], axis=1, inplace=True)\n",
    "\n",
    "    grouped_cozie_df_light = grouped_cozie_df.copy()\n",
    "    grouped_cozie_df_light.drop(['prefer_cooler', 'prefer_warmer', 'prefer_quieter', 'prefer_louder'], axis=1, inplace=True)\n",
    "    \n",
    "    grouped_cozie_df_aural = grouped_cozie_df.copy()    \n",
    "    grouped_cozie_df_aural.drop(['prefer_dimmer', 'prefer_brighter', 'prefer_dimmer', 'prefer_brighter'], axis=1, inplace=True)\n",
    "    \n",
    "    # fit clusters\n",
    "    grouped_cozie_df_thermal = fit_clusters(grouped_cozie_df_thermal, 3, 'thermal_cluster')\n",
    "    grouped_cozie_df_light = fit_clusters(grouped_cozie_df_light, 3, 'light_cluster')\n",
    "    grouped_cozie_df_aural = fit_clusters(grouped_cozie_df_aural, 2, 'aural_cluster')\n",
    "    "
   ]
  },
  {
   "cell_type": "markdown",
   "metadata": {},
   "source": [
    "# Dataframe with time-series and cluster information"
   ]
  },
  {
   "cell_type": "code",
   "execution_count": 17,
   "metadata": {},
   "outputs": [],
   "source": [
    "if cluster_all:\n",
    "    # left join on user_id and clusters\n",
    "    df_clustered = pd.merge(df_filtered_clean, grouped_cozie_df, on=['user_id'])\n",
    "    print(df_clustered.head())\n",
    "\n",
    "    for cluster in df_clustered['user_cluster'].unique():\n",
    "        curr_cluster = df_clustered[df_clustered['user_cluster'] == cluster]\n",
    "        print(cluster)\n",
    "        print(curr_cluster[['prefer_cooler', 'prefer_warmer']].max(axis=0))\n",
    "    #     print(curr_cluster[['prefer_cooler', 'prefer_warmer']].idxmax(axis=0))\n",
    "\n",
    "        print(curr_cluster[['prefer_dimmer', 'prefer_brighter']].max(axis=0))\n",
    "    #     print(curr_cluster[['prefer_dimmer', 'prefer_brighter']].idxmax(axis=0))\n",
    "\n",
    "        print(curr_cluster[['prefer_quieter', 'prefer_louder']].max(axis=0))\n",
    "    #     print(curr_cluster[['prefer_quieter', 'prefer_louder']].idxmax(axis=0))\n",
    "\n",
    "        print(curr_cluster['user_id'].unique())\n",
    "        print(\"-\")\n"
   ]
  },
  {
   "cell_type": "code",
   "execution_count": 18,
   "metadata": {},
   "outputs": [
    {
     "name": "stdout",
     "output_type": "stream",
     "text": [
      "   light_cozie  noise_cozie  thermal_cozie  user_id  prefer_cooler_x  \\\n",
      "0         10.0         10.0           10.0  cresh08         0.113636   \n",
      "1         10.0         10.0           10.0  cresh08         0.113636   \n",
      "2         10.0         11.0           10.0  cresh08         0.113636   \n",
      "3         10.0         11.0           11.0  cresh08         0.113636   \n",
      "4         10.0         11.0           10.0  cresh08         0.113636   \n",
      "\n",
      "   prefer_warmer_x  thermal_cluster  prefer_dimmer  prefer_brighter  \\\n",
      "0              0.0                2       0.068182              0.0   \n",
      "1              0.0                2       0.068182              0.0   \n",
      "2              0.0                2       0.068182              0.0   \n",
      "3              0.0                2       0.068182              0.0   \n",
      "4              0.0                2       0.068182              0.0   \n",
      "\n",
      "   light_cluster  prefer_cooler_y  prefer_warmer_y  prefer_quieter  \\\n",
      "0              0         0.113636              0.0        0.272727   \n",
      "1              0         0.113636              0.0        0.272727   \n",
      "2              0         0.113636              0.0        0.272727   \n",
      "3              0         0.113636              0.0        0.272727   \n",
      "4              0         0.113636              0.0        0.272727   \n",
      "\n",
      "   prefer_louder  aural_cluster  \n",
      "0            0.0              0  \n",
      "1            0.0              0  \n",
      "2            0.0              0  \n",
      "3            0.0              0  \n",
      "4            0.0              0  \n"
     ]
    }
   ],
   "source": [
    "if not cluster_all:\n",
    "    # left join on user_id and clusters\n",
    "    df_clustered = pd.merge(df_filtered_clean, grouped_cozie_df_thermal, on=['user_id'])\n",
    "    df_clustered = pd.merge(df_clustered, grouped_cozie_df_light, on=['user_id'])\n",
    "    df_clustered = pd.merge(df_clustered, grouped_cozie_df_aural, on=['user_id'])\n",
    "    print(df_clustered.head())"
   ]
  },
  {
   "cell_type": "code",
   "execution_count": 19,
   "metadata": {},
   "outputs": [],
   "source": [
    "# from Figure 4: number of small clusters for the groups\n",
    "\n",
    "# prefer cooler big cluster: 5\n",
    "# prefer warmer big cluster: 1\n",
    "# no preference big cluster: 3\n",
    "\n",
    "# prefer dimmer big cluster: 2\n",
    "# prefer brighter big cluster: 3\n",
    "# no preference big cluster: 4\n",
    "\n",
    "# prefer quieter big cluster: 5\n",
    "# no preference big cluster: 4\n"
   ]
  },
  {
   "cell_type": "markdown",
   "metadata": {},
   "source": [
    "# Merging clusters into 3 bigger ones\n",
    "\n",
    "Cluster mapping, the columns are the values for the `prefer_cooler`, `prefer_dimmer`, and `prefer_quieter` for each type of comfort for the rows with the same names, and the `no_preference` rows too.\n",
    "The `prefer_warmer`, and `prefer_brighter` values in the columns are used in the rows with the same name.\n",
    "\n",
    "The values might differ slightly with the kmeans running (even with the same `rand_state` ?! but it remains somewhat consistent.\n",
    "\n",
    "| Feedback        |          |          |          |          |          |\n",
    "|-----------------|----------|----------|----------|----------|----------|\n",
    "| prefer cooler   | 0.694915 | 0.404762 | 0.645161 | 0.557692 | 0.341463 |\n",
    "| prefer warmer   | 0.439716 |          |          |          |          |\n",
    "| no preference   | 0.153846 | 0.264151 | 0.288462 |          |          |\n",
    "|-----------------|----------|----------|----------|----------|----------|\n",
    "| prefer dimmer   | 0.511111 | 0.355932 |          |          |          |\n",
    "| prefer brighter | 0.387755 | 0.476190 | 0.512821 |          |          |\n",
    "| no preference   | 0.019231 | 0.102041 | 0.142857 | 0.205882 |          |\n",
    "|-----------------|----------|----------|----------|----------|----------|\n",
    "| prefer quieter  | 0.686275 | 0.642857 | 0.387097 | 0.309524 | 0.44898  |\n",
    "| no preference   | 0.142857 | 0.129032 | 0.04878  | 0.211538 |          |\n"
   ]
  },
  {
   "cell_type": "code",
   "execution_count": 20,
   "metadata": {},
   "outputs": [],
   "source": [
    "def merge_clusters(row, comfort='thermal'):\n",
    "    if comfort == 'thermal':\n",
    "        if row['prefer_cooler'] >= 0.33:\n",
    "            return 11\n",
    "        if row['prefer_warmer'] >= 0.3:\n",
    "            return 9\n",
    "        else:\n",
    "            return 10\n",
    "    elif comfort == 'visual':\n",
    "        if row['prefer_dimmer'] >= 0.3:\n",
    "            return 11\n",
    "        if row['prefer_brighter'] > 0.35:\n",
    "            return 9\n",
    "        else:\n",
    "            return 10\n",
    "    elif comfort == 'aural':\n",
    "        if row['prefer_quieter'] >= 0.3:\n",
    "            return 11\n",
    "        else:\n",
    "            return 10\n"
   ]
  },
  {
   "cell_type": "code",
   "execution_count": 21,
   "metadata": {},
   "outputs": [],
   "source": [
    "df_merged_clusters = df_clustered.copy()\n",
    "\n",
    "if cluster_all:\n",
    "    df_merged_clusters['big_cluster-thermal'] = df_merged_clusters.apply(lambda row: merge_clusters(row, 'thermal'), axis=1)\n",
    "    df_merged_clusters['big_cluster-visual'] = df_merged_clusters.apply(lambda row: merge_clusters(row, 'visual'), axis=1)\n",
    "    df_merged_clusters['big_cluster-aural'] = df_merged_clusters.apply(lambda row: merge_clusters(row, 'aural'), axis=1)\n",
    "\n",
    "    print(df_merged_clusters['big_cluster-thermal'].unique())\n",
    "    print(df_merged_clusters['big_cluster-visual'].unique())\n",
    "    print(df_merged_clusters['big_cluster-aural'].unique())\n",
    "    df_merged_clusters.head()\n",
    "    "
   ]
  },
  {
   "cell_type": "markdown",
   "metadata": {},
   "source": [
    "# Heatmap time-series"
   ]
  },
  {
   "cell_type": "code",
   "execution_count": 22,
   "metadata": {},
   "outputs": [],
   "source": [
    "def plot_heatmap_tiles(df, ax, comfort='thermal', series_limit=75):\n",
    "    \"\"\"\n",
    "    Plot time-series values of a given comfort with colored tiles\n",
    "    \"\"\"\n",
    "    df_limit = pd.DataFrame(columns=df.columns)\n",
    "\n",
    "    # limit the datapoints for each user\n",
    "    for user in df['user_id'].unique():\n",
    "        curr_user = df[df['user_id'] == user].reset_index(drop=True)\n",
    "        df_limit = df_limit.append(curr_user.iloc[:series_limit, :])\n",
    "    \n",
    "    df_aux = pd.DataFrame(columns = ['datapoint', 'comfort', 'value'])\n",
    "    \n",
    "    # tranforms to heatmap-ready dataframe\n",
    "    for index, row in df_limit.iterrows():\n",
    "        if comfort == 'visual':\n",
    "            new_row = {'datapoint':index, 'comfort':row.index[0] + \"-\" + row[3] , 'value':row[0]}\n",
    "            df_aux = df_aux.append(new_row, ignore_index=True)\n",
    "        elif comfort == 'aural':\n",
    "            new_row = {'datapoint':index, 'comfort':row.index[1] + \"-\" + row[3] , 'value':row[1]}\n",
    "            df_aux = df_aux.append(new_row, ignore_index=True)\n",
    "        elif comfort == 'thermal':\n",
    "            new_row = {'datapoint':index, 'comfort':row.index[2] + \"-\" + row[3] , 'value':row[2]}\n",
    "            df_aux = df_aux.append(new_row, ignore_index=True)\n",
    "            \n",
    "    # plot heatmap\n",
    "    if comfort == 'thermal':\n",
    "        palette = palette_thermal\n",
    "    elif comfort == 'visual':\n",
    "        palette = palette_visual\n",
    "    elif comfort == 'aural':\n",
    "        palette = palette_aural\n",
    "\n",
    "    heatmap_args_nolim_sq = heatmap_args_nolim.copy()\n",
    "    heatmap_args_nolim_sq['cmap']=palette\n",
    "\n",
    "    df_aux = df_aux.pivot(\"comfort\", \"datapoint\", \"value\")\n",
    "\n",
    "    sns.heatmap(df_aux, ax=ax, **heatmap_args_nolim_sq)\n",
    "    \n",
    "    ax.set_frame_on(True)\n",
    "    ax.set_xticks([])\n",
    "    ax.set_yticks([])\n",
    "    ax.set_xlabel('')\n",
    "    ax.set_ylabel('')\n"
   ]
  },
  {
   "cell_type": "markdown",
   "metadata": {},
   "source": [
    "## Thermal series"
   ]
  },
  {
   "cell_type": "code",
   "execution_count": 23,
   "metadata": {},
   "outputs": [
    {
     "name": "stdout",
     "output_type": "stream",
     "text": [
      "0\n",
      "2\n",
      "1\n"
     ]
    },
    {
     "data": {
      "image/png": "[encoded data removed]",
      "text/plain": [
       "<Figure size 1728x1224 with 3 Axes>"
      ]
     },
     "metadata": {},
     "output_type": "display_data"
    }
   ],
   "source": [
    "if cluster_all:\n",
    "    # plotting all clusters thermal\n",
    "    df_merged_clusters_sorted = df_merged_clusters.sort_values(by=['prefer_cooler'], ascending=False)\n",
    "    comfort = \"thermal\"\n",
    "\n",
    "    figure, axes = plt.subplots(3, 1, figsize=(24, 17))\n",
    "\n",
    "    for ax, big_cluster in zip(axes.flatten(), [9, 10, 11]):\n",
    "        print(big_cluster)\n",
    "        plot_heatmap_tiles(df_merged_clusters_sorted[df_merged_clusters_sorted['big_cluster-thermal_cluster'] == big_cluster], \n",
    "                           ax, \n",
    "                           comfort=comfort, \n",
    "                           series_limit=75)\n",
    "\n",
    "    figure.tight_layout()\n",
    "    figure.savefig(\"hetmap_series_\" + comfort + \".pdf\", bbox_inches='tight')\n",
    "\n",
    "else:\n",
    "    df_merged_clusters_sorted = df_merged_clusters.sort_values(by=['prefer_cooler_x'], ascending=False)\n",
    "    comfort = \"thermal\"\n",
    "    \n",
    "    figure, axes = plt.subplots(3, 1, figsize=(24, 17))\n",
    "\n",
    "    for ax, big_cluster in zip(axes.flatten(), [0, 2, 1]):\n",
    "        print(big_cluster)\n",
    "        plot_heatmap_tiles(df_merged_clusters_sorted[df_merged_clusters_sorted['thermal_cluster'] == big_cluster], \n",
    "                           ax, \n",
    "                           comfort=comfort, \n",
    "                           series_limit=75)\n",
    "\n",
    "    figure.tight_layout()\n",
    "    figure.savefig(\"hetmap_series_\" + comfort + \".pdf\", bbox_inches='tight')\n",
    "    "
   ]
  },
  {
   "cell_type": "markdown",
   "metadata": {},
   "source": [
    "## Visual series"
   ]
  },
  {
   "cell_type": "code",
   "execution_count": 24,
   "metadata": {},
   "outputs": [
    {
     "name": "stdout",
     "output_type": "stream",
     "text": [
      "1\n",
      "0\n",
      "2\n"
     ]
    },
    {
     "data": {
      "image/png": "[encoded data removed]",
      "text/plain": [
       "<Figure size 1584x1224 with 3 Axes>"
      ]
     },
     "metadata": {},
     "output_type": "display_data"
    }
   ],
   "source": [
    "if cluster_all:\n",
    "    # plotting all clusters visual\n",
    "    df_merged_clusters_sorted = df_merged_clusters.sort_values(by=['prefer_dimmer'], ascending=False)\n",
    "    comfort = \"visual\"\n",
    "\n",
    "    figure, axes = plt.subplots(3, 1, figsize=(23, 17))\n",
    "\n",
    "    for ax, big_cluster in zip(axes.flatten(), [9, 10, 11]):\n",
    "        print(big_cluster)\n",
    "        plot_heatmap_tiles(df_merged_clusters_sorted[df_merged_clusters_sorted['big_cluster-thermal'] == big_cluster], \n",
    "                           ax, \n",
    "                           comfort=comfort, \n",
    "                           series_limit=75)\n",
    "\n",
    "    figure.tight_layout()\n",
    "    figure.savefig(\"hetmap_series_\" + comfort + \".pdf\", bbox_inches='tight')\n",
    "else:\n",
    "    # plotting all clusters visual\n",
    "    df_merged_clusters_sorted = df_merged_clusters.sort_values(by=['prefer_dimmer'], ascending=False)\n",
    "    comfort = \"visual\"\n",
    "\n",
    "    figure, axes = plt.subplots(3, 1, figsize=(22, 17))\n",
    "\n",
    "    for ax, big_cluster in zip(axes.flatten(), [1, 0, 2]):\n",
    "        print(big_cluster)\n",
    "        plot_heatmap_tiles(df_merged_clusters_sorted[df_merged_clusters_sorted['light_cluster'] == big_cluster], \n",
    "                           ax, \n",
    "                           comfort=comfort, \n",
    "                           series_limit=75)\n",
    "\n",
    "    figure.tight_layout()\n",
    "    figure.savefig(\"hetmap_series_\" + comfort + \".pdf\", bbox_inches='tight')\n",
    "    \n",
    "    "
   ]
  },
  {
   "cell_type": "markdown",
   "metadata": {},
   "source": [
    "## Aural series"
   ]
  },
  {
   "cell_type": "code",
   "execution_count": 25,
   "metadata": {},
   "outputs": [
    {
     "name": "stdout",
     "output_type": "stream",
     "text": [
      "0\n",
      "1\n"
     ]
    },
    {
     "data": {
      "image/png": "[encoded data removed]",
      "text/plain": [
       "<Figure size 1800x1224 with 2 Axes>"
      ]
     },
     "metadata": {},
     "output_type": "display_data"
    }
   ],
   "source": [
    "if cluster_all:\n",
    "    # plotting all clusters aural\n",
    "    df_merged_clusters_sorted = df_merged_clusters.sort_values(by=['prefer_quieter'], ascending=False)\n",
    "    comfort = \"aural\"\n",
    "\n",
    "    figure, axes = plt.subplots(2, 1, figsize=(25, 17))\n",
    "\n",
    "    for ax, big_cluster in zip(axes.flatten(), [10, 11]):\n",
    "        print(big_cluster)\n",
    "        plot_heatmap_tiles(df_merged_clusters_sorted[df_merged_clusters_sorted['big_cluster-thermal'] == big_cluster], \n",
    "                           ax, \n",
    "                           comfort=comfort, \n",
    "                           series_limit=75)\n",
    "\n",
    "    figure.tight_layout()\n",
    "    figure.savefig(\"hetmap_series_\" + comfort + \".pdf\", bbox_inches='tight')\n",
    "\n",
    "else:\n",
    "    # plotting all clusters aural\n",
    "    df_merged_clusters_sorted = df_merged_clusters.sort_values(by=['prefer_quieter'], ascending=False)\n",
    "    comfort = \"aural\"\n",
    "\n",
    "    figure, axes = plt.subplots(2, 1, figsize=(25, 17))\n",
    "\n",
    "    for ax, big_cluster in zip(axes.flatten(), [0, 1]):\n",
    "        print(big_cluster)\n",
    "        plot_heatmap_tiles(df_merged_clusters_sorted[df_merged_clusters_sorted['aural_cluster'] == big_cluster], \n",
    "                           ax, \n",
    "                           comfort=comfort, \n",
    "                           series_limit=75)\n",
    "\n",
    "    figure.tight_layout()\n",
    "    figure.savefig(\"hetmap_series_\" + comfort + \".pdf\", bbox_inches='tight')\n"
   ]
  },
  {
   "cell_type": "code",
   "execution_count": null,
   "metadata": {},
   "outputs": [],
   "source": []
  }
 ],
 "metadata": {
  "kernelspec": {
   "display_name": "cresh-data-crunch",
   "language": "python",
   "name": "cresh-data-crunch"
  },
  "language_info": {
   "codemirror_mode": {
    "name": "ipython",
    "version": 3
   },
   "file_extension": ".py",
   "mimetype": "text/x-python",
   "name": "python",
   "nbconvert_exporter": "python",
   "pygments_lexer": "ipython3",
   "version": "3.7.4"
  }
 },
 "nbformat": 4,
 "nbformat_minor": 4
}
